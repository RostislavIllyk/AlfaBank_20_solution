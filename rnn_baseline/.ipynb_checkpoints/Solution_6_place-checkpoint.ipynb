{
 "cells": [
  {
   "cell_type": "markdown",
   "metadata": {},
   "source": [
    "### План решения."
   ]
  },
  {
   "cell_type": "markdown",
   "metadata": {},
   "source": [
    "1. Обучаемся и валидируемся на семи фолдах. \n",
    "2. Сперва получаем результаты используя базовую сеть.\n",
    "3. Затем берем из этой сети эмбеддинги данных и учим бустер.\n",
    "4. Затем из полученных предсказаний выбираем крайние и даем им псевдо метки. Расширяем трейн.\n",
    "5. Повторяем обучение в сети и бустинге.\n",
    "6. Из всех ранее полученных предсказаний выбираем то усреднение которое дает лучший ROCAUC.\n",
    "7. Всё выше перечисленное выполняется для каждого фолда отдельно и затем собирается в конечный результат."
   ]
  },
  {
   "cell_type": "markdown",
   "metadata": {},
   "source": [
    "### 0. Imports and requirements"
   ]
  },
  {
   "cell_type": "code",
   "execution_count": 1,
   "metadata": {},
   "outputs": [],
   "source": [
    "%load_ext autoreload\n",
    "%autoreload 2\n",
    "\n",
    "import os\n",
    "import pandas as pd\n",
    "import sys\n",
    "import pickle\n",
    "import numpy as np\n",
    "from tensorflow import keras\n",
    "from tensorflow.keras import layers as L\n",
    "from tensorflow.keras import Model\n",
    "\n",
    "\n",
    "from sklearn import metrics\n",
    "from sklearn.metrics import roc_auc_score\n",
    "from sklearn.model_selection import KFold\n",
    "import lightgbm as lgb \n",
    "from bayes_opt import BayesianOptimization\n",
    "from itertools import combinations\n",
    "\n",
    "import tqdm\n",
    "import time\n",
    "import warnings\n",
    "warnings.filterwarnings(\"ignore\")\n",
    "\n",
    "\n",
    "\n",
    "os.environ[\"CUDA_VISIBLE_DEVICES\"] = \"0\"\n",
    "pd.set_option('display.max_columns', None)\n",
    "\n",
    "# добавим родительскую директорию, в ней лежат все необходимые полезные функции для обработки данных\n",
    "sys.path.append('../')"
   ]
  },
  {
   "cell_type": "code",
   "execution_count": 2,
   "metadata": {},
   "outputs": [],
   "source": [
    "import matplotlib.pyplot as plt\n",
    "plt.style.use(\"seaborn-pastel\")"
   ]
  },
  {
   "cell_type": "markdown",
   "metadata": {},
   "source": [
    "### 1. Data Preprocessing"
   ]
  },
  {
   "cell_type": "code",
   "execution_count": 3,
   "metadata": {},
   "outputs": [],
   "source": [
    "TRAIN_DATA_PATH = \"../data/train_data/\"\n",
    "TEST_DATA_PATH = \"../data/test_data/\"\n",
    "\n",
    "TRAIN_TARGET_PATH = \"../data/train_target.csv\""
   ]
  },
  {
   "cell_type": "code",
   "execution_count": 4,
   "metadata": {},
   "outputs": [
    {
     "data": {
      "text/html": [
       "<div>\n",
       "<style scoped>\n",
       "    .dataframe tbody tr th:only-of-type {\n",
       "        vertical-align: middle;\n",
       "    }\n",
       "\n",
       "    .dataframe tbody tr th {\n",
       "        vertical-align: top;\n",
       "    }\n",
       "\n",
       "    .dataframe thead th {\n",
       "        text-align: right;\n",
       "    }\n",
       "</style>\n",
       "<table border=\"1\" class=\"dataframe\">\n",
       "  <thead>\n",
       "    <tr style=\"text-align: right;\">\n",
       "      <th></th>\n",
       "      <th>id</th>\n",
       "      <th>flag</th>\n",
       "    </tr>\n",
       "  </thead>\n",
       "  <tbody>\n",
       "    <tr>\n",
       "      <th>0</th>\n",
       "      <td>0</td>\n",
       "      <td>0</td>\n",
       "    </tr>\n",
       "    <tr>\n",
       "      <th>1</th>\n",
       "      <td>1</td>\n",
       "      <td>0</td>\n",
       "    </tr>\n",
       "    <tr>\n",
       "      <th>2</th>\n",
       "      <td>2</td>\n",
       "      <td>0</td>\n",
       "    </tr>\n",
       "    <tr>\n",
       "      <th>3</th>\n",
       "      <td>3</td>\n",
       "      <td>0</td>\n",
       "    </tr>\n",
       "    <tr>\n",
       "      <th>4</th>\n",
       "      <td>4</td>\n",
       "      <td>0</td>\n",
       "    </tr>\n",
       "    <tr>\n",
       "      <th>...</th>\n",
       "      <td>...</td>\n",
       "      <td>...</td>\n",
       "    </tr>\n",
       "    <tr>\n",
       "      <th>2999995</th>\n",
       "      <td>2999995</td>\n",
       "      <td>0</td>\n",
       "    </tr>\n",
       "    <tr>\n",
       "      <th>2999996</th>\n",
       "      <td>2999996</td>\n",
       "      <td>0</td>\n",
       "    </tr>\n",
       "    <tr>\n",
       "      <th>2999997</th>\n",
       "      <td>2999997</td>\n",
       "      <td>0</td>\n",
       "    </tr>\n",
       "    <tr>\n",
       "      <th>2999998</th>\n",
       "      <td>2999998</td>\n",
       "      <td>0</td>\n",
       "    </tr>\n",
       "    <tr>\n",
       "      <th>2999999</th>\n",
       "      <td>2999999</td>\n",
       "      <td>0</td>\n",
       "    </tr>\n",
       "  </tbody>\n",
       "</table>\n",
       "<p>3000000 rows × 2 columns</p>\n",
       "</div>"
      ],
      "text/plain": [
       "              id  flag\n",
       "0              0     0\n",
       "1              1     0\n",
       "2              2     0\n",
       "3              3     0\n",
       "4              4     0\n",
       "...          ...   ...\n",
       "2999995  2999995     0\n",
       "2999996  2999996     0\n",
       "2999997  2999997     0\n",
       "2999998  2999998     0\n",
       "2999999  2999999     0\n",
       "\n",
       "[3000000 rows x 2 columns]"
      ]
     },
     "execution_count": 4,
     "metadata": {},
     "output_type": "execute_result"
    }
   ],
   "source": [
    "train_target = pd.read_csv(TRAIN_TARGET_PATH)\n",
    "train_target"
   ]
  },
  {
   "cell_type": "markdown",
   "metadata": {},
   "source": [
    "* Как и в случае с бустингами, мы не можем поместить всю выборку в память ввиду, например, ограниченных ресурсов. Для итеративного чтения данных нам потребуется функция `utils.read_parquet_dataset_from_local`, которая читает N частей датасета за раз в память.\n",
    "\n",
    "\n",
    "* Нейронные сети требуют отдельного внимания к тому, как будут предобработаны и поданы данные. Важные моменты, на которые требуется обратить внимание:\n",
    "    1. Использование рекуррентных сетей подразумевает работу на уровне последовательностей, где одна последовательность &ndash; все исторические кредиты клиента. Чтобы преобразовать `pd.DataFrame` с записями из кредитных историй клиентов в табличном виде к последовательностям, мы подготовили функцию `dataset_preprocessing_utils.transform_credits_to_sequences`, она производит необходимые манипуляции и возвращает фрейм с двумя колонками: `id` и `sequences`. Колонка `sequences` представляет из себя список списков длины `len(features)`, где каждый вложенный список &ndash; значения одного конкретного признака во всех кредитах клиента. \n",
    "    \n",
    "    2. Клиенты могут иметь различные по длине кредитные истории. При этом обучение нейронных сетей происходит батчами и поскольку рекуррентные слои не способны обрабатывать батчи с последовательностями  неодинаковой длины, существует несколько подходов для приведения последовтельностей в батче к удобоваримому виду. Простой подход заключается в дополнении более коротких последовательностей нулями до максимальной длины последовательности в батче (т. н. паддинг). Довольно неэффективно делать паддинг внутри батча на последовательностях случайной длины (часто будем делать большой и бесполезный паддинг). Гораздо лучше использовать технику `Sequence Bucketing` (о ней мы рассказываем в нашем треке). Для реализации паддинга последовательностей кредитов клиентов мы подготовили функцию `dataset_preprocessing_utils.create_padded_buckets`."
   ]
  },
  {
   "cell_type": "code",
   "execution_count": 5,
   "metadata": {},
   "outputs": [],
   "source": [
    "from utils import read_parquet_dataset_from_local\n",
    "from dataset_preprocessing_utils import features, transform_credits_to_sequences, create_padded_buckets"
   ]
  },
  {
   "cell_type": "markdown",
   "metadata": {},
   "source": [
    "* В дальнейшем при построении рекуррентной нейронной сети нам понадобятся следующие статистики по тренировочной и тестовой выборкам: распределение длин кредитных историй и число уникальных значений каждого категориального значения. Посчитаем эти статистики:"
   ]
  },
  {
   "cell_type": "code",
   "execution_count": 6,
   "metadata": {},
   "outputs": [
    {
     "data": {
      "application/vnd.jupyter.widget-view+json": {
       "model_id": "5beeca5da45d484181e8a6ca92d6992b",
       "version_major": 2,
       "version_minor": 0
      },
      "text/plain": [
       "Count statistics on train data:   0%|          | 0/3 [00:00<?, ?it/s]"
      ]
     },
     "metadata": {},
     "output_type": "display_data"
    },
    {
     "name": "stdout",
     "output_type": "stream",
     "text": [
      "Reading chunks:\n",
      "../data/train_data/train_data_0.pq\n",
      "../data/train_data/train_data_1.pq\n",
      "../data/train_data/train_data_2.pq\n",
      "../data/train_data/train_data_3.pq\n"
     ]
    },
    {
     "data": {
      "application/vnd.jupyter.widget-view+json": {
       "model_id": "dc433443f1914fb3babbf88e9dce9a28",
       "version_major": 2,
       "version_minor": 0
      },
      "text/plain": [
       "Reading dataset with pandas:   0%|          | 0/4 [00:00<?, ?it/s]"
      ]
     },
     "metadata": {},
     "output_type": "display_data"
    },
    {
     "name": "stdout",
     "output_type": "stream",
     "text": [
      "Reading chunks:\n",
      "../data/train_data/train_data_4.pq\n",
      "../data/train_data/train_data_5.pq\n",
      "../data/train_data/train_data_6.pq\n",
      "../data/train_data/train_data_7.pq\n"
     ]
    },
    {
     "data": {
      "application/vnd.jupyter.widget-view+json": {
       "model_id": "68256a47474c4ecd9835ddb82895205b",
       "version_major": 2,
       "version_minor": 0
      },
      "text/plain": [
       "Reading dataset with pandas:   0%|          | 0/4 [00:00<?, ?it/s]"
      ]
     },
     "metadata": {},
     "output_type": "display_data"
    },
    {
     "name": "stdout",
     "output_type": "stream",
     "text": [
      "Reading chunks:\n",
      "../data/train_data/train_data_8.pq\n",
      "../data/train_data/train_data_9.pq\n",
      "../data/train_data/train_data_10.pq\n",
      "../data/train_data/train_data_11.pq\n"
     ]
    },
    {
     "data": {
      "application/vnd.jupyter.widget-view+json": {
       "model_id": "2ce2863684f240c3865fbca0dbe349e7",
       "version_major": 2,
       "version_minor": 0
      },
      "text/plain": [
       "Reading dataset with pandas:   0%|          | 0/4 [00:00<?, ?it/s]"
      ]
     },
     "metadata": {},
     "output_type": "display_data"
    },
    {
     "data": {
      "application/vnd.jupyter.widget-view+json": {
       "model_id": "a3b3bacf7fcf4df9a14616db7de23dd2",
       "version_major": 2,
       "version_minor": 0
      },
      "text/plain": [
       "Count statistics on test data:   0%|          | 0/1 [00:00<?, ?it/s]"
      ]
     },
     "metadata": {},
     "output_type": "display_data"
    },
    {
     "name": "stdout",
     "output_type": "stream",
     "text": [
      "Reading chunks:\n",
      "../data/test_data/test_data_0.pq\n",
      "../data/test_data/test_data_1.pq\n"
     ]
    },
    {
     "data": {
      "application/vnd.jupyter.widget-view+json": {
       "model_id": "e592d0e59f9a4693bc4150c64cd5fba5",
       "version_major": 2,
       "version_minor": 0
      },
      "text/plain": [
       "Reading dataset with pandas:   0%|          | 0/2 [00:00<?, ?it/s]"
      ]
     },
     "metadata": {},
     "output_type": "display_data"
    },
    {
     "name": "stdout",
     "output_type": "stream",
     "text": [
      "CPU times: total: 59.5 s\n",
      "Wall time: 34.1 s\n"
     ]
    }
   ],
   "source": [
    "%%time\n",
    "from collections import defaultdict\n",
    "\n",
    "\n",
    "train_lens = []\n",
    "test_lens = []\n",
    "uniques = defaultdict(set)\n",
    "\n",
    "for step in tqdm.notebook.tqdm(range(0, 12, 4),\n",
    "                     desc=\"Count statistics on train data\"):\n",
    "        credits_frame = read_parquet_dataset_from_local(TRAIN_DATA_PATH, step, 4, verbose=True)\n",
    "        seq_lens = credits_frame.groupby(\"id\").agg(seq_len=(\"rn\", \"max\"))[\"seq_len\"].values\n",
    "        train_lens.extend(seq_lens)\n",
    "        credits_frame.drop(columns=[\"id\", \"rn\"], inplace=True)\n",
    "        for feat in credits_frame.columns.values:\n",
    "            uniques[feat] = uniques[feat].union(credits_frame[feat].unique())\n",
    "train_lens = np.hstack(train_lens)\n",
    "\n",
    "for step in tqdm.notebook.tqdm(range(0, 2, 2),\n",
    "                     desc=\"Count statistics on test data\"):\n",
    "        credits_frame = read_parquet_dataset_from_local(TEST_DATA_PATH, step, 2, verbose=True)\n",
    "        seq_lens = credits_frame.groupby(\"id\").agg(seq_len=(\"rn\", \"max\"))[\"seq_len\"].values\n",
    "        test_lens.extend(seq_lens)\n",
    "        credits_frame.drop(columns=[\"id\", \"rn\"], inplace=True)\n",
    "        for feat in credits_frame.columns.values:\n",
    "            uniques[feat] = uniques[feat].union(credits_frame[feat].unique())\n",
    "test_lens = np.hstack(test_lens)\n",
    "uniques = dict(uniques)"
   ]
  },
  {
   "cell_type": "markdown",
   "metadata": {},
   "source": [
    "* Чтобы сразу убедиться, что посчитанные статистики интересные и полезные, построим графики распределений длин кредитных историй в тренировочной и тестовой выборках"
   ]
  },
  {
   "cell_type": "code",
   "execution_count": 7,
   "metadata": {},
   "outputs": [],
   "source": [
    "from collections import Counter\n",
    "\n",
    "\n",
    "train_len_counter = pd.Series(Counter(train_lens)).sort_index()\n",
    "test_len_counter = pd.Series(Counter(test_lens)).sort_index()"
   ]
  },
  {
   "cell_type": "code",
   "execution_count": 8,
   "metadata": {},
   "outputs": [
    {
     "data": {
      "text/plain": [
       "<BarContainer object of 54 artists>"
      ]
     },
     "execution_count": 8,
     "metadata": {},
     "output_type": "execute_result"
    },
    {
     "data": {
      "image/png": "[encoded data removed]",
      "text/plain": [
       "<Figure size 1080x432 with 1 Axes>"
      ]
     },
     "metadata": {
      "needs_background": "light"
     },
     "output_type": "display_data"
    }
   ],
   "source": [
    "fig, ax = plt.subplots(figsize=(15, 6), nrows=1)\n",
    "ax.bar(train_len_counter.index.values, train_len_counter.values)"
   ]
  },
  {
   "cell_type": "code",
   "execution_count": 9,
   "metadata": {},
   "outputs": [
    {
     "data": {
      "text/plain": [
       "<BarContainer object of 50 artists>"
      ]
     },
     "execution_count": 9,
     "metadata": {},
     "output_type": "execute_result"
    },
    {
     "data": {
      "image/png": "[encoded data removed]",
      "text/plain": [
       "<Figure size 1080x432 with 1 Axes>"
      ]
     },
     "metadata": {
      "needs_background": "light"
     },
     "output_type": "display_data"
    }
   ],
   "source": [
    "fig, ax = plt.subplots(figsize=(15, 6), nrows=1)\n",
    "ax.bar(test_len_counter.index.values, test_len_counter.values)"
   ]
  },
  {
   "cell_type": "code",
   "execution_count": 10,
   "metadata": {},
   "outputs": [
    {
     "data": {
      "text/plain": [
       "(58, 57)"
      ]
     },
     "execution_count": 10,
     "metadata": {},
     "output_type": "execute_result"
    }
   ],
   "source": [
    "train_lens.max(), test_lens.max()"
   ]
  },
  {
   "cell_type": "markdown",
   "metadata": {},
   "source": [
    "* Один из аргументов в функции `dataset_preprocessing_utils.create_padded_buckets` &ndash; `bucket_info` &ndash; словарь, где для конкретной длины последовательности указано до какой длины нужно делать паддинг. Для данного бэйзлайна возьмем простое разбиение на 43 бакета: \n",
    "| Длина последовательности | Длина после паддинга |\n",
    "| :-: | :-: \n",
    "| 1 &ndash; 40 | без изменений |\n",
    "| 41 &ndash; 45 | 45 |\n",
    "| 46 &ndash; 50 | 50 |\n",
    "| 51 &ndash; 58 | 58 |"
   ]
  },
  {
   "cell_type": "code",
   "execution_count": 11,
   "metadata": {},
   "outputs": [
    {
     "data": {
      "text/plain": [
       "{1: 1,\n",
       " 2: 2,\n",
       " 3: 3,\n",
       " 4: 4,\n",
       " 5: 5,\n",
       " 6: 6,\n",
       " 7: 7,\n",
       " 8: 8,\n",
       " 9: 9,\n",
       " 10: 10,\n",
       " 11: 11,\n",
       " 12: 12,\n",
       " 13: 13,\n",
       " 14: 14,\n",
       " 15: 15,\n",
       " 16: 16,\n",
       " 17: 17,\n",
       " 18: 18,\n",
       " 19: 19,\n",
       " 20: 20,\n",
       " 21: 21,\n",
       " 22: 22,\n",
       " 23: 23,\n",
       " 24: 24,\n",
       " 25: 25,\n",
       " 26: 26,\n",
       " 27: 27,\n",
       " 28: 28,\n",
       " 29: 29,\n",
       " 30: 30,\n",
       " 31: 31,\n",
       " 32: 32,\n",
       " 33: 33,\n",
       " 34: 34,\n",
       " 35: 35,\n",
       " 36: 36,\n",
       " 37: 37,\n",
       " 38: 38,\n",
       " 39: 39,\n",
       " 40: 40,\n",
       " 41: 45,\n",
       " 42: 45,\n",
       " 43: 45,\n",
       " 44: 45,\n",
       " 45: 45,\n",
       " 46: 50,\n",
       " 47: 50,\n",
       " 48: 50,\n",
       " 49: 50,\n",
       " 50: 50,\n",
       " 51: 58,\n",
       " 52: 58,\n",
       " 53: 58,\n",
       " 54: 58,\n",
       " 55: 58,\n",
       " 56: 58,\n",
       " 57: 58,\n",
       " 58: 58}"
      ]
     },
     "execution_count": 11,
     "metadata": {},
     "output_type": "execute_result"
    }
   ],
   "source": [
    "keys_ = list(range(1, 59)) \n",
    "lens_ = list(range(1, 41)) + [45] * 5 + [50] * 5 + [58] * 8\n",
    "bucket_info = dict(zip(keys_, lens_))\n",
    "bucket_info"
   ]
  },
  {
   "cell_type": "markdown",
   "metadata": {},
   "source": [
    "* Так же рассмотрим уникальные значения признаков"
   ]
  },
  {
   "cell_type": "code",
   "execution_count": 12,
   "metadata": {
    "scrolled": false
   },
   "outputs": [
    {
     "name": "stdout",
     "output_type": "stream",
     "text": [
      "Feature: pre_since_opened, unique values: {0, 1, 2, 3, 4, 5, 6, 7, 8, 9, 10, 11, 12, 13, 14, 15, 16, 17, 18, 19}\n",
      "Feature: pre_since_confirmed, unique values: {0, 1, 2, 3, 4, 5, 6, 7, 8, 9, 10, 11, 12, 13, 14, 15, 16, 17}\n",
      "Feature: pre_pterm, unique values: {0, 1, 2, 3, 4, 5, 6, 7, 8, 9, 10, 11, 12, 13, 14, 15, 16, 17}\n",
      "Feature: pre_fterm, unique values: {0, 1, 2, 3, 4, 5, 6, 7, 8, 9, 10, 11, 12, 13, 14, 15, 16}\n",
      "Feature: pre_till_pclose, unique values: {0, 1, 2, 3, 4, 5, 6, 7, 8, 9, 10, 11, 12, 13, 14, 15, 16}\n",
      "Feature: pre_till_fclose, unique values: {0, 1, 2, 3, 4, 5, 6, 7, 8, 9, 10, 11, 12, 13, 14, 15}\n",
      "Feature: pre_loans_credit_limit, unique values: {0, 1, 2, 3, 4, 5, 6, 7, 8, 9, 10, 11, 12, 13, 14, 15, 16, 17, 18, 19}\n",
      "Feature: pre_loans_next_pay_summ, unique values: {0, 1, 2, 3, 4, 5, 6, 7}\n",
      "Feature: pre_loans_outstanding, unique values: {1, 2, 3, 4, 5}\n",
      "Feature: pre_loans_total_overdue, unique values: {0, 1}\n",
      "Feature: pre_loans_max_overdue_sum, unique values: {0, 1, 2, 3}\n",
      "Feature: pre_loans_credit_cost_rate, unique values: {0, 1, 2, 3, 4, 5, 6, 7, 8, 9, 10, 11, 12, 13}\n",
      "Feature: pre_loans5, unique values: {0, 1, 2, 3, 4, 5, 6, 7, 8, 9, 10, 11, 13, 14, 15, 16, 17}\n",
      "Feature: pre_loans530, unique values: {0, 1, 2, 3, 4, 5, 6, 7, 8, 9, 10, 11, 12, 13, 14, 15, 16, 17, 18, 19}\n",
      "Feature: pre_loans3060, unique values: {0, 1, 2, 3, 4, 5, 6, 7, 8, 9}\n",
      "Feature: pre_loans6090, unique values: {0, 1, 2, 3, 4, 5}\n",
      "Feature: pre_loans90, unique values: {1, 2, 3, 4, 8, 10, 11, 13, 14, 18, 19}\n",
      "Feature: is_zero_loans5, unique values: {0, 1}\n",
      "Feature: is_zero_loans530, unique values: {0, 1}\n",
      "Feature: is_zero_loans3060, unique values: {0, 1}\n",
      "Feature: is_zero_loans6090, unique values: {0, 1}\n",
      "Feature: is_zero_loans90, unique values: {0, 1}\n",
      "Feature: pre_util, unique values: {0, 1, 2, 3, 4, 5, 6, 7, 8, 9, 10, 11, 12, 13, 14, 15, 16, 17, 18, 19}\n",
      "Feature: pre_over2limit, unique values: {0, 1, 2, 3, 4, 5, 6, 7, 8, 9, 10, 11, 12, 13, 14, 15, 16, 17, 18, 19}\n",
      "Feature: pre_maxover2limit, unique values: {0, 1, 2, 3, 4, 5, 6, 7, 8, 9, 10, 11, 12, 13, 14, 15, 16, 17, 18, 19}\n",
      "Feature: is_zero_util, unique values: {0, 1}\n",
      "Feature: is_zero_over2limit, unique values: {0, 1}\n",
      "Feature: is_zero_maxover2limit, unique values: {0, 1}\n",
      "Feature: enc_paym_0, unique values: {0, 1, 2, 3}\n",
      "Feature: enc_paym_1, unique values: {0, 1, 2, 3}\n",
      "Feature: enc_paym_2, unique values: {0, 1, 2, 3}\n",
      "Feature: enc_paym_3, unique values: {0, 1, 2, 3}\n",
      "Feature: enc_paym_4, unique values: {0, 1, 2, 3}\n",
      "Feature: enc_paym_5, unique values: {0, 1, 2, 3}\n",
      "Feature: enc_paym_6, unique values: {0, 1, 2, 3}\n",
      "Feature: enc_paym_7, unique values: {0, 1, 2, 3}\n",
      "Feature: enc_paym_8, unique values: {0, 1, 2, 3}\n",
      "Feature: enc_paym_9, unique values: {0, 1, 2, 3}\n",
      "Feature: enc_paym_10, unique values: {0, 1, 2, 3}\n",
      "Feature: enc_paym_11, unique values: {1, 2, 3, 4}\n",
      "Feature: enc_paym_12, unique values: {0, 1, 2, 3}\n",
      "Feature: enc_paym_13, unique values: {0, 1, 2, 3}\n",
      "Feature: enc_paym_14, unique values: {0, 1, 2, 3}\n",
      "Feature: enc_paym_15, unique values: {0, 1, 2, 3}\n",
      "Feature: enc_paym_16, unique values: {0, 1, 2, 3}\n",
      "Feature: enc_paym_17, unique values: {0, 1, 2, 3}\n",
      "Feature: enc_paym_18, unique values: {0, 1, 2, 3}\n",
      "Feature: enc_paym_19, unique values: {0, 1, 2, 3}\n",
      "Feature: enc_paym_20, unique values: {1, 2, 3, 4}\n",
      "Feature: enc_paym_21, unique values: {0, 1, 2, 3}\n",
      "Feature: enc_paym_22, unique values: {0, 1, 2, 3}\n",
      "Feature: enc_paym_23, unique values: {0, 1, 2, 3}\n",
      "Feature: enc_paym_24, unique values: {1, 2, 3, 4}\n",
      "Feature: enc_loans_account_holder_type, unique values: {0, 1, 2, 3, 4, 5, 6}\n",
      "Feature: enc_loans_credit_status, unique values: {0, 1, 2, 3, 4, 5, 6}\n",
      "Feature: enc_loans_credit_type, unique values: {0, 1, 2, 3, 4, 5, 6, 7}\n",
      "Feature: enc_loans_account_cur, unique values: {0, 1, 2, 3}\n",
      "Feature: pclose_flag, unique values: {0, 1}\n",
      "Feature: fclose_flag, unique values: {0, 1}\n"
     ]
    }
   ],
   "source": [
    "for feat, uniq in uniques.items():\n",
    "    print(f\"Feature: {feat}, unique values: {uniq}\")"
   ]
  },
  {
   "cell_type": "markdown",
   "metadata": {},
   "source": [
    "* Поскольку паддинг будет производиться нулями, а категориальные признаки закодированы, начиная с 0, перед паддингом будем сдвигать все значения на 1."
   ]
  },
  {
   "cell_type": "markdown",
   "metadata": {},
   "source": [
    "* Вся описанная выше предобработка данных реализована в виде функции `create_buckets_from_credits`:"
   ]
  },
  {
   "cell_type": "code",
   "execution_count": 13,
   "metadata": {},
   "outputs": [],
   "source": [
    "def create_buckets_from_credits(path_to_dataset, bucket_info, save_to_path, frame_with_ids = None, \n",
    "                                num_parts_to_preprocess_at_once: int = 1, \n",
    "                                num_parts_total=50, has_target=False):\n",
    "    block = 0\n",
    "    for step in tqdm.notebook.tqdm(range(0, num_parts_total, num_parts_to_preprocess_at_once),\n",
    "                     desc=\"Preparing credit data\"):\n",
    "        credits_frame = read_parquet_dataset_from_local(path_to_dataset, step, num_parts_to_preprocess_at_once, verbose=True)\n",
    "        credits_frame.loc[:, features] += 1       \n",
    "        seq = transform_credits_to_sequences(credits_frame)\n",
    "        print(\"Transforming credits to sequences is done.\")\n",
    "        \n",
    "        if frame_with_ids is not None:\n",
    "            seq = seq.merge(frame_with_ids, on=\"id\")\n",
    "\n",
    "        block_as_str = str(block)\n",
    "        if len(block_as_str) == 1:\n",
    "            block_as_str = \"00\" + block_as_str\n",
    "        else:\n",
    "            block_as_str = \"0\" + block_as_str\n",
    "            \n",
    "        processed_fragment =  create_padded_buckets(seq, bucket_info=bucket_info, has_target=has_target, \n",
    "                                                    save_to_file_path=os.path.join(save_to_path, \n",
    "                                                                                   f\"processed_chunk_{block_as_str}.pkl\"))\n",
    "        block += 1"
   ]
  },
  {
   "cell_type": "markdown",
   "metadata": {},
   "source": [
    "* Обучение и валидация будут происходить на семи фолдах."
   ]
  },
  {
   "cell_type": "code",
   "execution_count": 15,
   "metadata": {},
   "outputs": [],
   "source": [
    "TRAIN_BUCKETS_PATH_base = \"../data/7Folds/train_buckets_fold_num_\"\n",
    "VAL_BUCKETS_PATH_base = \"../data/7Folds/val_buckets_fold_num_\"\n",
    "TEST_BUCKETS_PATH = \"../data/7Folds/test_buckets_rnn\"\n",
    "\n",
    "np.random.seed(42)\n",
    "\n",
    "train_target = train_target.sample(frac=1, random_state=42).reset_index(drop=True)"
   ]
  },
  {
   "cell_type": "markdown",
   "metadata": {},
   "source": [
    "* Подготовим семь пар данных train, val."
   ]
  },
  {
   "cell_type": "code",
   "execution_count": null,
   "metadata": {},
   "outputs": [],
   "source": [
    "kf = KFold(n_splits=7)\n",
    "\n",
    "fold_num = 0\n",
    "for train_index, test_index in kf.split(train_target):\n",
    "    fold_num = fold_num + 1\n",
    "    print(fold_num)\n",
    "    TRAIN_BUCKETS_PATH = TRAIN_BUCKETS_PATH_base + str(fold_num)\n",
    "    VAL_BUCKETS_PATH = VAL_BUCKETS_PATH_base + str(fold_num)  \n",
    "    print(TRAIN_BUCKETS_PATH)\n",
    "    print(VAL_BUCKETS_PATH)\n",
    "    \n",
    "    #print(\"TRAIN:\", train_index, \"TEST:\", test_index)\n",
    "    train, val = train_target.iloc[train_index], train_target.iloc[test_index]\n",
    "    \n",
    "    #print(train.shape, val.shape)\n",
    "\n",
    "    create_buckets_from_credits(TRAIN_DATA_PATH,\n",
    "                                bucket_info=bucket_info,\n",
    "                                save_to_path=TRAIN_BUCKETS_PATH,\n",
    "                                frame_with_ids=train,\n",
    "                                num_parts_to_preprocess_at_once=4, \n",
    "                                num_parts_total=12, has_target=True)\n",
    "\n",
    "    dataset_train = sorted([os.path.join(TRAIN_BUCKETS_PATH, x) for x in os.listdir(TRAIN_BUCKETS_PATH)])\n",
    "    dataset_train\n",
    "\n",
    "    \n",
    "    create_buckets_from_credits(TRAIN_DATA_PATH,\n",
    "                                bucket_info=bucket_info,\n",
    "                                save_to_path=VAL_BUCKETS_PATH,\n",
    "                                frame_with_ids=val,\n",
    "                                num_parts_to_preprocess_at_once=4, \n",
    "                                num_parts_total=12, has_target=True)\n",
    "\n",
    "    dataset_val = sorted([os.path.join(VAL_BUCKETS_PATH, x) for x in os.listdir(VAL_BUCKETS_PATH)])\n",
    "    dataset_val\n",
    "\n",
    "\n",
    "\n",
    "\n",
    "\n",
    "create_buckets_from_credits(TEST_DATA_PATH,\n",
    "                            bucket_info=bucket_info,\n",
    "                            save_to_path=TEST_BUCKETS_PATH, num_parts_to_preprocess_at_once=2, \n",
    "                            num_parts_total=2)\n",
    "\n",
    "dataset_test = sorted([os.path.join(TEST_BUCKETS_PATH, x) for x in os.listdir(TEST_BUCKETS_PATH)])\n",
    "dataset_test"
   ]
  },
  {
   "cell_type": "code",
   "execution_count": null,
   "metadata": {},
   "outputs": [],
   "source": []
  },
  {
   "cell_type": "code",
   "execution_count": null,
   "metadata": {},
   "outputs": [],
   "source": []
  },
  {
   "cell_type": "code",
   "execution_count": null,
   "metadata": {},
   "outputs": [],
   "source": []
  },
  {
   "cell_type": "code",
   "execution_count": null,
   "metadata": {},
   "outputs": [],
   "source": []
  },
  {
   "cell_type": "code",
   "execution_count": null,
   "metadata": {},
   "outputs": [],
   "source": []
  },
  {
   "cell_type": "code",
   "execution_count": null,
   "metadata": {},
   "outputs": [],
   "source": []
  },
  {
   "cell_type": "code",
   "execution_count": 16,
   "metadata": {},
   "outputs": [],
   "source": [
    "dataset_train = ['../data/7Folds/train_buckets_fold_num_1/processed_chunk_000.pkl',\n",
    "                 '../data/7Folds/train_buckets_fold_num_1/processed_chunk_001.pkl',\n",
    "                 '../data/7Folds/train_buckets_fold_num_1/processed_chunk_002.pkl']\n",
    "\n",
    "dataset_val = ['../data/7Folds/val_buckets_fold_num_1/processed_chunk_000.pkl',\n",
    "               '../data/7Folds/val_buckets_fold_num_1/processed_chunk_001.pkl',\n",
    "               '../data/7Folds/val_buckets_fold_num_1/processed_chunk_002.pkl']\n",
    "\n",
    "dataset_test = ['../data/7Folds/test_buckets_rnn/processed_chunk_000.pkl']\n"
   ]
  },
  {
   "cell_type": "markdown",
   "metadata": {},
   "source": [
    "* В папке MOD_DATA_PATH содержаться и данные трейна и данные теста (файлы теста переименнованы в стиле имен трейна).\n",
    "Эта папка понадобится на этапе псевдолейблинга..."
   ]
  },
  {
   "cell_type": "code",
   "execution_count": 18,
   "metadata": {},
   "outputs": [],
   "source": [
    "MOD_DATA_PATH = \"../data/7Folds/mod_data/\"\n",
    "MOD_TRAIN_TEMPO_BUCKETS_PATH = \"../data/7Folds/new_train_tempo\""
   ]
  },
  {
   "cell_type": "code",
   "execution_count": 19,
   "metadata": {},
   "outputs": [],
   "source": [
    "def get_dataset_mod(train_target_mod):  \n",
    "    \n",
    "    create_buckets_from_credits(MOD_DATA_PATH,\n",
    "                                bucket_info=bucket_info,\n",
    "                                save_to_path=MOD_TRAIN_TEMPO_BUCKETS_PATH,\n",
    "                                frame_with_ids=train_target_mod,\n",
    "                                num_parts_to_preprocess_at_once=2, \n",
    "                                num_parts_total=14, has_target=True)\n",
    "\n",
    "    train_mod = sorted([os.path.join(MOD_TRAIN_TEMPO_BUCKETS_PATH, x) for x in os.listdir(MOD_TRAIN_TEMPO_BUCKETS_PATH)])\n",
    "    \n",
    "    return train_mod"
   ]
  },
  {
   "cell_type": "code",
   "execution_count": null,
   "metadata": {},
   "outputs": [],
   "source": []
  },
  {
   "cell_type": "code",
   "execution_count": null,
   "metadata": {},
   "outputs": [],
   "source": []
  },
  {
   "cell_type": "code",
   "execution_count": null,
   "metadata": {},
   "outputs": [],
   "source": []
  },
  {
   "cell_type": "code",
   "execution_count": null,
   "metadata": {},
   "outputs": [],
   "source": []
  },
  {
   "cell_type": "markdown",
   "metadata": {},
   "source": [
    "### 2. Modeling"
   ]
  },
  {
   "cell_type": "code",
   "execution_count": 20,
   "metadata": {},
   "outputs": [],
   "source": [
    "from data_generators import batches_generator\n",
    "from tf_training import train_epoch, eval_model, inference\n",
    "from training_aux import EarlyStopping"
   ]
  },
  {
   "cell_type": "code",
   "execution_count": 21,
   "metadata": {},
   "outputs": [],
   "source": [
    "def compute_embed_dim(n_cat: int) -> int:\n",
    "    return min(600, round(1.6 * n_cat**0.56))"
   ]
  },
  {
   "cell_type": "code",
   "execution_count": 22,
   "metadata": {},
   "outputs": [
    {
     "data": {
      "text/plain": [
       "{'pre_since_opened': (20, 9),\n",
       " 'pre_since_confirmed': (18, 8),\n",
       " 'pre_pterm': (18, 8),\n",
       " 'pre_fterm': (17, 8),\n",
       " 'pre_till_pclose': (17, 8),\n",
       " 'pre_till_fclose': (16, 8),\n",
       " 'pre_loans_credit_limit': (20, 9),\n",
       " 'pre_loans_next_pay_summ': (8, 5),\n",
       " 'pre_loans_outstanding': (6, 4),\n",
       " 'pre_loans_total_overdue': (2, 2),\n",
       " 'pre_loans_max_overdue_sum': (4, 3),\n",
       " 'pre_loans_credit_cost_rate': (14, 7),\n",
       " 'pre_loans5': (18, 8),\n",
       " 'pre_loans530': (20, 9),\n",
       " 'pre_loans3060': (10, 6),\n",
       " 'pre_loans6090': (6, 4),\n",
       " 'pre_loans90': (20, 9),\n",
       " 'is_zero_loans5': (2, 2),\n",
       " 'is_zero_loans530': (2, 2),\n",
       " 'is_zero_loans3060': (2, 2),\n",
       " 'is_zero_loans6090': (2, 2),\n",
       " 'is_zero_loans90': (2, 2),\n",
       " 'pre_util': (20, 9),\n",
       " 'pre_over2limit': (20, 9),\n",
       " 'pre_maxover2limit': (20, 9),\n",
       " 'is_zero_util': (2, 2),\n",
       " 'is_zero_over2limit': (2, 2),\n",
       " 'is_zero_maxover2limit': (2, 2),\n",
       " 'enc_paym_0': (4, 3),\n",
       " 'enc_paym_1': (4, 3),\n",
       " 'enc_paym_2': (4, 3),\n",
       " 'enc_paym_3': (4, 3),\n",
       " 'enc_paym_4': (4, 3),\n",
       " 'enc_paym_5': (4, 3),\n",
       " 'enc_paym_6': (4, 3),\n",
       " 'enc_paym_7': (4, 3),\n",
       " 'enc_paym_8': (4, 3),\n",
       " 'enc_paym_9': (4, 3),\n",
       " 'enc_paym_10': (4, 3),\n",
       " 'enc_paym_11': (5, 4),\n",
       " 'enc_paym_12': (4, 3),\n",
       " 'enc_paym_13': (4, 3),\n",
       " 'enc_paym_14': (4, 3),\n",
       " 'enc_paym_15': (4, 3),\n",
       " 'enc_paym_16': (4, 3),\n",
       " 'enc_paym_17': (4, 3),\n",
       " 'enc_paym_18': (4, 3),\n",
       " 'enc_paym_19': (4, 3),\n",
       " 'enc_paym_20': (5, 4),\n",
       " 'enc_paym_21': (4, 3),\n",
       " 'enc_paym_22': (4, 3),\n",
       " 'enc_paym_23': (4, 3),\n",
       " 'enc_paym_24': (5, 4),\n",
       " 'enc_loans_account_holder_type': (7, 5),\n",
       " 'enc_loans_credit_status': (7, 5),\n",
       " 'enc_loans_credit_type': (8, 5),\n",
       " 'enc_loans_account_cur': (4, 3),\n",
       " 'pclose_flag': (2, 2),\n",
       " 'fclose_flag': (2, 2)}"
      ]
     },
     "execution_count": 22,
     "metadata": {},
     "output_type": "execute_result"
    }
   ],
   "source": [
    "embedding_projections = {feat: (max(uniq)+1, compute_embed_dim(max(uniq)+1)) for feat, uniq in uniques.items()}\n",
    "embedding_projections"
   ]
  },
  {
   "cell_type": "code",
   "execution_count": 23,
   "metadata": {},
   "outputs": [],
   "source": [
    "def build_transactions_rnn(features, embedding_projections, \n",
    "                           rnn_units=128, classifier_units=32, optimizer=None):\n",
    "    if not optimizer:\n",
    "        optimizer = keras.optimizers.Adam(lr=1e-3)\n",
    "        \n",
    "    inputs = []\n",
    "    cat_embeds = []\n",
    "    \n",
    "    for feature_name in features:\n",
    "        inp = L.Input(shape=(None, ), dtype=\"uint32\", name=f\"input_{feature_name}\")\n",
    "        inputs.append(inp)\n",
    "        source_size, projection = embedding_projections[feature_name]\n",
    "        emb = L.Embedding(source_size+1, projection, trainable=True, mask_zero=False, name=f\"embedding_{feature_name}\")(inp)\n",
    "        cat_embeds.append(emb)\n",
    "    \n",
    "    concated_cat_embeds = L.concatenate(cat_embeds)\n",
    "    \n",
    "    \n",
    "    sequences = L.Bidirectional(L.LSTM(units=rnn_units, return_sequences=True))(concated_cat_embeds)\n",
    "    \n",
    "    pooled_avg_sequences = L.GlobalAveragePooling1D()(sequences)\n",
    "    pooled_max_sequences = L.GlobalMaxPooling1D()(sequences)    \n",
    "    \n",
    "    concated = L.concatenate([pooled_avg_sequences, pooled_max_sequences], name='encoder_out')\n",
    "        \n",
    "    dense_intermediate = L.Dense(classifier_units, activation=\"swish\")(concated)\n",
    "    proba = L.Dense(1, activation=\"sigmoid\")(dense_intermediate)\n",
    "    \n",
    "    model = Model(inputs=inputs, outputs=proba)\n",
    "    model.compile(loss=\"binary_crossentropy\", optimizer=optimizer)\n",
    "    return model"
   ]
  },
  {
   "cell_type": "code",
   "execution_count": 24,
   "metadata": {},
   "outputs": [],
   "source": [
    "def get_roc_auc_treshold(dataset, preds):\n",
    "    try:\n",
    "        preds = val_preds['score'].values\n",
    "    except:\n",
    "        pass\n",
    "    dataset_generator = batches_generator(dataset, batch_size=128, shuffle=False,\n",
    "                                          output_format=\"tf\", is_train=True)\n",
    "\n",
    "    dataset_y = []\n",
    "    for _, y in dataset_generator:\n",
    "        dataset_y.extend(y)\n",
    "    dataset_y = np.array(dataset_y)    \n",
    "        \n",
    "    print(\"dataset_y.shape\", dataset_y.shape)\n",
    "    \n",
    "    fpr, tpr, thresholds = metrics.roc_curve(dataset_y, preds,  drop_intermediate=False)\n",
    "    optimal_idx = np.argmax(tpr - fpr)\n",
    "    optimal_threshold = thresholds[optimal_idx]\n",
    "    scor = roc_auc_score(dataset_y, preds)\n",
    "    #print('Final split level:',optimal_threshold)    \n",
    "    #print('Final ROC AUC:    ', scor)\n",
    "    \n",
    "    return optimal_threshold, scor, dataset_y"
   ]
  },
  {
   "cell_type": "code",
   "execution_count": 25,
   "metadata": {},
   "outputs": [],
   "source": [
    "def get_x(model=None, dataset=None, is_train=True):\n",
    "    dataset_generator = batches_generator(dataset, batch_size=128, shuffle=False,\n",
    "                                          output_format=\"tf\", is_train=is_train)\n",
    "    \n",
    "    X_preds = model.predict(dataset_generator)\n",
    "    \n",
    "    return X_preds"
   ]
  },
  {
   "cell_type": "code",
   "execution_count": 26,
   "metadata": {},
   "outputs": [],
   "source": [
    "def get_y(dataset):\n",
    "    dataset_generator = batches_generator(dataset, batch_size=128, shuffle=False,\n",
    "                                          output_format=\"tf\", is_train=True)\n",
    "\n",
    "    dataset_y = []\n",
    "    for _, y in dataset_generator:\n",
    "        dataset_y.extend(y)\n",
    "    dataset_y = np.array(dataset_y)    \n",
    "    \n",
    "    return dataset_y\n",
    "    "
   ]
  },
  {
   "cell_type": "code",
   "execution_count": 27,
   "metadata": {},
   "outputs": [],
   "source": [
    "def get_id(dataset):\n",
    "    dataset_generator = batches_generator(dataset, batch_size=128, shuffle=False,\n",
    "                                          output_format=\"tf\", is_train=False)\n",
    "\n",
    "    \n",
    "    ids=[]\n",
    "    for _, batch_ids in dataset_generator:\n",
    "        ids.extend(batch_ids)\n",
    "    \n",
    "    ids = np.array(ids)    \n",
    "      \n",
    "    \n",
    "    return ids"
   ]
  },
  {
   "cell_type": "code",
   "execution_count": 28,
   "metadata": {},
   "outputs": [],
   "source": [
    "\n",
    "def get_lgbm_result(train_enc, train_y, val_enc, val_y, test_enc):\n",
    "    global cls_model\n",
    "    \n",
    "    params = {\n",
    "        \"boosting_type\": \"gbdt\", # gbdt goss\n",
    "        \"objective\": \"binary\",\n",
    "        \"metric\": \"auc\",\n",
    "        \"learning_rate\": 0.01,  # 0.003,\n",
    "        \"n_jobs\": 8,\n",
    "        \"seed\": 15,\n",
    "        \"max_depth\": 5,\n",
    "        \"verbose\": -1,\n",
    "    }\n",
    "\n",
    "   \n",
    "    \n",
    "    \n",
    "    dtrain = lgb.Dataset(\n",
    "        data=train_enc, label=train_y, free_raw_data=False\n",
    "    )\n",
    "    dvalid = lgb.Dataset(\n",
    "        data=val_enc,  label=val_y, free_raw_data=False\n",
    "    )\n",
    "\n",
    "  \n",
    "    \n",
    "    \n",
    "    def lgboost_optimize_params(num_leaves, \n",
    "                                feature_fraction, \n",
    "                                bagging_fraction,\n",
    "                                max_depth,\n",
    "                               ):\n",
    "\n",
    "        params[\"num_leaves\"] = int(num_leaves)\n",
    "        params[\"feature_fraction\"] = feature_fraction\n",
    "        params[\"bagging_fraction\"] = bagging_fraction\n",
    "        params[\"max_depth\"] = int(max_depth)       \n",
    "        \n",
    "        \n",
    "        \n",
    "\n",
    "        model = lgb.train(\n",
    "            params=params,\n",
    "            train_set=dtrain,\n",
    "            num_boost_round=50, #1500,\n",
    "            valid_sets=[dtrain, dvalid],\n",
    "            categorical_feature=\"auto\",\n",
    "            early_stopping_rounds=250,\n",
    "            #verbose_eval=10,\n",
    "            verbose_eval=False,\n",
    "        )\n",
    "       \n",
    "        \n",
    "        \n",
    "        return roc_auc_score(val_y, model.predict(val_enc))\n",
    "\n",
    "    \n",
    "\n",
    "\n",
    "    \n",
    "    params_search={\n",
    "                    'num_leaves': (24, 45),\n",
    "                    'feature_fraction': (0.1, 0.8),\n",
    "                    'bagging_fraction': (0.8, 1),\n",
    "                    'max_depth': (4, 13),\n",
    "                   }\n",
    "    \n",
    "  \n",
    "    \n",
    "    \n",
    "    \n",
    "    lgb_params_search = BayesianOptimization(\n",
    "        lgboost_optimize_params,\n",
    "        pbounds=params_search,\n",
    "        random_state=42\n",
    "    )\n",
    "    lgb_params_search.maximize(\n",
    "        init_points=5, n_iter=5 #, acq='ei'\n",
    "    )                                                    \n",
    "                                                    \n",
    "    optimal_lgb_params = lgb_params_search.max                                                \n",
    "\n",
    "    print(optimal_lgb_params['params'])\n",
    "    \n",
    "    \n",
    "    \n",
    "    for key in optimal_lgb_params['params']:\n",
    "        print(key, optimal_lgb_params['params'][key])\n",
    "        params[key] = optimal_lgb_params['params'][key]\n",
    "    print()\n",
    "    \n",
    "    params['max_depth'] = int((params['max_depth']).round())\n",
    "    params['num_leaves'] = int((params['num_leaves']).round())\n",
    "    print('================new params==================')\n",
    "    print(params)    \n",
    "    \n",
    "   \n",
    "    \n",
    "    \n",
    "    \n",
    "    \n",
    "    \n",
    "    \n",
    "    \n",
    "    \n",
    "    cls_model = lgb.train(\n",
    "        params=params,\n",
    "        train_set=dtrain,\n",
    "        num_boost_round=7500,  #00,\n",
    "        valid_sets=[dtrain, dvalid],\n",
    "        categorical_feature=\"auto\",\n",
    "        early_stopping_rounds=300,\n",
    "        verbose_eval=100,\n",
    "        #verbose_eval=False,\n",
    "    )\n",
    "\n",
    "    #ypred_train = cls_model.predict(train_enc)\n",
    "    ypred_valid = cls_model.predict(val_enc)\n",
    "    ypred_test = cls_model.predict(test_enc)\n",
    "\n",
    "\n",
    "    print('roc_auc_score:', roc_auc_score(val_y, ypred_valid))\n",
    "    print('lgb pass ==========================================')\n",
    "    print()\n",
    "    \n",
    "    return ypred_valid, ypred_test    "
   ]
  },
  {
   "cell_type": "code",
   "execution_count": 29,
   "metadata": {},
   "outputs": [],
   "source": [
    "def get_df_id_y_from_dataset(dataset):\n",
    "    ids = []\n",
    "    generator = batches_generator(dataset, batch_size=128, shuffle=False, \n",
    "                                       is_train=False, output_format=\"tf\")\n",
    "    for _, batch_ids in generator:\n",
    "        ids.extend(batch_ids)\n",
    "\n",
    "\n",
    "    y = []\n",
    "    generator = batches_generator(dataset, batch_size=128, shuffle=False, \n",
    "                                       is_train=True, output_format=\"tf\")\n",
    "    for _, label in generator:\n",
    "        y.extend(label)\n",
    "\n",
    "\n",
    "    frame = pd.DataFrame({\n",
    "            \"id\": ids,\n",
    "            \"flag\": y\n",
    "        })    \n",
    "\n",
    "    return frame"
   ]
  },
  {
   "cell_type": "code",
   "execution_count": 30,
   "metadata": {},
   "outputs": [],
   "source": [
    "def get_extra_train_df_id_y(test_preds, dataset_train, dataset_test, defolt_rate):\n",
    "    \n",
    "    percent_to_increase = 0.21\n",
    "    \n",
    "    \n",
    "    idsss = get_id(dataset_test)\n",
    "    \n",
    "    test_preds_lgbm_df = pd.DataFrame({\"id\": idsss, \"score\": test_preds})\n",
    "    test_preds_lgbm_df = test_preds_lgbm_df.sort_values('score')\n",
    "    \n",
    "    maybe_1_part_size = int(len(test_preds_lgbm_df)*defolt_rate)\n",
    "    maybe_0_part_size = len(test_preds_lgbm_df) - maybe_1_part_size\n",
    "    \n",
    "    \n",
    "    print(maybe_0_part_size, maybe_1_part_size, len(test_preds_lgbm_df))\n",
    "    \n",
    "    \n",
    "    part_0_to_add_sie = int(maybe_0_part_size * percent_to_increase)\n",
    "    part_1_to_add_sie = int(maybe_1_part_size * percent_to_increase)\n",
    "    \n",
    "    print(part_0_to_add_sie, part_1_to_add_sie)\n",
    "    \n",
    "    new_zerro_ids = test_preds_lgbm_df[:part_0_to_add_sie].id.values\n",
    "    new_ones_ids = test_preds_lgbm_df[-part_1_to_add_sie:].id.values\n",
    "    \n",
    "    new_train_0_addition = pd.DataFrame({\"id\": new_zerro_ids, \"flag\": np.zeros(len(new_zerro_ids), dtype=np.int)})\n",
    "    new_train_1_addition = pd.DataFrame({\"id\": new_ones_ids, \"flag\": np.ones(len(new_ones_ids), dtype=np.int)})\n",
    "    raw_train_df         = get_df_id_y_from_dataset(dataset_train)\n",
    "    \n",
    "    dfs = [raw_train_df, new_train_0_addition, new_train_1_addition]\n",
    "    new_train_df = pd.concat( dfs,axis=0, ignore_index=True)\n",
    "    \n",
    "    return new_train_df\n",
    "    "
   ]
  },
  {
   "cell_type": "code",
   "execution_count": 31,
   "metadata": {},
   "outputs": [],
   "source": [
    "def get_dics_results(models_dic):\n",
    "    models_list = list(models_dic.keys())\n",
    "    result_dic ={}\n",
    "    for n in [4,3,2]:\n",
    "        for i in combinations(models_list, n):\n",
    "            result_1 = 1\n",
    "            result_2 = 0\n",
    "            name1 = 'mul_'\n",
    "            name2 = 'sum_'        \n",
    "            for j in i:\n",
    "                result_1 = result_1 * models_dic[j]\n",
    "                result_2 = result_2 + models_dic[j]            \n",
    "                name1 = name1 + j +'_'\n",
    "                name2 = name2 + j +'_'    \n",
    "                \n",
    "            result_1 = (result_1)**(1/len(i))   \n",
    "            result_2 = result_2 / len(i)  \n",
    "\n",
    "            result_dic[name1] = result_1\n",
    "            result_dic[name2] = result_2\n",
    "\n",
    "\n",
    "            #print('=====================================')\n",
    "    z = result_dic.update(models_dic)\n",
    "    return result_dic\n",
    "\n",
    "\n",
    "def get_scores(y_valid, result_dic):\n",
    "    scores_dic ={}\n",
    "    best = 0.\n",
    "    for i in result_dic:        \n",
    "        scor  = roc_auc_score(y_valid, result_dic[i])\n",
    "        scores_dic[i] = scor\n",
    "        if scor > best:\n",
    "            best = scor\n",
    "            name = i   \n",
    "        #print(i, result_dic[i])\n",
    "    #print()    \n",
    "    #print(name, best)\n",
    "    return name, scores_dic"
   ]
  },
  {
   "cell_type": "code",
   "execution_count": 32,
   "metadata": {},
   "outputs": [],
   "source": [
    "num_epochs = 21\n",
    "train_batch_size = 128\n",
    "val_batch_szie = 128"
   ]
  },
  {
   "cell_type": "markdown",
   "metadata": {},
   "source": [
    "### 3. Training"
   ]
  },
  {
   "cell_type": "code",
   "execution_count": 33,
   "metadata": {
    "scrolled": false
   },
   "outputs": [
    {
     "name": "stdout",
     "output_type": "stream",
     "text": [
      "3420/3420 [==============================] - 53s 14ms/step\n",
      "3929/3929 [==============================] - 45s 12ms/step\n",
      "dataset_y.shape (428572,)\n",
      "y_val_net_st1.shape, y_test_net_st1.shape (428572,) (500000,)\n",
      "\n",
      "Fold net auc scor : 0.7818612151462768\n",
      "6722/6722 [==============================] - 67s 10ms/step\n",
      "6718/6718 [==============================] - 68s 10ms/step\n",
      "6717/6717 [==============================] - 69s 10ms/step\n",
      "X_train_for_lgbm shapes ===>  (2571428, 512) (857198, 512) (857218, 512) (857012, 512)\n",
      "3420/3420 [==============================] - 35s 10ms/step\n",
      "3929/3929 [==============================] - 40s 10ms/step\n",
      "|   iter    |  target   | baggin... | featur... | max_depth | num_le... |\n",
      "-------------------------------------------------------------------------\n",
      "| \u001b[0m 1       \u001b[0m | \u001b[0m 0.7673  \u001b[0m | \u001b[0m 0.8749  \u001b[0m | \u001b[0m 0.7655  \u001b[0m | \u001b[0m 10.59   \u001b[0m | \u001b[0m 36.57   \u001b[0m |\n",
      "| \u001b[95m 2       \u001b[0m | \u001b[95m 0.7676  \u001b[0m | \u001b[95m 0.8312  \u001b[0m | \u001b[95m 0.2092  \u001b[0m | \u001b[95m 4.523   \u001b[0m | \u001b[95m 42.19   \u001b[0m |\n",
      "| \u001b[0m 3       \u001b[0m | \u001b[0m 0.7633  \u001b[0m | \u001b[0m 0.9202  \u001b[0m | \u001b[0m 0.5957  \u001b[0m | \u001b[0m 4.185   \u001b[0m | \u001b[0m 44.37   \u001b[0m |\n",
      "| \u001b[95m 4       \u001b[0m | \u001b[95m 0.7706  \u001b[0m | \u001b[95m 0.9665  \u001b[0m | \u001b[95m 0.2486  \u001b[0m | \u001b[95m 5.636   \u001b[0m | \u001b[95m 27.85   \u001b[0m |\n",
      "| \u001b[0m 5       \u001b[0m | \u001b[0m 0.769   \u001b[0m | \u001b[0m 0.8608  \u001b[0m | \u001b[0m 0.4673  \u001b[0m | \u001b[0m 7.888   \u001b[0m | \u001b[0m 30.12   \u001b[0m |\n",
      "| \u001b[0m 6       \u001b[0m | \u001b[0m 0.77    \u001b[0m | \u001b[0m 0.9261  \u001b[0m | \u001b[0m 0.338   \u001b[0m | \u001b[0m 6.551   \u001b[0m | \u001b[0m 28.72   \u001b[0m |\n",
      "| \u001b[0m 7       \u001b[0m | \u001b[0m 0.7645  \u001b[0m | \u001b[0m 0.982   \u001b[0m | \u001b[0m 0.8     \u001b[0m | \u001b[0m 7.255   \u001b[0m | \u001b[0m 25.47   \u001b[0m |\n",
      "| \u001b[0m 8       \u001b[0m | \u001b[0m 0.7688  \u001b[0m | \u001b[0m 1.0     \u001b[0m | \u001b[0m 0.1     \u001b[0m | \u001b[0m 4.697   \u001b[0m | \u001b[0m 29.26   \u001b[0m |\n",
      "| \u001b[0m 9       \u001b[0m | \u001b[0m 0.7643  \u001b[0m | \u001b[0m 0.9772  \u001b[0m | \u001b[0m 0.494   \u001b[0m | \u001b[0m 4.001   \u001b[0m | \u001b[0m 27.1    \u001b[0m |\n",
      "| \u001b[0m 10      \u001b[0m | \u001b[0m 0.7659  \u001b[0m | \u001b[0m 0.8707  \u001b[0m | \u001b[0m 0.759   \u001b[0m | \u001b[0m 5.721   \u001b[0m | \u001b[0m 28.6    \u001b[0m |\n",
      "=========================================================================\n",
      "{'bagging_fraction': 0.9664885281600843, 'feature_fraction': 0.24863737747479334, 'max_depth': 5.636424704863906, 'num_leaves': 27.85149470692211}\n",
      "bagging_fraction 0.9664885281600843\n",
      "feature_fraction 0.24863737747479334\n",
      "max_depth 5.636424704863906\n",
      "num_leaves 27.85149470692211\n",
      "\n",
      "================new params==================\n",
      "{'boosting_type': 'gbdt', 'objective': 'binary', 'metric': 'auc', 'learning_rate': 0.01, 'n_jobs': 8, 'seed': 15, 'max_depth': 6, 'verbose': -1, 'num_leaves': 28, 'feature_fraction': 0.24863737747479334, 'bagging_fraction': 0.9664885281600843}\n",
      "Training until validation scores don't improve for 300 rounds\n",
      "[100]\ttraining's auc: 0.781177\tvalid_1's auc: 0.773896\n",
      "[200]\ttraining's auc: 0.785833\tvalid_1's auc: 0.777141\n",
      "[300]\ttraining's auc: 0.789382\tvalid_1's auc: 0.77931\n",
      "[400]\ttraining's auc: 0.792296\tvalid_1's auc: 0.780882\n",
      "[500]\ttraining's auc: 0.794664\tvalid_1's auc: 0.781971\n",
      "[600]\ttraining's auc: 0.796639\tvalid_1's auc: 0.782785\n",
      "[700]\ttraining's auc: 0.79835\tvalid_1's auc: 0.783342\n",
      "[800]\ttraining's auc: 0.799845\tvalid_1's auc: 0.783721\n",
      "[900]\ttraining's auc: 0.801278\tvalid_1's auc: 0.784035\n",
      "[1000]\ttraining's auc: 0.802555\tvalid_1's auc: 0.784244\n",
      "[1100]\ttraining's auc: 0.803769\tvalid_1's auc: 0.784452\n",
      "[1200]\ttraining's auc: 0.804902\tvalid_1's auc: 0.784618\n",
      "[1300]\ttraining's auc: 0.806034\tvalid_1's auc: 0.784744\n",
      "[1400]\ttraining's auc: 0.807074\tvalid_1's auc: 0.784869\n",
      "[1500]\ttraining's auc: 0.808138\tvalid_1's auc: 0.784968\n",
      "[1600]\ttraining's auc: 0.809127\tvalid_1's auc: 0.785044\n",
      "[1700]\ttraining's auc: 0.810137\tvalid_1's auc: 0.785125\n",
      "[1800]\ttraining's auc: 0.811121\tvalid_1's auc: 0.785183\n",
      "[1900]\ttraining's auc: 0.812073\tvalid_1's auc: 0.785266\n",
      "[2000]\ttraining's auc: 0.813029\tvalid_1's auc: 0.78532\n",
      "[2100]\ttraining's auc: 0.813961\tvalid_1's auc: 0.785383\n",
      "[2200]\ttraining's auc: 0.814894\tvalid_1's auc: 0.785427\n",
      "[2300]\ttraining's auc: 0.815798\tvalid_1's auc: 0.785471\n",
      "[2400]\ttraining's auc: 0.816744\tvalid_1's auc: 0.785519\n",
      "[2500]\ttraining's auc: 0.817646\tvalid_1's auc: 0.785529\n",
      "[2600]\ttraining's auc: 0.818551\tvalid_1's auc: 0.785533\n",
      "[2700]\ttraining's auc: 0.819433\tvalid_1's auc: 0.785574\n",
      "[2800]\ttraining's auc: 0.820366\tvalid_1's auc: 0.785596\n",
      "[2900]\ttraining's auc: 0.821212\tvalid_1's auc: 0.785625\n",
      "[3000]\ttraining's auc: 0.822103\tvalid_1's auc: 0.785634\n",
      "[3100]\ttraining's auc: 0.822983\tvalid_1's auc: 0.785647\n",
      "[3200]\ttraining's auc: 0.823828\tvalid_1's auc: 0.785653\n",
      "[3300]\ttraining's auc: 0.824718\tvalid_1's auc: 0.78568\n",
      "[3400]\ttraining's auc: 0.825568\tvalid_1's auc: 0.7857\n",
      "[3500]\ttraining's auc: 0.826389\tvalid_1's auc: 0.785723\n",
      "[3600]\ttraining's auc: 0.827216\tvalid_1's auc: 0.78572\n",
      "[3700]\ttraining's auc: 0.828014\tvalid_1's auc: 0.785716\n",
      "[3800]\ttraining's auc: 0.82882\tvalid_1's auc: 0.785712\n",
      "Early stopping, best iteration is:\n",
      "[3511]\ttraining's auc: 0.826481\tvalid_1's auc: 0.785727\n",
      "roc_auc_score: 0.7857269951232482\n",
      "lgb pass ==========================================\n",
      "\n",
      "dataset_y.shape (428572,)\n",
      "Fold lgbm auc scor: 0.7857269951232482\n",
      "Final split level: 0.03334582632353191\n",
      "\n",
      "val_y.shape (428572,)\n",
      "y_val_lstm_st1.shape, y_test_lstm_st1.shape (428572,) (500000,)\n",
      "482260 17740 500000\n",
      "101274 3725\n"
     ]
    },
    {
     "data": {
      "application/vnd.jupyter.widget-view+json": {
       "model_id": "66af8152b11e4b7e93c26919b1e33d88",
       "version_major": 2,
       "version_minor": 0
      },
      "text/plain": [
       "Preparing credit data:   0%|          | 0/7 [00:00<?, ?it/s]"
      ]
     },
     "metadata": {},
     "output_type": "display_data"
    },
    {
     "name": "stdout",
     "output_type": "stream",
     "text": [
      "Reading chunks:\n",
      "../data/7Folds/mod_data/train_data_0.pq\n",
      "../data/7Folds/mod_data/train_data_1.pq\n"
     ]
    },
    {
     "data": {
      "application/vnd.jupyter.widget-view+json": {
       "model_id": "e4fed3d4365e4f669fc18d9958039a5a",
       "version_major": 2,
       "version_minor": 0
      },
      "text/plain": [
       "Reading dataset with pandas:   0%|          | 0/2 [00:00<?, ?it/s]"
      ]
     },
     "metadata": {},
     "output_type": "display_data"
    },
    {
     "name": "stdout",
     "output_type": "stream",
     "text": [
      "Transforming credits to sequences is done.\n"
     ]
    },
    {
     "data": {
      "application/vnd.jupyter.widget-view+json": {
       "model_id": "47303798767241769fb2d12dec3f6148",
       "version_major": 2,
       "version_minor": 0
      },
      "text/plain": [
       "Extracting buckets:   0%|          | 0/43 [00:00<?, ?it/s]"
      ]
     },
     "metadata": {},
     "output_type": "display_data"
    },
    {
     "name": "stdout",
     "output_type": "stream",
     "text": [
      "Reading chunks:\n",
      "../data/7Folds/mod_data/train_data_2.pq\n",
      "../data/7Folds/mod_data/train_data_3.pq\n"
     ]
    },
    {
     "data": {
      "application/vnd.jupyter.widget-view+json": {
       "model_id": "feadbf4d50a4400f9b5a6739c30342d5",
       "version_major": 2,
       "version_minor": 0
      },
      "text/plain": [
       "Reading dataset with pandas:   0%|          | 0/2 [00:00<?, ?it/s]"
      ]
     },
     "metadata": {},
     "output_type": "display_data"
    },
    {
     "name": "stdout",
     "output_type": "stream",
     "text": [
      "Transforming credits to sequences is done.\n"
     ]
    },
    {
     "data": {
      "application/vnd.jupyter.widget-view+json": {
       "model_id": "9f16c82e58b249cba3592a8f988d2000",
       "version_major": 2,
       "version_minor": 0
      },
      "text/plain": [
       "Extracting buckets:   0%|          | 0/43 [00:00<?, ?it/s]"
      ]
     },
     "metadata": {},
     "output_type": "display_data"
    },
    {
     "name": "stdout",
     "output_type": "stream",
     "text": [
      "Reading chunks:\n",
      "../data/7Folds/mod_data/train_data_4.pq\n",
      "../data/7Folds/mod_data/train_data_5.pq\n"
     ]
    },
    {
     "data": {
      "application/vnd.jupyter.widget-view+json": {
       "model_id": "5cb79fe2d1a24697982274f24faecb85",
       "version_major": 2,
       "version_minor": 0
      },
      "text/plain": [
       "Reading dataset with pandas:   0%|          | 0/2 [00:00<?, ?it/s]"
      ]
     },
     "metadata": {},
     "output_type": "display_data"
    },
    {
     "name": "stdout",
     "output_type": "stream",
     "text": [
      "Transforming credits to sequences is done.\n"
     ]
    },
    {
     "data": {
      "application/vnd.jupyter.widget-view+json": {
       "model_id": "22eadbc42676434f88e7e99d91f53553",
       "version_major": 2,
       "version_minor": 0
      },
      "text/plain": [
       "Extracting buckets:   0%|          | 0/42 [00:00<?, ?it/s]"
      ]
     },
     "metadata": {},
     "output_type": "display_data"
    },
    {
     "name": "stdout",
     "output_type": "stream",
     "text": [
      "Reading chunks:\n",
      "../data/7Folds/mod_data/train_data_6.pq\n",
      "../data/7Folds/mod_data/train_data_7.pq\n"
     ]
    },
    {
     "data": {
      "application/vnd.jupyter.widget-view+json": {
       "model_id": "052c2a14c4114b558ec73639cca57ffc",
       "version_major": 2,
       "version_minor": 0
      },
      "text/plain": [
       "Reading dataset with pandas:   0%|          | 0/2 [00:00<?, ?it/s]"
      ]
     },
     "metadata": {},
     "output_type": "display_data"
    },
    {
     "name": "stdout",
     "output_type": "stream",
     "text": [
      "Transforming credits to sequences is done.\n"
     ]
    },
    {
     "data": {
      "application/vnd.jupyter.widget-view+json": {
       "model_id": "0e00f1d217524df18f2f2081eae6122d",
       "version_major": 2,
       "version_minor": 0
      },
      "text/plain": [
       "Extracting buckets:   0%|          | 0/43 [00:00<?, ?it/s]"
      ]
     },
     "metadata": {},
     "output_type": "display_data"
    },
    {
     "name": "stdout",
     "output_type": "stream",
     "text": [
      "Reading chunks:\n",
      "../data/7Folds/mod_data/train_data_8.pq\n",
      "../data/7Folds/mod_data/train_data_9.pq\n"
     ]
    },
    {
     "data": {
      "application/vnd.jupyter.widget-view+json": {
       "model_id": "bc4b7c0bfb194fd6adb6d623d50cb140",
       "version_major": 2,
       "version_minor": 0
      },
      "text/plain": [
       "Reading dataset with pandas:   0%|          | 0/2 [00:00<?, ?it/s]"
      ]
     },
     "metadata": {},
     "output_type": "display_data"
    },
    {
     "name": "stdout",
     "output_type": "stream",
     "text": [
      "Transforming credits to sequences is done.\n"
     ]
    },
    {
     "data": {
      "application/vnd.jupyter.widget-view+json": {
       "model_id": "99e29d801fa44e49a6adec4bf4958fb3",
       "version_major": 2,
       "version_minor": 0
      },
      "text/plain": [
       "Extracting buckets:   0%|          | 0/42 [00:00<?, ?it/s]"
      ]
     },
     "metadata": {},
     "output_type": "display_data"
    },
    {
     "name": "stdout",
     "output_type": "stream",
     "text": [
      "Reading chunks:\n",
      "../data/7Folds/mod_data/train_data_10.pq\n",
      "../data/7Folds/mod_data/train_data_11.pq\n"
     ]
    },
    {
     "data": {
      "application/vnd.jupyter.widget-view+json": {
       "model_id": "1b3cdebd89b64e20821324594163b409",
       "version_major": 2,
       "version_minor": 0
      },
      "text/plain": [
       "Reading dataset with pandas:   0%|          | 0/2 [00:00<?, ?it/s]"
      ]
     },
     "metadata": {},
     "output_type": "display_data"
    },
    {
     "name": "stdout",
     "output_type": "stream",
     "text": [
      "Transforming credits to sequences is done.\n"
     ]
    },
    {
     "data": {
      "application/vnd.jupyter.widget-view+json": {
       "model_id": "331a534406e9495290bef9efc0bbefc8",
       "version_major": 2,
       "version_minor": 0
      },
      "text/plain": [
       "Extracting buckets:   0%|          | 0/41 [00:00<?, ?it/s]"
      ]
     },
     "metadata": {},
     "output_type": "display_data"
    },
    {
     "name": "stdout",
     "output_type": "stream",
     "text": [
      "Reading chunks:\n",
      "../data/7Folds/mod_data/train_data_12.pq\n",
      "../data/7Folds/mod_data/train_data_13.pq\n"
     ]
    },
    {
     "data": {
      "application/vnd.jupyter.widget-view+json": {
       "model_id": "e355eb0a04bf4e54aaebb43383ac5342",
       "version_major": 2,
       "version_minor": 0
      },
      "text/plain": [
       "Reading dataset with pandas:   0%|          | 0/2 [00:00<?, ?it/s]"
      ]
     },
     "metadata": {},
     "output_type": "display_data"
    },
    {
     "name": "stdout",
     "output_type": "stream",
     "text": [
      "Transforming credits to sequences is done.\n"
     ]
    },
    {
     "data": {
      "application/vnd.jupyter.widget-view+json": {
       "model_id": "c696eaa23fd34d1e9d00b92d22153b41",
       "version_major": 2,
       "version_minor": 0
      },
      "text/plain": [
       "Extracting buckets:   0%|          | 0/39 [00:00<?, ?it/s]"
      ]
     },
     "metadata": {},
     "output_type": "display_data"
    },
    {
     "name": "stdout",
     "output_type": "stream",
     "text": [
      "Starting epoch 1\n",
      "20089/20089 [==============================] - 1400s 69ms/step - loss: 0.1362\n",
      "3420/3420 [==============================] - 47s 13ms/step\n",
      "Validation ROC-AUC improved (-inf --> 0.778439).  Saving model...\n",
      "Epoch 1 completed. Train2 ROC AUC: Now is not estimated, val ROC AUC: 0.7784393243078834\n",
      "Starting epoch 2\n",
      "Epoch 2/2\n",
      "20089/20089 [==============================] - 1377s 69ms/step - loss: 0.1291\n",
      "3420/3420 [==============================] - 39s 11ms/step\n",
      "No imporvement in validation ROC-AUC. Current: 0.773890. Current best: 0.778439\n",
      "EarlyStopping counter: 1 out of 3\n",
      "Epoch 2 completed. Train2 ROC AUC: Now is not estimated, val ROC AUC: 0.7738897188548455\n",
      "Starting epoch 3\n",
      "Epoch 3/3\n",
      "20089/20089 [==============================] - 1387s 69ms/step - loss: 0.1275\n",
      "3420/3420 [==============================] - 40s 12ms/step\n",
      "Validation ROC-AUC improved (0.778439 --> 0.782842).  Saving model...\n",
      "Epoch 3 completed. Train2 ROC AUC: Now is not estimated, val ROC AUC: 0.7828422524017952\n",
      "Starting epoch 4\n",
      "Epoch 4/4\n",
      "20089/20089 [==============================] - 1389s 69ms/step - loss: 0.1271\n",
      "3420/3420 [==============================] - 40s 12ms/step\n",
      "No imporvement in validation ROC-AUC. Current: 0.779386. Current best: 0.782842\n",
      "EarlyStopping counter: 1 out of 3\n",
      "Epoch 4 completed. Train2 ROC AUC: Now is not estimated, val ROC AUC: 0.7793857765733399\n",
      "Starting epoch 5\n",
      "Epoch 5/5\n",
      "20089/20089 [==============================] - 1398s 70ms/step - loss: 0.1254\n",
      "3420/3420 [==============================] - 40s 12ms/step\n",
      "No imporvement in validation ROC-AUC. Current: 0.778533. Current best: 0.782842\n",
      "EarlyStopping counter: 2 out of 3\n",
      "Epoch 5 completed. Train2 ROC AUC: Now is not estimated, val ROC AUC: 0.7785331115568972\n",
      "Starting epoch 6\n",
      "Epoch 6/6\n",
      "20089/20089 [==============================] - 1401s 70ms/step - loss: 0.1234\n",
      "3420/3420 [==============================] - 39s 11ms/step\n",
      "No imporvement in validation ROC-AUC. Current: 0.776122. Current best: 0.782842\n",
      "EarlyStopping counter: 3 out of 3\n",
      "Early stopping reached. Stop training...\n",
      "3420/3420 [==============================] - 39s 12ms/step\n",
      "3929/3929 [==============================] - 45s 11ms/step\n",
      "dataset_y.shape (428572,)\n",
      "y_val_net_st2.shape, y_test_net_st2.shape (428572,) (500000,)\n",
      "\n",
      "Fold net2 auc scor : 0.7828422524017952\n",
      "3367/3367 [==============================] - 32s 9ms/step\n",
      "3370/3370 [==============================] - 32s 10ms/step\n",
      "843/843 [==============================] - 8s 9ms/step\n",
      "3375/3375 [==============================] - 32s 10ms/step\n",
      "3370/3370 [==============================] - 33s 10ms/step\n",
      "3369/3369 [==============================] - 32s 10ms/step\n",
      "3372/3372 [==============================] - 32s 10ms/step\n",
      "X_train_for_lgbm2 done \n",
      "3420/3420 [==============================] - 33s 10ms/step\n",
      "3929/3929 [==============================] - 38s 10ms/step\n",
      "|   iter    |  target   | baggin... | featur... | max_depth | num_le... |\n",
      "-------------------------------------------------------------------------\n",
      "| \u001b[0m 1       \u001b[0m | \u001b[0m 0.7677  \u001b[0m | \u001b[0m 0.8749  \u001b[0m | \u001b[0m 0.7655  \u001b[0m | \u001b[0m 10.59   \u001b[0m | \u001b[0m 36.57   \u001b[0m |\n",
      "| \u001b[0m 2       \u001b[0m | \u001b[0m 0.7668  \u001b[0m | \u001b[0m 0.8312  \u001b[0m | \u001b[0m 0.2092  \u001b[0m | \u001b[0m 4.523   \u001b[0m | \u001b[0m 42.19   \u001b[0m |\n",
      "| \u001b[0m 3       \u001b[0m | \u001b[0m 0.764   \u001b[0m | \u001b[0m 0.9202  \u001b[0m | \u001b[0m 0.5957  \u001b[0m | \u001b[0m 4.185   \u001b[0m | \u001b[0m 44.37   \u001b[0m |\n",
      "| \u001b[95m 4       \u001b[0m | \u001b[95m 0.7691  \u001b[0m | \u001b[95m 0.9665  \u001b[0m | \u001b[95m 0.2486  \u001b[0m | \u001b[95m 5.636   \u001b[0m | \u001b[95m 27.85   \u001b[0m |\n",
      "| \u001b[0m 5       \u001b[0m | \u001b[0m 0.7683  \u001b[0m | \u001b[0m 0.8608  \u001b[0m | \u001b[0m 0.4673  \u001b[0m | \u001b[0m 7.888   \u001b[0m | \u001b[0m 30.12   \u001b[0m |\n",
      "| \u001b[95m 6       \u001b[0m | \u001b[95m 0.7693  \u001b[0m | \u001b[95m 0.9795  \u001b[0m | \u001b[95m 0.2396  \u001b[0m | \u001b[95m 5.34    \u001b[0m | \u001b[95m 29.78   \u001b[0m |\n",
      "| \u001b[0m 7       \u001b[0m | \u001b[0m 0.7642  \u001b[0m | \u001b[0m 0.923   \u001b[0m | \u001b[0m 0.5284  \u001b[0m | \u001b[0m 4.005   \u001b[0m | \u001b[0m 33.01   \u001b[0m |\n",
      "| \u001b[0m 8       \u001b[0m | \u001b[0m 0.7645  \u001b[0m | \u001b[0m 0.9946  \u001b[0m | \u001b[0m 0.5221  \u001b[0m | \u001b[0m 4.031   \u001b[0m | \u001b[0m 28.38   \u001b[0m |\n",
      "| \u001b[0m 9       \u001b[0m | \u001b[0m 0.7677  \u001b[0m | \u001b[0m 0.9942  \u001b[0m | \u001b[0m 0.5967  \u001b[0m | \u001b[0m 12.94   \u001b[0m | \u001b[0m 31.85   \u001b[0m |\n",
      "| \u001b[95m 10      \u001b[0m | \u001b[95m 0.7695  \u001b[0m | \u001b[95m 0.8943  \u001b[0m | \u001b[95m 0.2123  \u001b[0m | \u001b[95m 11.22   \u001b[0m | \u001b[95m 26.03   \u001b[0m |\n",
      "=========================================================================\n",
      "{'bagging_fraction': 0.8943020130714917, 'feature_fraction': 0.2123430433212164, 'max_depth': 11.217643065741816, 'num_leaves': 26.026563437117662}\n",
      "bagging_fraction 0.8943020130714917\n",
      "feature_fraction 0.2123430433212164\n",
      "max_depth 11.217643065741816\n",
      "num_leaves 26.026563437117662\n",
      "\n",
      "================new params==================\n",
      "{'boosting_type': 'gbdt', 'objective': 'binary', 'metric': 'auc', 'learning_rate': 0.01, 'n_jobs': 8, 'seed': 15, 'max_depth': 11, 'verbose': -1, 'num_leaves': 26, 'feature_fraction': 0.2123430433212164, 'bagging_fraction': 0.8943020130714917}\n",
      "Training until validation scores don't improve for 300 rounds\n",
      "[100]\ttraining's auc: 0.794072\tvalid_1's auc: 0.772267\n",
      "[200]\ttraining's auc: 0.798789\tvalid_1's auc: 0.77598\n",
      "[300]\ttraining's auc: 0.802351\tvalid_1's auc: 0.778619\n",
      "[400]\ttraining's auc: 0.805083\tvalid_1's auc: 0.780471\n",
      "[500]\ttraining's auc: 0.807278\tvalid_1's auc: 0.78173\n",
      "[600]\ttraining's auc: 0.809108\tvalid_1's auc: 0.782624\n",
      "[700]\ttraining's auc: 0.810739\tvalid_1's auc: 0.783274\n",
      "[800]\ttraining's auc: 0.812179\tvalid_1's auc: 0.783755\n",
      "[900]\ttraining's auc: 0.813468\tvalid_1's auc: 0.784128\n",
      "[1000]\ttraining's auc: 0.814666\tvalid_1's auc: 0.784382\n",
      "[1100]\ttraining's auc: 0.815857\tvalid_1's auc: 0.784576\n",
      "[1200]\ttraining's auc: 0.817028\tvalid_1's auc: 0.784704\n",
      "[1300]\ttraining's auc: 0.81813\tvalid_1's auc: 0.784822\n",
      "[1400]\ttraining's auc: 0.819253\tvalid_1's auc: 0.784951\n",
      "[1500]\ttraining's auc: 0.820351\tvalid_1's auc: 0.785018\n",
      "[1600]\ttraining's auc: 0.821395\tvalid_1's auc: 0.785084\n",
      "[1700]\ttraining's auc: 0.822462\tvalid_1's auc: 0.785142\n",
      "[1800]\ttraining's auc: 0.823446\tvalid_1's auc: 0.785192\n",
      "[1900]\ttraining's auc: 0.824478\tvalid_1's auc: 0.785231\n",
      "[2000]\ttraining's auc: 0.825527\tvalid_1's auc: 0.785262\n",
      "[2100]\ttraining's auc: 0.826537\tvalid_1's auc: 0.785293\n",
      "[2200]\ttraining's auc: 0.827513\tvalid_1's auc: 0.785318\n",
      "[2300]\ttraining's auc: 0.828522\tvalid_1's auc: 0.785343\n",
      "[2400]\ttraining's auc: 0.829491\tvalid_1's auc: 0.78537\n",
      "[2500]\ttraining's auc: 0.830536\tvalid_1's auc: 0.78541\n",
      "[2600]\ttraining's auc: 0.831455\tvalid_1's auc: 0.78545\n",
      "[2700]\ttraining's auc: 0.832363\tvalid_1's auc: 0.78546\n",
      "[2800]\ttraining's auc: 0.833258\tvalid_1's auc: 0.78546\n",
      "[2900]\ttraining's auc: 0.834219\tvalid_1's auc: 0.785481\n",
      "[3000]\ttraining's auc: 0.835138\tvalid_1's auc: 0.785498\n",
      "[3100]\ttraining's auc: 0.836059\tvalid_1's auc: 0.785523\n",
      "[3200]\ttraining's auc: 0.836964\tvalid_1's auc: 0.785555\n",
      "[3300]\ttraining's auc: 0.837816\tvalid_1's auc: 0.785552\n",
      "[3400]\ttraining's auc: 0.838706\tvalid_1's auc: 0.785595\n",
      "[3500]\ttraining's auc: 0.839551\tvalid_1's auc: 0.785613\n",
      "[3600]\ttraining's auc: 0.840398\tvalid_1's auc: 0.785639\n",
      "[3700]\ttraining's auc: 0.84123\tvalid_1's auc: 0.785629\n",
      "[3800]\ttraining's auc: 0.842055\tvalid_1's auc: 0.785628\n",
      "[3900]\ttraining's auc: 0.842883\tvalid_1's auc: 0.785644\n",
      "[4000]\ttraining's auc: 0.84364\tvalid_1's auc: 0.785633\n",
      "[4100]\ttraining's auc: 0.844496\tvalid_1's auc: 0.785644\n",
      "[4200]\ttraining's auc: 0.845205\tvalid_1's auc: 0.785652\n",
      "[4300]\ttraining's auc: 0.845979\tvalid_1's auc: 0.785653\n",
      "[4400]\ttraining's auc: 0.846776\tvalid_1's auc: 0.785647\n",
      "[4500]\ttraining's auc: 0.847534\tvalid_1's auc: 0.785661\n",
      "[4600]\ttraining's auc: 0.84829\tvalid_1's auc: 0.785669\n",
      "[4700]\ttraining's auc: 0.849036\tvalid_1's auc: 0.785677\n",
      "[4800]\ttraining's auc: 0.849734\tvalid_1's auc: 0.785678\n",
      "[4900]\ttraining's auc: 0.850471\tvalid_1's auc: 0.785685\n",
      "[5000]\ttraining's auc: 0.851178\tvalid_1's auc: 0.785674\n",
      "[5100]\ttraining's auc: 0.851931\tvalid_1's auc: 0.785674\n",
      "Early stopping, best iteration is:\n",
      "[4857]\ttraining's auc: 0.850139\tvalid_1's auc: 0.78569\n",
      "roc_auc_score: 0.7856896031573559\n",
      "lgb pass ==========================================\n",
      "\n",
      "dataset_y.shape (428572,)\n",
      "Fold lgbm auc scor: 0.7856896031573559\n",
      "Final split level: 0.03381691131648122\n",
      "\n",
      "val_y.shape (428572,)\n",
      "y_val_lstm_st2.shape, y_test_lstm_st2.shape (428572,) (500000,)\n",
      "mul_lstm_st1_lstm_st2_ 0.7877827284819685\n",
      "{'mul_lstm_st1_lstm_st2_net_st1_net_st2_': 0.7874302453893292, 'sum_lstm_st1_lstm_st2_net_st1_net_st2_': 0.7875082834300686, 'mul_lstm_st1_lstm_st2_net_st1_': 0.7874371927700773, 'sum_lstm_st1_lstm_st2_net_st1_': 0.7874769743875492, 'mul_lstm_st1_lstm_st2_net_st2_': 0.7873013550018668, 'sum_lstm_st1_lstm_st2_net_st2_': 0.7873748206481088, 'mul_lstm_st1_net_st1_net_st2_': 0.7867662941438007, 'sum_lstm_st1_net_st1_net_st2_': 0.7868088785925528, 'mul_lstm_st2_net_st1_net_st2_': 0.7867094219983816, 'sum_lstm_st2_net_st1_net_st2_': 0.7868156756536798, 'mul_lstm_st1_lstm_st2_': 0.7877827284819685, 'sum_lstm_st1_lstm_st2_': 0.7877819156720556, 'mul_lstm_st1_net_st1_': 0.7855003380019571, 'sum_lstm_st1_net_st1_': 0.785461193529263, 'mul_lstm_st1_net_st2_': 0.7867670624795098, 'sum_lstm_st1_net_st2_': 0.7868370718903069, 'mul_lstm_st2_net_st1_': 0.7867505185538747, 'sum_lstm_st2_net_st1_': 0.7868033685734412, 'mul_lstm_st2_net_st2_': 0.7854435226049844, 'sum_lstm_st2_net_st2_': 0.7855216774901377, 'mul_net_st1_net_st2_': 0.7855546874716992, 'sum_net_st1_net_st2_': 0.7855810055999279, 'lstm_st1': 0.7857269951232482, 'lstm_st2': 0.7856896031573559, 'net_st1': 0.7818612151462768, 'net_st2': 0.7828422524017952}\n",
      "\n"
     ]
    },
    {
     "name": "stdout",
     "output_type": "stream",
     "text": [
      "Fold: 1 pass. Time 15889.145301580429 sec.\n",
      "=======================================================================================================\n",
      "\n",
      "\n",
      "3425/3425 [==============================] - 50s 14ms/step\n",
      "3929/3929 [==============================] - 45s 11ms/step\n",
      "dataset_y.shape (428572,)\n",
      "y_val_net_st1.shape, y_test_net_st1.shape (428572,) (500000,)\n",
      "\n",
      "Fold net auc scor : 0.7852172048423748\n",
      "6722/6722 [==============================] - 66s 10ms/step\n",
      "6722/6722 [==============================] - 67s 10ms/step\n",
      "6718/6718 [==============================] - 67s 10ms/step\n",
      "X_train_for_lgbm shapes ===>  (2571428, 512) (857195, 512) (857475, 512) (856758, 512)\n",
      "3425/3425 [==============================] - 34s 10ms/step\n",
      "3929/3929 [==============================] - 39s 10ms/step\n",
      "|   iter    |  target   | baggin... | featur... | max_depth | num_le... |\n",
      "-------------------------------------------------------------------------\n",
      "| \u001b[0m 1       \u001b[0m | \u001b[0m 0.7706  \u001b[0m | \u001b[0m 0.8749  \u001b[0m | \u001b[0m 0.7655  \u001b[0m | \u001b[0m 10.59   \u001b[0m | \u001b[0m 36.57   \u001b[0m |\n",
      "| \u001b[95m 2       \u001b[0m | \u001b[95m 0.7713  \u001b[0m | \u001b[95m 0.8312  \u001b[0m | \u001b[95m 0.2092  \u001b[0m | \u001b[95m 4.523   \u001b[0m | \u001b[95m 42.19   \u001b[0m |\n",
      "| \u001b[0m 3       \u001b[0m | \u001b[0m 0.7676  \u001b[0m | \u001b[0m 0.9202  \u001b[0m | \u001b[0m 0.5957  \u001b[0m | \u001b[0m 4.185   \u001b[0m | \u001b[0m 44.37   \u001b[0m |\n",
      "| \u001b[95m 4       \u001b[0m | \u001b[95m 0.7734  \u001b[0m | \u001b[95m 0.9665  \u001b[0m | \u001b[95m 0.2486  \u001b[0m | \u001b[95m 5.636   \u001b[0m | \u001b[95m 27.85   \u001b[0m |\n",
      "| \u001b[0m 5       \u001b[0m | \u001b[0m 0.772   \u001b[0m | \u001b[0m 0.8608  \u001b[0m | \u001b[0m 0.4673  \u001b[0m | \u001b[0m 7.888   \u001b[0m | \u001b[0m 30.12   \u001b[0m |\n",
      "| \u001b[0m 6       \u001b[0m | \u001b[0m 0.773   \u001b[0m | \u001b[0m 0.9382  \u001b[0m | \u001b[0m 0.2901  \u001b[0m | \u001b[0m 5.715   \u001b[0m | \u001b[0m 27.88   \u001b[0m |\n",
      "| \u001b[95m 7       \u001b[0m | \u001b[95m 0.7746  \u001b[0m | \u001b[95m 1.0     \u001b[0m | \u001b[95m 0.1     \u001b[0m | \u001b[95m 5.072   \u001b[0m | \u001b[95m 27.66   \u001b[0m |\n",
      "| \u001b[0m 8       \u001b[0m | \u001b[0m 0.7692  \u001b[0m | \u001b[0m 0.9753  \u001b[0m | \u001b[0m 0.3737  \u001b[0m | \u001b[0m 4.636   \u001b[0m | \u001b[0m 28.36   \u001b[0m |\n",
      "| \u001b[0m 9       \u001b[0m | \u001b[0m 0.7743  \u001b[0m | \u001b[0m 0.8475  \u001b[0m | \u001b[0m 0.1608  \u001b[0m | \u001b[0m 5.31    \u001b[0m | \u001b[0m 27.31   \u001b[0m |\n",
      "| \u001b[0m 10      \u001b[0m | \u001b[0m 0.7723  \u001b[0m | \u001b[0m 1.0     \u001b[0m | \u001b[0m 0.1     \u001b[0m | \u001b[0m 4.58    \u001b[0m | \u001b[0m 26.88   \u001b[0m |\n",
      "=========================================================================\n",
      "{'bagging_fraction': 1.0, 'feature_fraction': 0.1, 'max_depth': 5.071801194562763, 'num_leaves': 27.658956738875677}\n",
      "bagging_fraction 1.0\n",
      "feature_fraction 0.1\n",
      "max_depth 5.071801194562763\n",
      "num_leaves 27.658956738875677\n",
      "\n",
      "================new params==================\n",
      "{'boosting_type': 'gbdt', 'objective': 'binary', 'metric': 'auc', 'learning_rate': 0.01, 'n_jobs': 8, 'seed': 15, 'max_depth': 5, 'verbose': -1, 'num_leaves': 28, 'feature_fraction': 0.1, 'bagging_fraction': 1.0}\n",
      "Training until validation scores don't improve for 300 rounds\n",
      "[100]\ttraining's auc: 0.779875\tvalid_1's auc: 0.777072\n",
      "[200]\ttraining's auc: 0.78362\tvalid_1's auc: 0.77999\n",
      "[300]\ttraining's auc: 0.786672\tvalid_1's auc: 0.781899\n",
      "[400]\ttraining's auc: 0.789256\tvalid_1's auc: 0.783309\n",
      "[500]\ttraining's auc: 0.791406\tvalid_1's auc: 0.784355\n",
      "[600]\ttraining's auc: 0.793193\tvalid_1's auc: 0.785145\n",
      "[700]\ttraining's auc: 0.794739\tvalid_1's auc: 0.785753\n",
      "[800]\ttraining's auc: 0.796148\tvalid_1's auc: 0.786262\n",
      "[900]\ttraining's auc: 0.797408\tvalid_1's auc: 0.786636\n",
      "[1000]\ttraining's auc: 0.798547\tvalid_1's auc: 0.786914\n",
      "[1100]\ttraining's auc: 0.799636\tvalid_1's auc: 0.787161\n",
      "[1200]\ttraining's auc: 0.800671\tvalid_1's auc: 0.78738\n",
      "[1300]\ttraining's auc: 0.801652\tvalid_1's auc: 0.787575\n",
      "[1400]\ttraining's auc: 0.802562\tvalid_1's auc: 0.787735\n",
      "[1500]\ttraining's auc: 0.803446\tvalid_1's auc: 0.787867\n",
      "[1600]\ttraining's auc: 0.804291\tvalid_1's auc: 0.787959\n",
      "[1700]\ttraining's auc: 0.805115\tvalid_1's auc: 0.788059\n",
      "[1800]\ttraining's auc: 0.80592\tvalid_1's auc: 0.788145\n",
      "[1900]\ttraining's auc: 0.806669\tvalid_1's auc: 0.788236\n",
      "[2000]\ttraining's auc: 0.807404\tvalid_1's auc: 0.788294\n",
      "[2100]\ttraining's auc: 0.808156\tvalid_1's auc: 0.788355\n",
      "[2200]\ttraining's auc: 0.808876\tvalid_1's auc: 0.788416\n",
      "[2300]\ttraining's auc: 0.809625\tvalid_1's auc: 0.788463\n",
      "[2400]\ttraining's auc: 0.810366\tvalid_1's auc: 0.788537\n",
      "[2500]\ttraining's auc: 0.811075\tvalid_1's auc: 0.788577\n",
      "[2600]\ttraining's auc: 0.811821\tvalid_1's auc: 0.788624\n",
      "[2700]\ttraining's auc: 0.812493\tvalid_1's auc: 0.788647\n",
      "[2800]\ttraining's auc: 0.813178\tvalid_1's auc: 0.788681\n",
      "[2900]\ttraining's auc: 0.813844\tvalid_1's auc: 0.788718\n",
      "[3000]\ttraining's auc: 0.814497\tvalid_1's auc: 0.788745\n",
      "[3100]\ttraining's auc: 0.815175\tvalid_1's auc: 0.788788\n",
      "[3200]\ttraining's auc: 0.815835\tvalid_1's auc: 0.788821\n",
      "[3300]\ttraining's auc: 0.816488\tvalid_1's auc: 0.788852\n",
      "[3400]\ttraining's auc: 0.817137\tvalid_1's auc: 0.788856\n",
      "[3500]\ttraining's auc: 0.817764\tvalid_1's auc: 0.788884\n",
      "[3600]\ttraining's auc: 0.818381\tvalid_1's auc: 0.788896\n",
      "[3700]\ttraining's auc: 0.81899\tvalid_1's auc: 0.788915\n",
      "[3800]\ttraining's auc: 0.819632\tvalid_1's auc: 0.788943\n",
      "[3900]\ttraining's auc: 0.820229\tvalid_1's auc: 0.788957\n",
      "[4000]\ttraining's auc: 0.820882\tvalid_1's auc: 0.788966\n",
      "[4100]\ttraining's auc: 0.821502\tvalid_1's auc: 0.788972\n",
      "[4200]\ttraining's auc: 0.822078\tvalid_1's auc: 0.78899\n",
      "[4300]\ttraining's auc: 0.822656\tvalid_1's auc: 0.789015\n",
      "[4400]\ttraining's auc: 0.823227\tvalid_1's auc: 0.789015\n",
      "[4500]\ttraining's auc: 0.823782\tvalid_1's auc: 0.789029\n",
      "[4600]\ttraining's auc: 0.824365\tvalid_1's auc: 0.789041\n",
      "[4700]\ttraining's auc: 0.824944\tvalid_1's auc: 0.789058\n",
      "[4800]\ttraining's auc: 0.825544\tvalid_1's auc: 0.789071\n",
      "[4900]\ttraining's auc: 0.826098\tvalid_1's auc: 0.789081\n",
      "[5000]\ttraining's auc: 0.826627\tvalid_1's auc: 0.7891\n",
      "[5100]\ttraining's auc: 0.827183\tvalid_1's auc: 0.789104\n",
      "[5200]\ttraining's auc: 0.827758\tvalid_1's auc: 0.789106\n",
      "[5300]\ttraining's auc: 0.828311\tvalid_1's auc: 0.78911\n",
      "[5400]\ttraining's auc: 0.828855\tvalid_1's auc: 0.78911\n",
      "[5500]\ttraining's auc: 0.82942\tvalid_1's auc: 0.789139\n",
      "[5600]\ttraining's auc: 0.829982\tvalid_1's auc: 0.789139\n",
      "[5700]\ttraining's auc: 0.830555\tvalid_1's auc: 0.789156\n",
      "[5800]\ttraining's auc: 0.831096\tvalid_1's auc: 0.789156\n",
      "[5900]\ttraining's auc: 0.83161\tvalid_1's auc: 0.789164\n",
      "[6000]\ttraining's auc: 0.832154\tvalid_1's auc: 0.789171\n",
      "[6100]\ttraining's auc: 0.832675\tvalid_1's auc: 0.789172\n",
      "[6200]\ttraining's auc: 0.833228\tvalid_1's auc: 0.789165\n",
      "[6300]\ttraining's auc: 0.833772\tvalid_1's auc: 0.789174\n",
      "[6400]\ttraining's auc: 0.834283\tvalid_1's auc: 0.789175\n",
      "[6500]\ttraining's auc: 0.834794\tvalid_1's auc: 0.789181\n",
      "[6600]\ttraining's auc: 0.835303\tvalid_1's auc: 0.789172\n",
      "Early stopping, best iteration is:\n",
      "[6334]\ttraining's auc: 0.833948\tvalid_1's auc: 0.789189\n",
      "roc_auc_score: 0.7891890970318771\n",
      "lgb pass ==========================================\n",
      "\n",
      "dataset_y.shape (428572,)\n",
      "Fold lgbm auc scor: 0.7891890970318771\n",
      "Final split level: 0.03622129116334252\n",
      "\n",
      "val_y.shape (428572,)\n",
      "y_val_lstm_st1.shape, y_test_lstm_st1.shape (428572,) (500000,)\n",
      "482260 17740 500000\n",
      "101274 3725\n"
     ]
    },
    {
     "data": {
      "application/vnd.jupyter.widget-view+json": {
       "model_id": "ad32fa6183c3461499bffbab94537468",
       "version_major": 2,
       "version_minor": 0
      },
      "text/plain": [
       "Preparing credit data:   0%|          | 0/7 [00:00<?, ?it/s]"
      ]
     },
     "metadata": {},
     "output_type": "display_data"
    },
    {
     "name": "stdout",
     "output_type": "stream",
     "text": [
      "Reading chunks:\n",
      "../data/7Folds/mod_data/train_data_0.pq\n",
      "../data/7Folds/mod_data/train_data_1.pq\n"
     ]
    },
    {
     "data": {
      "application/vnd.jupyter.widget-view+json": {
       "model_id": "b344fe0b700046a182c8dd04f5042722",
       "version_major": 2,
       "version_minor": 0
      },
      "text/plain": [
       "Reading dataset with pandas:   0%|          | 0/2 [00:00<?, ?it/s]"
      ]
     },
     "metadata": {},
     "output_type": "display_data"
    },
    {
     "name": "stdout",
     "output_type": "stream",
     "text": [
      "WARNING:tensorflow:Detecting that an object or model or tf.train.Checkpoint is being deleted with unrestored values. See the following logs for the specific values in question. To silence these warnings, use `status.expect_partial()`. See https://www.tensorflow.org/api_docs/python/tf/train/Checkpoint#restorefor details about the status object returned by the restore function.\n",
      "WARNING:tensorflow:Value in checkpoint could not be found in the restored object: (root).optimizer.iter\n",
      "WARNING:tensorflow:Value in checkpoint could not be found in the restored object: (root).optimizer.beta_1\n",
      "WARNING:tensorflow:Value in checkpoint could not be found in the restored object: (root).optimizer.beta_2\n",
      "WARNING:tensorflow:Value in checkpoint could not be found in the restored object: (root).optimizer.decay\n",
      "WARNING:tensorflow:Value in checkpoint could not be found in the restored object: (root).optimizer.learning_rate\n",
      "Transforming credits to sequences is done.\n"
     ]
    },
    {
     "data": {
      "application/vnd.jupyter.widget-view+json": {
       "model_id": "4e9626b978ef47a2a6ba9548b027d7d1",
       "version_major": 2,
       "version_minor": 0
      },
      "text/plain": [
       "Extracting buckets:   0%|          | 0/43 [00:00<?, ?it/s]"
      ]
     },
     "metadata": {},
     "output_type": "display_data"
    },
    {
     "name": "stdout",
     "output_type": "stream",
     "text": [
      "Reading chunks:\n",
      "../data/7Folds/mod_data/train_data_2.pq\n",
      "../data/7Folds/mod_data/train_data_3.pq\n"
     ]
    },
    {
     "data": {
      "application/vnd.jupyter.widget-view+json": {
       "model_id": "9284f6e2adf741a8b9d7b95e34c4ba02",
       "version_major": 2,
       "version_minor": 0
      },
      "text/plain": [
       "Reading dataset with pandas:   0%|          | 0/2 [00:00<?, ?it/s]"
      ]
     },
     "metadata": {},
     "output_type": "display_data"
    },
    {
     "name": "stdout",
     "output_type": "stream",
     "text": [
      "Transforming credits to sequences is done.\n"
     ]
    },
    {
     "data": {
      "application/vnd.jupyter.widget-view+json": {
       "model_id": "e9882b81f0464d24b05742413dc0d2f4",
       "version_major": 2,
       "version_minor": 0
      },
      "text/plain": [
       "Extracting buckets:   0%|          | 0/43 [00:00<?, ?it/s]"
      ]
     },
     "metadata": {},
     "output_type": "display_data"
    },
    {
     "name": "stdout",
     "output_type": "stream",
     "text": [
      "Reading chunks:\n",
      "../data/7Folds/mod_data/train_data_4.pq\n",
      "../data/7Folds/mod_data/train_data_5.pq\n"
     ]
    },
    {
     "data": {
      "application/vnd.jupyter.widget-view+json": {
       "model_id": "04f39989da7b45c0847a7a43e0f9e01e",
       "version_major": 2,
       "version_minor": 0
      },
      "text/plain": [
       "Reading dataset with pandas:   0%|          | 0/2 [00:00<?, ?it/s]"
      ]
     },
     "metadata": {},
     "output_type": "display_data"
    },
    {
     "name": "stdout",
     "output_type": "stream",
     "text": [
      "Transforming credits to sequences is done.\n"
     ]
    },
    {
     "data": {
      "application/vnd.jupyter.widget-view+json": {
       "model_id": "5b47fd86ecfd4bcfa60470003e064398",
       "version_major": 2,
       "version_minor": 0
      },
      "text/plain": [
       "Extracting buckets:   0%|          | 0/41 [00:00<?, ?it/s]"
      ]
     },
     "metadata": {},
     "output_type": "display_data"
    },
    {
     "name": "stdout",
     "output_type": "stream",
     "text": [
      "Reading chunks:\n",
      "../data/7Folds/mod_data/train_data_6.pq\n",
      "../data/7Folds/mod_data/train_data_7.pq\n"
     ]
    },
    {
     "data": {
      "application/vnd.jupyter.widget-view+json": {
       "model_id": "705a152145004cc4afaa8381d95a43bc",
       "version_major": 2,
       "version_minor": 0
      },
      "text/plain": [
       "Reading dataset with pandas:   0%|          | 0/2 [00:00<?, ?it/s]"
      ]
     },
     "metadata": {},
     "output_type": "display_data"
    },
    {
     "name": "stdout",
     "output_type": "stream",
     "text": [
      "Transforming credits to sequences is done.\n"
     ]
    },
    {
     "data": {
      "application/vnd.jupyter.widget-view+json": {
       "model_id": "15e126d987814e1b9c0f72fdecc03567",
       "version_major": 2,
       "version_minor": 0
      },
      "text/plain": [
       "Extracting buckets:   0%|          | 0/43 [00:00<?, ?it/s]"
      ]
     },
     "metadata": {},
     "output_type": "display_data"
    },
    {
     "name": "stdout",
     "output_type": "stream",
     "text": [
      "Reading chunks:\n",
      "../data/7Folds/mod_data/train_data_8.pq\n",
      "../data/7Folds/mod_data/train_data_9.pq\n"
     ]
    },
    {
     "data": {
      "application/vnd.jupyter.widget-view+json": {
       "model_id": "06aa52c21b064ab7ae978d7cc2692fc3",
       "version_major": 2,
       "version_minor": 0
      },
      "text/plain": [
       "Reading dataset with pandas:   0%|          | 0/2 [00:00<?, ?it/s]"
      ]
     },
     "metadata": {},
     "output_type": "display_data"
    },
    {
     "name": "stdout",
     "output_type": "stream",
     "text": [
      "Transforming credits to sequences is done.\n"
     ]
    },
    {
     "data": {
      "application/vnd.jupyter.widget-view+json": {
       "model_id": "7894463906d34fb19dbed8a534aab3e9",
       "version_major": 2,
       "version_minor": 0
      },
      "text/plain": [
       "Extracting buckets:   0%|          | 0/42 [00:00<?, ?it/s]"
      ]
     },
     "metadata": {},
     "output_type": "display_data"
    },
    {
     "name": "stdout",
     "output_type": "stream",
     "text": [
      "Reading chunks:\n",
      "../data/7Folds/mod_data/train_data_10.pq\n",
      "../data/7Folds/mod_data/train_data_11.pq\n"
     ]
    },
    {
     "data": {
      "application/vnd.jupyter.widget-view+json": {
       "model_id": "61f60345146041bd92479489c3c7c369",
       "version_major": 2,
       "version_minor": 0
      },
      "text/plain": [
       "Reading dataset with pandas:   0%|          | 0/2 [00:00<?, ?it/s]"
      ]
     },
     "metadata": {},
     "output_type": "display_data"
    },
    {
     "name": "stdout",
     "output_type": "stream",
     "text": [
      "Transforming credits to sequences is done.\n"
     ]
    },
    {
     "data": {
      "application/vnd.jupyter.widget-view+json": {
       "model_id": "0bcb76c01fc4458793f09fccaef71995",
       "version_major": 2,
       "version_minor": 0
      },
      "text/plain": [
       "Extracting buckets:   0%|          | 0/42 [00:00<?, ?it/s]"
      ]
     },
     "metadata": {},
     "output_type": "display_data"
    },
    {
     "name": "stdout",
     "output_type": "stream",
     "text": [
      "Reading chunks:\n",
      "../data/7Folds/mod_data/train_data_12.pq\n",
      "../data/7Folds/mod_data/train_data_13.pq\n"
     ]
    },
    {
     "data": {
      "application/vnd.jupyter.widget-view+json": {
       "model_id": "94707d0d85784527b31fdca8a0ae3c7f",
       "version_major": 2,
       "version_minor": 0
      },
      "text/plain": [
       "Reading dataset with pandas:   0%|          | 0/2 [00:00<?, ?it/s]"
      ]
     },
     "metadata": {},
     "output_type": "display_data"
    },
    {
     "name": "stdout",
     "output_type": "stream",
     "text": [
      "Transforming credits to sequences is done.\n"
     ]
    },
    {
     "data": {
      "application/vnd.jupyter.widget-view+json": {
       "model_id": "3bf04a8ba64f4277b4c1829410a50270",
       "version_major": 2,
       "version_minor": 0
      },
      "text/plain": [
       "Extracting buckets:   0%|          | 0/40 [00:00<?, ?it/s]"
      ]
     },
     "metadata": {},
     "output_type": "display_data"
    },
    {
     "name": "stdout",
     "output_type": "stream",
     "text": [
      "Starting epoch 1\n",
      "20089/20089 [==============================] - 1403s 70ms/step - loss: 0.1310\n",
      "3425/3425 [==============================] - 49s 14ms/step\n",
      "Validation ROC-AUC improved (-inf --> 0.779044).  Saving model...\n",
      "Epoch 1 completed. Train2 ROC AUC: Now is not estimated, val ROC AUC: 0.7790440708063915\n",
      "Starting epoch 2\n",
      "Epoch 2/2\n",
      "20089/20089 [==============================] - 1405s 70ms/step - loss: 0.1293\n",
      "3425/3425 [==============================] - 39s 11ms/step\n",
      "Validation ROC-AUC improved (0.779044 --> 0.782815).  Saving model...\n",
      "Epoch 2 completed. Train2 ROC AUC: Now is not estimated, val ROC AUC: 0.7828146258348063\n",
      "Starting epoch 3\n",
      "Epoch 3/3\n",
      "20089/20089 [==============================] - 1395s 69ms/step - loss: 0.1283\n",
      "3425/3425 [==============================] - 39s 11ms/step\n",
      "Validation ROC-AUC improved (0.782815 --> 0.784102).  Saving model...\n",
      "Epoch 3 completed. Train2 ROC AUC: Now is not estimated, val ROC AUC: 0.7841020168005646\n",
      "Starting epoch 4\n",
      "Epoch 4/4\n",
      "20089/20089 [==============================] - 1399s 70ms/step - loss: 0.1281\n",
      "3425/3425 [==============================] - 40s 12ms/step\n",
      "No imporvement in validation ROC-AUC. Current: 0.783822. Current best: 0.784102\n",
      "EarlyStopping counter: 1 out of 3\n",
      "Epoch 4 completed. Train2 ROC AUC: Now is not estimated, val ROC AUC: 0.7838218183102026\n",
      "Starting epoch 5\n",
      "Epoch 5/5\n",
      "20089/20089 [==============================] - 1402s 70ms/step - loss: 0.1259\n",
      "3425/3425 [==============================] - 39s 11ms/step\n",
      "No imporvement in validation ROC-AUC. Current: 0.782563. Current best: 0.784102\n",
      "EarlyStopping counter: 2 out of 3\n",
      "Epoch 5 completed. Train2 ROC AUC: Now is not estimated, val ROC AUC: 0.7825629725837114\n",
      "Starting epoch 6\n",
      "Epoch 6/6\n",
      "20089/20089 [==============================] - 1395s 69ms/step - loss: 0.1248\n",
      "3425/3425 [==============================] - 39s 11ms/step\n",
      "No imporvement in validation ROC-AUC. Current: 0.774314. Current best: 0.784102\n",
      "EarlyStopping counter: 3 out of 3\n",
      "Early stopping reached. Stop training...\n",
      "3425/3425 [==============================] - 39s 11ms/step\n",
      "3929/3929 [==============================] - 44s 11ms/step\n",
      "dataset_y.shape (428572,)\n",
      "y_val_net_st2.shape, y_test_net_st2.shape (428572,) (500000,)\n",
      "\n",
      "Fold net2 auc scor : 0.7841020168005646\n",
      "3373/3373 [==============================] - 34s 10ms/step\n",
      "3372/3372 [==============================] - 34s 10ms/step\n",
      "843/843 [==============================] - 8s 10ms/step\n",
      "3371/3371 [==============================] - 34s 10ms/step\n",
      "3371/3371 [==============================] - 34s 10ms/step\n",
      "3374/3374 [==============================] - 34s 10ms/step\n",
      "3367/3367 [==============================] - 34s 10ms/step\n",
      "X_train_for_lgbm2 done \n",
      "3425/3425 [==============================] - 35s 10ms/step\n",
      "3929/3929 [==============================] - 39s 10ms/step\n",
      "|   iter    |  target   | baggin... | featur... | max_depth | num_le... |\n",
      "-------------------------------------------------------------------------\n",
      "| \u001b[0m 1       \u001b[0m | \u001b[0m 0.7705  \u001b[0m | \u001b[0m 0.8749  \u001b[0m | \u001b[0m 0.7655  \u001b[0m | \u001b[0m 10.59   \u001b[0m | \u001b[0m 36.57   \u001b[0m |\n",
      "| \u001b[0m 2       \u001b[0m | \u001b[0m 0.7702  \u001b[0m | \u001b[0m 0.8312  \u001b[0m | \u001b[0m 0.2092  \u001b[0m | \u001b[0m 4.523   \u001b[0m | \u001b[0m 42.19   \u001b[0m |\n",
      "| \u001b[0m 3       \u001b[0m | \u001b[0m 0.7672  \u001b[0m | \u001b[0m 0.9202  \u001b[0m | \u001b[0m 0.5957  \u001b[0m | \u001b[0m 4.185   \u001b[0m | \u001b[0m 44.37   \u001b[0m |\n",
      "| \u001b[95m 4       \u001b[0m | \u001b[95m 0.7724  \u001b[0m | \u001b[95m 0.9665  \u001b[0m | \u001b[95m 0.2486  \u001b[0m | \u001b[95m 5.636   \u001b[0m | \u001b[95m 27.85   \u001b[0m |\n",
      "| \u001b[0m 5       \u001b[0m | \u001b[0m 0.7715  \u001b[0m | \u001b[0m 0.8608  \u001b[0m | \u001b[0m 0.4673  \u001b[0m | \u001b[0m 7.888   \u001b[0m | \u001b[0m 30.12   \u001b[0m |\n",
      "| \u001b[0m 6       \u001b[0m | \u001b[0m 0.7696  \u001b[0m | \u001b[0m 1.0     \u001b[0m | \u001b[0m 0.7575  \u001b[0m | \u001b[0m 5.703   \u001b[0m | \u001b[0m 29.5    \u001b[0m |\n",
      "| \u001b[95m 7       \u001b[0m | \u001b[95m 0.774   \u001b[0m | \u001b[95m 0.8098  \u001b[0m | \u001b[95m 0.1129  \u001b[0m | \u001b[95m 9.405   \u001b[0m | \u001b[95m 39.2    \u001b[0m |\n",
      "| \u001b[0m 8       \u001b[0m | \u001b[0m 0.7734  \u001b[0m | \u001b[0m 0.8009  \u001b[0m | \u001b[0m 0.1283  \u001b[0m | \u001b[0m 8.198   \u001b[0m | \u001b[0m 31.39   \u001b[0m |\n",
      "| \u001b[0m 9       \u001b[0m | \u001b[0m 0.7732  \u001b[0m | \u001b[0m 0.8572  \u001b[0m | \u001b[0m 0.3788  \u001b[0m | \u001b[0m 8.754   \u001b[0m | \u001b[0m 39.9    \u001b[0m |\n",
      "| \u001b[95m 10      \u001b[0m | \u001b[95m 0.7753  \u001b[0m | \u001b[95m 0.8     \u001b[0m | \u001b[95m 0.1     \u001b[0m | \u001b[95m 10.64   \u001b[0m | \u001b[95m 40.2    \u001b[0m |\n",
      "=========================================================================\n",
      "{'bagging_fraction': 0.8, 'feature_fraction': 0.1, 'max_depth': 10.638955432867705, 'num_leaves': 40.20137159815832}\n",
      "bagging_fraction 0.8\n",
      "feature_fraction 0.1\n",
      "max_depth 10.638955432867705\n",
      "num_leaves 40.20137159815832\n",
      "\n",
      "================new params==================\n",
      "{'boosting_type': 'gbdt', 'objective': 'binary', 'metric': 'auc', 'learning_rate': 0.01, 'n_jobs': 8, 'seed': 15, 'max_depth': 11, 'verbose': -1, 'num_leaves': 40, 'feature_fraction': 0.1, 'bagging_fraction': 0.8}\n",
      "Training until validation scores don't improve for 300 rounds\n",
      "[100]\ttraining's auc: 0.797127\tvalid_1's auc: 0.777331\n",
      "[200]\ttraining's auc: 0.801206\tvalid_1's auc: 0.780165\n",
      "[300]\ttraining's auc: 0.80433\tvalid_1's auc: 0.78225\n",
      "[400]\ttraining's auc: 0.806944\tvalid_1's auc: 0.783733\n",
      "[500]\ttraining's auc: 0.809173\tvalid_1's auc: 0.784757\n",
      "[600]\ttraining's auc: 0.811114\tvalid_1's auc: 0.785497\n",
      "[700]\ttraining's auc: 0.81289\tvalid_1's auc: 0.786038\n",
      "[800]\ttraining's auc: 0.814571\tvalid_1's auc: 0.786451\n",
      "[900]\ttraining's auc: 0.816111\tvalid_1's auc: 0.786723\n",
      "[1000]\ttraining's auc: 0.817629\tvalid_1's auc: 0.786977\n",
      "[1100]\ttraining's auc: 0.819117\tvalid_1's auc: 0.787162\n",
      "[1200]\ttraining's auc: 0.820535\tvalid_1's auc: 0.787276\n",
      "[1300]\ttraining's auc: 0.821932\tvalid_1's auc: 0.787381\n",
      "[1400]\ttraining's auc: 0.823271\tvalid_1's auc: 0.787467\n",
      "[1500]\ttraining's auc: 0.824611\tvalid_1's auc: 0.787518\n",
      "[1600]\ttraining's auc: 0.825939\tvalid_1's auc: 0.787578\n",
      "[1700]\ttraining's auc: 0.827272\tvalid_1's auc: 0.787606\n",
      "[1800]\ttraining's auc: 0.828541\tvalid_1's auc: 0.787651\n",
      "[1900]\ttraining's auc: 0.82979\tvalid_1's auc: 0.787696\n",
      "[2000]\ttraining's auc: 0.831029\tvalid_1's auc: 0.787702\n",
      "[2100]\ttraining's auc: 0.832278\tvalid_1's auc: 0.787726\n",
      "[2200]\ttraining's auc: 0.833475\tvalid_1's auc: 0.787725\n",
      "[2300]\ttraining's auc: 0.834722\tvalid_1's auc: 0.787737\n",
      "[2400]\ttraining's auc: 0.835856\tvalid_1's auc: 0.787749\n",
      "[2500]\ttraining's auc: 0.836999\tvalid_1's auc: 0.787787\n",
      "[2600]\ttraining's auc: 0.838196\tvalid_1's auc: 0.787794\n",
      "[2700]\ttraining's auc: 0.839363\tvalid_1's auc: 0.787777\n",
      "[2800]\ttraining's auc: 0.840598\tvalid_1's auc: 0.787777\n",
      "[2900]\ttraining's auc: 0.841708\tvalid_1's auc: 0.7878\n",
      "[3000]\ttraining's auc: 0.842765\tvalid_1's auc: 0.787811\n",
      "[3100]\ttraining's auc: 0.843838\tvalid_1's auc: 0.787812\n",
      "[3200]\ttraining's auc: 0.84496\tvalid_1's auc: 0.787834\n",
      "[3300]\ttraining's auc: 0.846111\tvalid_1's auc: 0.787841\n",
      "[3400]\ttraining's auc: 0.847214\tvalid_1's auc: 0.787885\n",
      "[3500]\ttraining's auc: 0.848198\tvalid_1's auc: 0.787883\n",
      "[3600]\ttraining's auc: 0.849225\tvalid_1's auc: 0.787885\n",
      "Early stopping, best iteration is:\n",
      "[3353]\ttraining's auc: 0.846731\tvalid_1's auc: 0.787894\n",
      "roc_auc_score: 0.7878936453138599\n",
      "lgb pass ==========================================\n",
      "\n",
      "dataset_y.shape (428572,)\n",
      "Fold lgbm auc scor: 0.7878936453138599\n",
      "Final split level: 0.03579544540100906\n",
      "\n",
      "val_y.shape (428572,)\n",
      "y_val_lstm_st2.shape, y_test_lstm_st2.shape (428572,) (500000,)\n",
      "mul_lstm_st1_lstm_st2_ 0.7910344630133903\n",
      "{'mul_lstm_st1_lstm_st2_net_st1_net_st2_': 0.7904495589894901, 'sum_lstm_st1_lstm_st2_net_st1_net_st2_': 0.7905425168106475, 'mul_lstm_st1_lstm_st2_net_st1_': 0.7906999107926638, 'sum_lstm_st1_lstm_st2_net_st1_': 0.7907266010736755, 'mul_lstm_st1_lstm_st2_net_st2_': 0.7901169616796165, 'sum_lstm_st1_lstm_st2_net_st2_': 0.790318608225353, 'mul_lstm_st1_net_st1_net_st2_': 0.7900299235292207, 'sum_lstm_st1_net_st1_net_st2_': 0.7900702303867442, 'mul_lstm_st2_net_st1_net_st2_': 0.7892147015688658, 'sum_lstm_st2_net_st1_net_st2_': 0.789334143573383, 'mul_lstm_st1_lstm_st2_': 0.7910344630133903, 'sum_lstm_st1_lstm_st2_': 0.7910262570559677, 'mul_lstm_st1_net_st1_': 0.7889117196023603, 'sum_lstm_st1_net_st1_': 0.7889710336490864, 'mul_lstm_st1_net_st2_': 0.7897878088045329, 'sum_lstm_st1_net_st2_': 0.7900066719668853, 'mul_lstm_st2_net_st1_': 0.7896687626408825, 'sum_lstm_st2_net_st1_': 0.7896553197707121, 'mul_lstm_st2_net_st2_': 0.787241975336464, 'sum_lstm_st2_net_st2_': 0.7874246578814114, 'mul_net_st1_net_st2_': 0.7882716164984057, 'sum_net_st1_net_st2_': 0.788342970585755, 'lstm_st1': 0.7891890970318771, 'lstm_st2': 0.7878936453138599, 'net_st1': 0.7852172048423748, 'net_st2': 0.7841020168005646}\n",
      "\n"
     ]
    },
    {
     "name": "stdout",
     "output_type": "stream",
     "text": [
      "Fold: 2 pass. Time 15678.706983327866 sec.\n",
      "=======================================================================================================\n",
      "\n",
      "\n",
      "3416/3416 [==============================] - 45s 13ms/step\n",
      "3929/3929 [==============================] - 43s 11ms/step\n",
      "dataset_y.shape (428572,)\n",
      "y_val_net_st1.shape, y_test_net_st1.shape (428572,) (500000,)\n",
      "\n",
      "Fold net auc scor : 0.781169414072427\n",
      "6721/6721 [==============================] - 65s 10ms/step\n",
      "6717/6717 [==============================] - 66s 10ms/step\n",
      "6719/6719 [==============================] - 66s 10ms/step\n",
      "X_train_for_lgbm shapes ===>  (2571428, 512) (857306, 512) (856824, 512) (857298, 512)\n",
      "3416/3416 [==============================] - 33s 10ms/step\n",
      "3929/3929 [==============================] - 38s 10ms/step\n",
      "|   iter    |  target   | baggin... | featur... | max_depth | num_le... |\n",
      "-------------------------------------------------------------------------\n",
      "| \u001b[0m 1       \u001b[0m | \u001b[0m 0.7639  \u001b[0m | \u001b[0m 0.8749  \u001b[0m | \u001b[0m 0.7655  \u001b[0m | \u001b[0m 10.59   \u001b[0m | \u001b[0m 36.57   \u001b[0m |\n",
      "| \u001b[95m 2       \u001b[0m | \u001b[95m 0.7656  \u001b[0m | \u001b[95m 0.8312  \u001b[0m | \u001b[95m 0.2092  \u001b[0m | \u001b[95m 4.523   \u001b[0m | \u001b[95m 42.19   \u001b[0m |\n",
      "| \u001b[0m 3       \u001b[0m | \u001b[0m 0.7609  \u001b[0m | \u001b[0m 0.9202  \u001b[0m | \u001b[0m 0.5957  \u001b[0m | \u001b[0m 4.185   \u001b[0m | \u001b[0m 44.37   \u001b[0m |\n",
      "| \u001b[95m 4       \u001b[0m | \u001b[95m 0.7676  \u001b[0m | \u001b[95m 0.9665  \u001b[0m | \u001b[95m 0.2486  \u001b[0m | \u001b[95m 5.636   \u001b[0m | \u001b[95m 27.85   \u001b[0m |\n",
      "| \u001b[0m 5       \u001b[0m | \u001b[0m 0.7657  \u001b[0m | \u001b[0m 0.8608  \u001b[0m | \u001b[0m 0.4673  \u001b[0m | \u001b[0m 7.888   \u001b[0m | \u001b[0m 30.12   \u001b[0m |\n",
      "| \u001b[0m 6       \u001b[0m | \u001b[0m 0.7669  \u001b[0m | \u001b[0m 0.9382  \u001b[0m | \u001b[0m 0.2901  \u001b[0m | \u001b[0m 5.715   \u001b[0m | \u001b[0m 27.88   \u001b[0m |\n",
      "| \u001b[0m 7       \u001b[0m | \u001b[0m 0.7662  \u001b[0m | \u001b[0m 0.8908  \u001b[0m | \u001b[0m 0.4476  \u001b[0m | \u001b[0m 7.918   \u001b[0m | \u001b[0m 30.16   \u001b[0m |\n",
      "| \u001b[95m 8       \u001b[0m | \u001b[95m 0.7681  \u001b[0m | \u001b[95m 0.8009  \u001b[0m | \u001b[95m 0.1283  \u001b[0m | \u001b[95m 8.198   \u001b[0m | \u001b[95m 31.39   \u001b[0m |\n",
      "| \u001b[0m 9       \u001b[0m | \u001b[0m 0.7663  \u001b[0m | \u001b[0m 0.8589  \u001b[0m | \u001b[0m 0.3265  \u001b[0m | \u001b[0m 5.237   \u001b[0m | \u001b[0m 27.58   \u001b[0m |\n",
      "| \u001b[0m 10      \u001b[0m | \u001b[0m 0.7664  \u001b[0m | \u001b[0m 0.8384  \u001b[0m | \u001b[0m 0.4385  \u001b[0m | \u001b[0m 8.165   \u001b[0m | \u001b[0m 31.06   \u001b[0m |\n",
      "=========================================================================\n",
      "{'bagging_fraction': 0.8008956171331457, 'feature_fraction': 0.12825637156904665, 'max_depth': 8.19807344803538, 'num_leaves': 31.394263451318174}\n",
      "bagging_fraction 0.8008956171331457\n",
      "feature_fraction 0.12825637156904665\n",
      "max_depth 8.19807344803538\n",
      "num_leaves 31.394263451318174\n",
      "\n",
      "================new params==================\n",
      "{'boosting_type': 'gbdt', 'objective': 'binary', 'metric': 'auc', 'learning_rate': 0.01, 'n_jobs': 8, 'seed': 15, 'max_depth': 8, 'verbose': -1, 'num_leaves': 31, 'feature_fraction': 0.12825637156904665, 'bagging_fraction': 0.8008956171331457}\n",
      "Training until validation scores don't improve for 300 rounds\n",
      "[100]\ttraining's auc: 0.783129\tvalid_1's auc: 0.770823\n",
      "[200]\ttraining's auc: 0.78791\tvalid_1's auc: 0.774387\n",
      "[300]\ttraining's auc: 0.79175\tvalid_1's auc: 0.776704\n",
      "[400]\ttraining's auc: 0.794885\tvalid_1's auc: 0.778352\n",
      "[500]\ttraining's auc: 0.797669\tvalid_1's auc: 0.779645\n",
      "[600]\ttraining's auc: 0.800052\tvalid_1's auc: 0.780613\n",
      "[700]\ttraining's auc: 0.802144\tvalid_1's auc: 0.781328\n",
      "[800]\ttraining's auc: 0.804013\tvalid_1's auc: 0.781813\n",
      "[900]\ttraining's auc: 0.805727\tvalid_1's auc: 0.782224\n",
      "[1000]\ttraining's auc: 0.807266\tvalid_1's auc: 0.782505\n",
      "[1100]\ttraining's auc: 0.808662\tvalid_1's auc: 0.782747\n",
      "[1200]\ttraining's auc: 0.810053\tvalid_1's auc: 0.782932\n",
      "[1300]\ttraining's auc: 0.81136\tvalid_1's auc: 0.783065\n",
      "[1400]\ttraining's auc: 0.812612\tvalid_1's auc: 0.783185\n",
      "[1500]\ttraining's auc: 0.813806\tvalid_1's auc: 0.783259\n",
      "[1600]\ttraining's auc: 0.814967\tvalid_1's auc: 0.78333\n",
      "[1700]\ttraining's auc: 0.816111\tvalid_1's auc: 0.783394\n",
      "[1800]\ttraining's auc: 0.817216\tvalid_1's auc: 0.783436\n",
      "[1900]\ttraining's auc: 0.818268\tvalid_1's auc: 0.783475\n",
      "[2000]\ttraining's auc: 0.819374\tvalid_1's auc: 0.783513\n",
      "[2100]\ttraining's auc: 0.820388\tvalid_1's auc: 0.783509\n",
      "[2200]\ttraining's auc: 0.821379\tvalid_1's auc: 0.783512\n",
      "[2300]\ttraining's auc: 0.822401\tvalid_1's auc: 0.783492\n",
      "Early stopping, best iteration is:\n",
      "[2015]\ttraining's auc: 0.81952\tvalid_1's auc: 0.783525\n",
      "roc_auc_score: 0.7835246502533153\n",
      "lgb pass ==========================================\n",
      "\n",
      "dataset_y.shape (428572,)\n",
      "Fold lgbm auc scor: 0.7835246502533153\n",
      "Final split level: 0.031902739035122966\n",
      "\n",
      "val_y.shape (428572,)\n",
      "y_val_lstm_st1.shape, y_test_lstm_st1.shape (428572,) (500000,)\n",
      "482260 17740 500000\n",
      "101274 3725\n"
     ]
    },
    {
     "data": {
      "application/vnd.jupyter.widget-view+json": {
       "model_id": "6e926b5d7c8f43c5a41e1050caba895e",
       "version_major": 2,
       "version_minor": 0
      },
      "text/plain": [
       "Preparing credit data:   0%|          | 0/7 [00:00<?, ?it/s]"
      ]
     },
     "metadata": {},
     "output_type": "display_data"
    },
    {
     "name": "stdout",
     "output_type": "stream",
     "text": [
      "Reading chunks:\n",
      "../data/7Folds/mod_data/train_data_0.pq\n",
      "../data/7Folds/mod_data/train_data_1.pq\n"
     ]
    },
    {
     "data": {
      "application/vnd.jupyter.widget-view+json": {
       "model_id": "6d2461e0b4924e1fa76266b980f19a7c",
       "version_major": 2,
       "version_minor": 0
      },
      "text/plain": [
       "Reading dataset with pandas:   0%|          | 0/2 [00:00<?, ?it/s]"
      ]
     },
     "metadata": {},
     "output_type": "display_data"
    },
    {
     "name": "stdout",
     "output_type": "stream",
     "text": [
      "WARNING:tensorflow:Detecting that an object or model or tf.train.Checkpoint is being deleted with unrestored values. See the following logs for the specific values in question. To silence these warnings, use `status.expect_partial()`. See https://www.tensorflow.org/api_docs/python/tf/train/Checkpoint#restorefor details about the status object returned by the restore function.\n",
      "WARNING:tensorflow:Value in checkpoint could not be found in the restored object: (root).optimizer.iter\n",
      "WARNING:tensorflow:Value in checkpoint could not be found in the restored object: (root).optimizer.beta_1\n",
      "WARNING:tensorflow:Value in checkpoint could not be found in the restored object: (root).optimizer.beta_2\n",
      "WARNING:tensorflow:Value in checkpoint could not be found in the restored object: (root).optimizer.decay\n",
      "WARNING:tensorflow:Value in checkpoint could not be found in the restored object: (root).optimizer.learning_rate\n",
      "Transforming credits to sequences is done.\n"
     ]
    },
    {
     "data": {
      "application/vnd.jupyter.widget-view+json": {
       "model_id": "96d6867434104b35836159ad0fbabf4f",
       "version_major": 2,
       "version_minor": 0
      },
      "text/plain": [
       "Extracting buckets:   0%|          | 0/43 [00:00<?, ?it/s]"
      ]
     },
     "metadata": {},
     "output_type": "display_data"
    },
    {
     "name": "stdout",
     "output_type": "stream",
     "text": [
      "Reading chunks:\n",
      "../data/7Folds/mod_data/train_data_2.pq\n",
      "../data/7Folds/mod_data/train_data_3.pq\n"
     ]
    },
    {
     "data": {
      "application/vnd.jupyter.widget-view+json": {
       "model_id": "08adca5d9b044b0d970409a27ceccd83",
       "version_major": 2,
       "version_minor": 0
      },
      "text/plain": [
       "Reading dataset with pandas:   0%|          | 0/2 [00:00<?, ?it/s]"
      ]
     },
     "metadata": {},
     "output_type": "display_data"
    },
    {
     "name": "stdout",
     "output_type": "stream",
     "text": [
      "Transforming credits to sequences is done.\n"
     ]
    },
    {
     "data": {
      "application/vnd.jupyter.widget-view+json": {
       "model_id": "be6b22c9c9a4429697d68d1570f2bc0a",
       "version_major": 2,
       "version_minor": 0
      },
      "text/plain": [
       "Extracting buckets:   0%|          | 0/43 [00:00<?, ?it/s]"
      ]
     },
     "metadata": {},
     "output_type": "display_data"
    },
    {
     "name": "stdout",
     "output_type": "stream",
     "text": [
      "Reading chunks:\n",
      "../data/7Folds/mod_data/train_data_4.pq\n",
      "../data/7Folds/mod_data/train_data_5.pq\n"
     ]
    },
    {
     "data": {
      "application/vnd.jupyter.widget-view+json": {
       "model_id": "19c7f17decbb4d908527f829a803fe2b",
       "version_major": 2,
       "version_minor": 0
      },
      "text/plain": [
       "Reading dataset with pandas:   0%|          | 0/2 [00:00<?, ?it/s]"
      ]
     },
     "metadata": {},
     "output_type": "display_data"
    },
    {
     "name": "stdout",
     "output_type": "stream",
     "text": [
      "Transforming credits to sequences is done.\n"
     ]
    },
    {
     "data": {
      "application/vnd.jupyter.widget-view+json": {
       "model_id": "e1abc5ed1ca94cdf8fa2f07c5b3d6563",
       "version_major": 2,
       "version_minor": 0
      },
      "text/plain": [
       "Extracting buckets:   0%|          | 0/42 [00:00<?, ?it/s]"
      ]
     },
     "metadata": {},
     "output_type": "display_data"
    },
    {
     "name": "stdout",
     "output_type": "stream",
     "text": [
      "Reading chunks:\n",
      "../data/7Folds/mod_data/train_data_6.pq\n",
      "../data/7Folds/mod_data/train_data_7.pq\n"
     ]
    },
    {
     "data": {
      "application/vnd.jupyter.widget-view+json": {
       "model_id": "abe9f19e44a8446cb4a7a5cc97344b1c",
       "version_major": 2,
       "version_minor": 0
      },
      "text/plain": [
       "Reading dataset with pandas:   0%|          | 0/2 [00:00<?, ?it/s]"
      ]
     },
     "metadata": {},
     "output_type": "display_data"
    },
    {
     "name": "stdout",
     "output_type": "stream",
     "text": [
      "Transforming credits to sequences is done.\n"
     ]
    },
    {
     "data": {
      "application/vnd.jupyter.widget-view+json": {
       "model_id": "aa6514fb47944d51b814422226cae466",
       "version_major": 2,
       "version_minor": 0
      },
      "text/plain": [
       "Extracting buckets:   0%|          | 0/43 [00:00<?, ?it/s]"
      ]
     },
     "metadata": {},
     "output_type": "display_data"
    },
    {
     "name": "stdout",
     "output_type": "stream",
     "text": [
      "Reading chunks:\n",
      "../data/7Folds/mod_data/train_data_8.pq\n",
      "../data/7Folds/mod_data/train_data_9.pq\n"
     ]
    },
    {
     "data": {
      "application/vnd.jupyter.widget-view+json": {
       "model_id": "1a1fc77f5f2a4eb4bcc1936462a25046",
       "version_major": 2,
       "version_minor": 0
      },
      "text/plain": [
       "Reading dataset with pandas:   0%|          | 0/2 [00:00<?, ?it/s]"
      ]
     },
     "metadata": {},
     "output_type": "display_data"
    },
    {
     "name": "stdout",
     "output_type": "stream",
     "text": [
      "Transforming credits to sequences is done.\n"
     ]
    },
    {
     "data": {
      "application/vnd.jupyter.widget-view+json": {
       "model_id": "5ee2fa0174c8454b959774713c44a8e1",
       "version_major": 2,
       "version_minor": 0
      },
      "text/plain": [
       "Extracting buckets:   0%|          | 0/42 [00:00<?, ?it/s]"
      ]
     },
     "metadata": {},
     "output_type": "display_data"
    },
    {
     "name": "stdout",
     "output_type": "stream",
     "text": [
      "Reading chunks:\n",
      "../data/7Folds/mod_data/train_data_10.pq\n",
      "../data/7Folds/mod_data/train_data_11.pq\n"
     ]
    },
    {
     "data": {
      "application/vnd.jupyter.widget-view+json": {
       "model_id": "8290e3219f75480fa8f39391061f62c6",
       "version_major": 2,
       "version_minor": 0
      },
      "text/plain": [
       "Reading dataset with pandas:   0%|          | 0/2 [00:00<?, ?it/s]"
      ]
     },
     "metadata": {},
     "output_type": "display_data"
    },
    {
     "name": "stdout",
     "output_type": "stream",
     "text": [
      "Transforming credits to sequences is done.\n"
     ]
    },
    {
     "data": {
      "application/vnd.jupyter.widget-view+json": {
       "model_id": "4f0cedc44da74983b6a61ee9c864f805",
       "version_major": 2,
       "version_minor": 0
      },
      "text/plain": [
       "Extracting buckets:   0%|          | 0/42 [00:00<?, ?it/s]"
      ]
     },
     "metadata": {},
     "output_type": "display_data"
    },
    {
     "name": "stdout",
     "output_type": "stream",
     "text": [
      "Reading chunks:\n",
      "../data/7Folds/mod_data/train_data_12.pq\n",
      "../data/7Folds/mod_data/train_data_13.pq\n"
     ]
    },
    {
     "data": {
      "application/vnd.jupyter.widget-view+json": {
       "model_id": "2e03d5d534154081bcab1fe37c3eed07",
       "version_major": 2,
       "version_minor": 0
      },
      "text/plain": [
       "Reading dataset with pandas:   0%|          | 0/2 [00:00<?, ?it/s]"
      ]
     },
     "metadata": {},
     "output_type": "display_data"
    },
    {
     "name": "stdout",
     "output_type": "stream",
     "text": [
      "Transforming credits to sequences is done.\n"
     ]
    },
    {
     "data": {
      "application/vnd.jupyter.widget-view+json": {
       "model_id": "c2e8f47daed344b8a19033dfc9c2b3f7",
       "version_major": 2,
       "version_minor": 0
      },
      "text/plain": [
       "Extracting buckets:   0%|          | 0/38 [00:00<?, ?it/s]"
      ]
     },
     "metadata": {},
     "output_type": "display_data"
    },
    {
     "name": "stdout",
     "output_type": "stream",
     "text": [
      "Starting epoch 1\n",
      "20089/20089 [==============================] - 1548s 77ms/step - loss: 0.1318\n",
      "3416/3416 [==============================] - 49s 14ms/step\n",
      "Validation ROC-AUC improved (-inf --> 0.772133).  Saving model...\n",
      "Epoch 1 completed. Train2 ROC AUC: Now is not estimated, val ROC AUC: 0.7721331903535626\n",
      "Starting epoch 2\n",
      "Epoch 2/2\n",
      "20089/20089 [==============================] - 1484s 74ms/step - loss: 0.1290\n",
      "3416/3416 [==============================] - 39s 11ms/step\n",
      "Validation ROC-AUC improved (0.772133 --> 0.779603).  Saving model...\n",
      "Epoch 2 completed. Train2 ROC AUC: Now is not estimated, val ROC AUC: 0.7796033616157654\n",
      "Starting epoch 3\n",
      "Epoch 3/3\n",
      "20089/20089 [==============================] - 1383s 69ms/step - loss: 0.1281\n",
      "3416/3416 [==============================] - 39s 11ms/step\n",
      "No imporvement in validation ROC-AUC. Current: 0.779553. Current best: 0.779603\n",
      "EarlyStopping counter: 1 out of 3\n",
      "Epoch 3 completed. Train2 ROC AUC: Now is not estimated, val ROC AUC: 0.7795527544704044\n",
      "Starting epoch 4\n",
      "Epoch 4/4\n",
      "20089/20089 [==============================] - 1397s 70ms/step - loss: 0.1267\n",
      "3416/3416 [==============================] - 39s 12ms/step\n",
      "Validation ROC-AUC improved (0.779603 --> 0.779623).  Saving model...\n",
      "Epoch 4 completed. Train2 ROC AUC: Now is not estimated, val ROC AUC: 0.7796228692391338\n",
      "Starting epoch 5\n",
      "Epoch 5/5\n",
      "20089/20089 [==============================] - 1406s 70ms/step - loss: 0.1265\n",
      "3416/3416 [==============================] - 47s 14ms/step\n",
      "No imporvement in validation ROC-AUC. Current: 0.777556. Current best: 0.779623\n",
      "EarlyStopping counter: 1 out of 3\n",
      "Epoch 5 completed. Train2 ROC AUC: Now is not estimated, val ROC AUC: 0.7775556474237744\n",
      "Starting epoch 6\n",
      "Epoch 6/6\n",
      "20089/20089 [==============================] - 1431s 71ms/step - loss: 0.1245\n",
      "3416/3416 [==============================] - 47s 14ms/step\n",
      "No imporvement in validation ROC-AUC. Current: 0.775739. Current best: 0.779623\n",
      "EarlyStopping counter: 2 out of 3\n",
      "Epoch 6 completed. Train2 ROC AUC: Now is not estimated, val ROC AUC: 0.7757389954285966\n",
      "Starting epoch 7\n",
      "Epoch 7/7\n",
      "20089/20089 [==============================] - 1441s 72ms/step - loss: 0.1219\n",
      "3416/3416 [==============================] - 47s 14ms/step\n",
      "No imporvement in validation ROC-AUC. Current: 0.769570. Current best: 0.779623\n",
      "EarlyStopping counter: 3 out of 3\n",
      "Early stopping reached. Stop training...\n",
      "3416/3416 [==============================] - 39s 11ms/step\n",
      "3929/3929 [==============================] - 45s 11ms/step\n",
      "dataset_y.shape (428572,)\n",
      "y_val_net_st2.shape, y_test_net_st2.shape (428572,) (500000,)\n",
      "\n",
      "Fold net2 auc scor : 0.7796228692391338\n",
      "3372/3372 [==============================] - 34s 10ms/step\n",
      "3371/3371 [==============================] - 33s 10ms/step\n",
      "3373/3373 [==============================] - 33s 10ms/step\n",
      "842/842 [==============================] - 9s 10ms/step\n",
      "3368/3368 [==============================] - 33s 10ms/step\n",
      "3375/3375 [==============================] - 33s 10ms/step\n",
      "3371/3371 [==============================] - 33s 10ms/step\n",
      "X_train_for_lgbm2 done \n",
      "3416/3416 [==============================] - 41s 12ms/step\n",
      "3929/3929 [==============================] - 39s 10ms/step\n",
      "|   iter    |  target   | baggin... | featur... | max_depth | num_le... |\n",
      "-------------------------------------------------------------------------\n",
      "| \u001b[0m 1       \u001b[0m | \u001b[0m 0.7643  \u001b[0m | \u001b[0m 0.8749  \u001b[0m | \u001b[0m 0.7655  \u001b[0m | \u001b[0m 10.59   \u001b[0m | \u001b[0m 36.57   \u001b[0m |\n",
      "| \u001b[0m 2       \u001b[0m | \u001b[0m 0.7641  \u001b[0m | \u001b[0m 0.8312  \u001b[0m | \u001b[0m 0.2092  \u001b[0m | \u001b[0m 4.523   \u001b[0m | \u001b[0m 42.19   \u001b[0m |\n",
      "| \u001b[0m 3       \u001b[0m | \u001b[0m 0.7597  \u001b[0m | \u001b[0m 0.9202  \u001b[0m | \u001b[0m 0.5957  \u001b[0m | \u001b[0m 4.185   \u001b[0m | \u001b[0m 44.37   \u001b[0m |\n",
      "| \u001b[95m 4       \u001b[0m | \u001b[95m 0.7668  \u001b[0m | \u001b[95m 0.9665  \u001b[0m | \u001b[95m 0.2486  \u001b[0m | \u001b[95m 5.636   \u001b[0m | \u001b[95m 27.85   \u001b[0m |\n",
      "| \u001b[0m 5       \u001b[0m | \u001b[0m 0.7654  \u001b[0m | \u001b[0m 0.8608  \u001b[0m | \u001b[0m 0.4673  \u001b[0m | \u001b[0m 7.888   \u001b[0m | \u001b[0m 30.12   \u001b[0m |\n",
      "| \u001b[0m 6       \u001b[0m | \u001b[0m 0.7667  \u001b[0m | \u001b[0m 0.9382  \u001b[0m | \u001b[0m 0.2901  \u001b[0m | \u001b[0m 5.715   \u001b[0m | \u001b[0m 27.88   \u001b[0m |\n",
      "| \u001b[0m 7       \u001b[0m | \u001b[0m 0.766   \u001b[0m | \u001b[0m 1.0     \u001b[0m | \u001b[0m 0.1     \u001b[0m | \u001b[0m 4.0     \u001b[0m | \u001b[0m 29.81   \u001b[0m |\n",
      "| \u001b[0m 8       \u001b[0m | \u001b[0m 0.766   \u001b[0m | \u001b[0m 0.9971  \u001b[0m | \u001b[0m 0.1     \u001b[0m | \u001b[0m 4.0     \u001b[0m | \u001b[0m 25.29   \u001b[0m |\n",
      "| \u001b[95m 9       \u001b[0m | \u001b[95m 0.7681  \u001b[0m | \u001b[95m 1.0     \u001b[0m | \u001b[95m 0.1     \u001b[0m | \u001b[95m 7.796   \u001b[0m | \u001b[95m 24.46   \u001b[0m |\n",
      "| \u001b[0m 10      \u001b[0m | \u001b[0m 0.7681  \u001b[0m | \u001b[0m 1.0     \u001b[0m | \u001b[0m 0.1     \u001b[0m | \u001b[0m 10.57   \u001b[0m | \u001b[0m 24.0    \u001b[0m |\n",
      "=========================================================================\n",
      "{'bagging_fraction': 1.0, 'feature_fraction': 0.1, 'max_depth': 7.795784478284654, 'num_leaves': 24.456829376106718}\n",
      "bagging_fraction 1.0\n",
      "feature_fraction 0.1\n",
      "max_depth 7.795784478284654\n",
      "num_leaves 24.456829376106718\n",
      "\n",
      "================new params==================\n",
      "{'boosting_type': 'gbdt', 'objective': 'binary', 'metric': 'auc', 'learning_rate': 0.01, 'n_jobs': 8, 'seed': 15, 'max_depth': 8, 'verbose': -1, 'num_leaves': 24, 'feature_fraction': 0.1, 'bagging_fraction': 1.0}\n",
      "Training until validation scores don't improve for 300 rounds\n",
      "[100]\ttraining's auc: 0.795152\tvalid_1's auc: 0.770681\n",
      "[200]\ttraining's auc: 0.799305\tvalid_1's auc: 0.773693\n",
      "[300]\ttraining's auc: 0.802587\tvalid_1's auc: 0.77595\n",
      "[400]\ttraining's auc: 0.805255\tvalid_1's auc: 0.777554\n",
      "[500]\ttraining's auc: 0.807508\tvalid_1's auc: 0.778888\n",
      "[600]\ttraining's auc: 0.809401\tvalid_1's auc: 0.779865\n",
      "[700]\ttraining's auc: 0.810971\tvalid_1's auc: 0.780611\n",
      "[800]\ttraining's auc: 0.812332\tvalid_1's auc: 0.781162\n",
      "[900]\ttraining's auc: 0.813584\tvalid_1's auc: 0.781619\n",
      "[1000]\ttraining's auc: 0.814691\tvalid_1's auc: 0.781998\n",
      "[1100]\ttraining's auc: 0.8157\tvalid_1's auc: 0.782299\n",
      "[1200]\ttraining's auc: 0.816663\tvalid_1's auc: 0.782556\n",
      "[1300]\ttraining's auc: 0.817554\tvalid_1's auc: 0.782761\n",
      "[1400]\ttraining's auc: 0.818427\tvalid_1's auc: 0.782912\n",
      "[1500]\ttraining's auc: 0.819239\tvalid_1's auc: 0.78309\n",
      "[1600]\ttraining's auc: 0.820035\tvalid_1's auc: 0.783186\n",
      "[1700]\ttraining's auc: 0.820803\tvalid_1's auc: 0.783267\n",
      "[1800]\ttraining's auc: 0.821557\tvalid_1's auc: 0.783335\n",
      "[1900]\ttraining's auc: 0.822307\tvalid_1's auc: 0.783423\n",
      "[2000]\ttraining's auc: 0.823036\tvalid_1's auc: 0.783482\n",
      "[2100]\ttraining's auc: 0.823742\tvalid_1's auc: 0.783552\n",
      "[2200]\ttraining's auc: 0.824474\tvalid_1's auc: 0.783588\n",
      "[2300]\ttraining's auc: 0.825185\tvalid_1's auc: 0.78363\n",
      "[2400]\ttraining's auc: 0.825856\tvalid_1's auc: 0.78366\n",
      "[2500]\ttraining's auc: 0.826551\tvalid_1's auc: 0.783668\n",
      "[2600]\ttraining's auc: 0.827191\tvalid_1's auc: 0.783674\n",
      "[2700]\ttraining's auc: 0.827865\tvalid_1's auc: 0.783705\n",
      "[2800]\ttraining's auc: 0.828538\tvalid_1's auc: 0.783729\n",
      "[2900]\ttraining's auc: 0.82917\tvalid_1's auc: 0.783775\n",
      "[3000]\ttraining's auc: 0.829819\tvalid_1's auc: 0.783785\n",
      "[3100]\ttraining's auc: 0.830447\tvalid_1's auc: 0.783786\n",
      "[3200]\ttraining's auc: 0.831117\tvalid_1's auc: 0.783789\n",
      "[3300]\ttraining's auc: 0.831768\tvalid_1's auc: 0.783806\n",
      "[3400]\ttraining's auc: 0.832373\tvalid_1's auc: 0.783834\n",
      "[3500]\ttraining's auc: 0.832993\tvalid_1's auc: 0.783829\n",
      "[3600]\ttraining's auc: 0.833625\tvalid_1's auc: 0.78383\n",
      "[3700]\ttraining's auc: 0.834287\tvalid_1's auc: 0.78384\n",
      "[3800]\ttraining's auc: 0.834917\tvalid_1's auc: 0.783841\n",
      "[3900]\ttraining's auc: 0.835562\tvalid_1's auc: 0.783849\n",
      "[4000]\ttraining's auc: 0.836148\tvalid_1's auc: 0.783855\n",
      "[4100]\ttraining's auc: 0.836744\tvalid_1's auc: 0.783873\n",
      "[4200]\ttraining's auc: 0.837356\tvalid_1's auc: 0.783864\n",
      "[4300]\ttraining's auc: 0.837972\tvalid_1's auc: 0.783835\n",
      "[4400]\ttraining's auc: 0.838573\tvalid_1's auc: 0.783834\n",
      "Early stopping, best iteration is:\n",
      "[4147]\ttraining's auc: 0.837023\tvalid_1's auc: 0.783876\n",
      "roc_auc_score: 0.7838760466750359\n",
      "lgb pass ==========================================\n",
      "\n",
      "dataset_y.shape (428572,)\n",
      "Fold lgbm auc scor: 0.7838760466750359\n",
      "Final split level: 0.030519404124755352\n",
      "\n",
      "val_y.shape (428572,)\n",
      "y_val_lstm_st2.shape, y_test_lstm_st2.shape (428572,) (500000,)\n",
      "mul_lstm_st1_lstm_st2_ 0.7862696927703807\n",
      "{'mul_lstm_st1_lstm_st2_net_st1_net_st2_': 0.786207969219749, 'sum_lstm_st1_lstm_st2_net_st1_net_st2_': 0.7860095980650441, 'mul_lstm_st1_lstm_st2_net_st1_': 0.7861097981182724, 'sum_lstm_st1_lstm_st2_net_st1_': 0.7858452893661818, 'mul_lstm_st1_lstm_st2_net_st2_': 0.7858862413901568, 'sum_lstm_st1_lstm_st2_net_st2_': 0.7855916627689601, 'mul_lstm_st1_net_st1_net_st2_': 0.7854372300924733, 'sum_lstm_st1_net_st1_net_st2_': 0.7852863561468225, 'mul_lstm_st2_net_st1_net_st2_': 0.7855446381926712, 'sum_lstm_st2_net_st1_net_st2_': 0.7854078891966332, 'mul_lstm_st1_lstm_st2_': 0.7862696927703807, 'sum_lstm_st1_lstm_st2_': 0.786185835258427, 'mul_lstm_st1_net_st1_': 0.7837443110190123, 'sum_lstm_st1_net_st1_': 0.7835746679585536, 'mul_lstm_st1_net_st2_': 0.785270882111957, 'sum_lstm_st1_net_st2_': 0.7848964407904447, 'mul_lstm_st2_net_st1_': 0.7858221303606991, 'sum_lstm_st2_net_st1_': 0.7854952951095202, 'mul_lstm_st2_net_st2_': 0.7834677576007296, 'sum_lstm_st2_net_st2_': 0.7832211219636054, 'mul_net_st1_net_st2_': 0.7843719830641023, 'sum_net_st1_net_st2_': 0.784275193785723, 'lstm_st1': 0.7835246502533153, 'lstm_st2': 0.7838760466750359, 'net_st1': 0.781169414072427, 'net_st2': 0.7796228692391338}\n",
      "\n"
     ]
    },
    {
     "name": "stdout",
     "output_type": "stream",
     "text": [
      "Fold: 3 pass. Time 16327.919858694077 sec.\n",
      "=======================================================================================================\n",
      "\n",
      "\n",
      "3418/3418 [==============================] - 48s 14ms/step\n",
      "3929/3929 [==============================] - 46s 12ms/step\n",
      "dataset_y.shape (428571,)\n",
      "y_val_net_st1.shape, y_test_net_st1.shape (428571,) (500000,)\n",
      "\n",
      "Fold net auc scor : 0.7779516482887016\n",
      "6718/6718 [==============================] - 65s 10ms/step\n",
      "6722/6722 [==============================] - 66s 10ms/step\n",
      "6719/6719 [==============================] - 66s 10ms/step\n",
      "X_train_for_lgbm shapes ===>  (2571429, 512) (856983, 512) (857318, 512) (857128, 512)\n",
      "3418/3418 [==============================] - 41s 12ms/step\n",
      "3929/3929 [==============================] - 39s 10ms/step\n",
      "|   iter    |  target   | baggin... | featur... | max_depth | num_le... |\n",
      "-------------------------------------------------------------------------\n",
      "| \u001b[0m 1       \u001b[0m | \u001b[0m 0.7691  \u001b[0m | \u001b[0m 0.8749  \u001b[0m | \u001b[0m 0.7655  \u001b[0m | \u001b[0m 10.59   \u001b[0m | \u001b[0m 36.57   \u001b[0m |\n",
      "| \u001b[95m 2       \u001b[0m | \u001b[95m 0.7691  \u001b[0m | \u001b[95m 0.8312  \u001b[0m | \u001b[95m 0.2092  \u001b[0m | \u001b[95m 4.523   \u001b[0m | \u001b[95m 42.19   \u001b[0m |\n",
      "| \u001b[0m 3       \u001b[0m | \u001b[0m 0.7662  \u001b[0m | \u001b[0m 0.9202  \u001b[0m | \u001b[0m 0.5957  \u001b[0m | \u001b[0m 4.185   \u001b[0m | \u001b[0m 44.37   \u001b[0m |\n",
      "| \u001b[95m 4       \u001b[0m | \u001b[95m 0.771   \u001b[0m | \u001b[95m 0.9665  \u001b[0m | \u001b[95m 0.2486  \u001b[0m | \u001b[95m 5.636   \u001b[0m | \u001b[95m 27.85   \u001b[0m |\n",
      "| \u001b[0m 5       \u001b[0m | \u001b[0m 0.7699  \u001b[0m | \u001b[0m 0.8608  \u001b[0m | \u001b[0m 0.4673  \u001b[0m | \u001b[0m 7.888   \u001b[0m | \u001b[0m 30.12   \u001b[0m |\n",
      "| \u001b[0m 6       \u001b[0m | \u001b[0m 0.7707  \u001b[0m | \u001b[0m 0.9382  \u001b[0m | \u001b[0m 0.2901  \u001b[0m | \u001b[0m 5.715   \u001b[0m | \u001b[0m 27.88   \u001b[0m |\n",
      "| \u001b[95m 7       \u001b[0m | \u001b[95m 0.7712  \u001b[0m | \u001b[95m 1.0     \u001b[0m | \u001b[95m 0.1     \u001b[0m | \u001b[95m 5.012   \u001b[0m | \u001b[95m 27.55   \u001b[0m |\n",
      "| \u001b[0m 8       \u001b[0m | \u001b[0m 0.7678  \u001b[0m | \u001b[0m 0.9753  \u001b[0m | \u001b[0m 0.3737  \u001b[0m | \u001b[0m 4.636   \u001b[0m | \u001b[0m 28.36   \u001b[0m |\n",
      "| \u001b[0m 9       \u001b[0m | \u001b[0m 0.771   \u001b[0m | \u001b[0m 0.9888  \u001b[0m | \u001b[0m 0.262   \u001b[0m | \u001b[0m 5.675   \u001b[0m | \u001b[0m 27.01   \u001b[0m |\n",
      "| \u001b[0m 10      \u001b[0m | \u001b[0m 0.769   \u001b[0m | \u001b[0m 1.0     \u001b[0m | \u001b[0m 0.1     \u001b[0m | \u001b[0m 4.846   \u001b[0m | \u001b[0m 26.63   \u001b[0m |\n",
      "=========================================================================\n",
      "{'bagging_fraction': 1.0, 'feature_fraction': 0.1, 'max_depth': 5.011538708713263, 'num_leaves': 27.549793192369034}\n",
      "bagging_fraction 1.0\n",
      "feature_fraction 0.1\n",
      "max_depth 5.011538708713263\n",
      "num_leaves 27.549793192369034\n",
      "\n",
      "================new params==================\n",
      "{'boosting_type': 'gbdt', 'objective': 'binary', 'metric': 'auc', 'learning_rate': 0.01, 'n_jobs': 8, 'seed': 15, 'max_depth': 5, 'verbose': -1, 'num_leaves': 28, 'feature_fraction': 0.1, 'bagging_fraction': 1.0}\n",
      "Training until validation scores don't improve for 300 rounds\n",
      "[100]\ttraining's auc: 0.779536\tvalid_1's auc: 0.773403\n",
      "[200]\ttraining's auc: 0.782728\tvalid_1's auc: 0.775807\n",
      "[300]\ttraining's auc: 0.785284\tvalid_1's auc: 0.777437\n",
      "[400]\ttraining's auc: 0.787524\tvalid_1's auc: 0.778729\n",
      "[500]\ttraining's auc: 0.78946\tvalid_1's auc: 0.779763\n",
      "[600]\ttraining's auc: 0.791108\tvalid_1's auc: 0.780596\n",
      "[700]\ttraining's auc: 0.792504\tvalid_1's auc: 0.781162\n",
      "[800]\ttraining's auc: 0.793767\tvalid_1's auc: 0.781618\n",
      "[900]\ttraining's auc: 0.794882\tvalid_1's auc: 0.781985\n",
      "[1000]\ttraining's auc: 0.795925\tvalid_1's auc: 0.782276\n",
      "[1100]\ttraining's auc: 0.79692\tvalid_1's auc: 0.782556\n",
      "[1200]\ttraining's auc: 0.797855\tvalid_1's auc: 0.78278\n",
      "[1300]\ttraining's auc: 0.798772\tvalid_1's auc: 0.782988\n",
      "[1400]\ttraining's auc: 0.799638\tvalid_1's auc: 0.783156\n",
      "[1500]\ttraining's auc: 0.800479\tvalid_1's auc: 0.783315\n",
      "[1600]\ttraining's auc: 0.801324\tvalid_1's auc: 0.783488\n",
      "[1700]\ttraining's auc: 0.802101\tvalid_1's auc: 0.783608\n",
      "[1800]\ttraining's auc: 0.802861\tvalid_1's auc: 0.783737\n",
      "[1900]\ttraining's auc: 0.803643\tvalid_1's auc: 0.783847\n",
      "[2000]\ttraining's auc: 0.804422\tvalid_1's auc: 0.78397\n",
      "[2100]\ttraining's auc: 0.805138\tvalid_1's auc: 0.784043\n",
      "[2200]\ttraining's auc: 0.805837\tvalid_1's auc: 0.784116\n",
      "[2300]\ttraining's auc: 0.80655\tvalid_1's auc: 0.784189\n",
      "[2400]\ttraining's auc: 0.807247\tvalid_1's auc: 0.784255\n",
      "[2500]\ttraining's auc: 0.807938\tvalid_1's auc: 0.784348\n",
      "[2600]\ttraining's auc: 0.8086\tvalid_1's auc: 0.784394\n",
      "[2700]\ttraining's auc: 0.80927\tvalid_1's auc: 0.784449\n",
      "[2800]\ttraining's auc: 0.809932\tvalid_1's auc: 0.784496\n",
      "[2900]\ttraining's auc: 0.81057\tvalid_1's auc: 0.784512\n",
      "[3000]\ttraining's auc: 0.811225\tvalid_1's auc: 0.784563\n",
      "[3100]\ttraining's auc: 0.811851\tvalid_1's auc: 0.784603\n",
      "[3200]\ttraining's auc: 0.812467\tvalid_1's auc: 0.784624\n",
      "[3300]\ttraining's auc: 0.813073\tvalid_1's auc: 0.784672\n",
      "[3400]\ttraining's auc: 0.81373\tvalid_1's auc: 0.7847\n",
      "[3500]\ttraining's auc: 0.814368\tvalid_1's auc: 0.784752\n",
      "[3600]\ttraining's auc: 0.814974\tvalid_1's auc: 0.784793\n",
      "[3700]\ttraining's auc: 0.815583\tvalid_1's auc: 0.78481\n",
      "[3800]\ttraining's auc: 0.816193\tvalid_1's auc: 0.784831\n",
      "[3900]\ttraining's auc: 0.816779\tvalid_1's auc: 0.784863\n",
      "[4000]\ttraining's auc: 0.817361\tvalid_1's auc: 0.784886\n",
      "[4100]\ttraining's auc: 0.817942\tvalid_1's auc: 0.784901\n",
      "[4200]\ttraining's auc: 0.818488\tvalid_1's auc: 0.784929\n",
      "[4300]\ttraining's auc: 0.819083\tvalid_1's auc: 0.78494\n",
      "[4400]\ttraining's auc: 0.819686\tvalid_1's auc: 0.784954\n",
      "[4500]\ttraining's auc: 0.820243\tvalid_1's auc: 0.784966\n",
      "[4600]\ttraining's auc: 0.82083\tvalid_1's auc: 0.784986\n",
      "[4700]\ttraining's auc: 0.821375\tvalid_1's auc: 0.784993\n",
      "[4800]\ttraining's auc: 0.821934\tvalid_1's auc: 0.784997\n",
      "[4900]\ttraining's auc: 0.822462\tvalid_1's auc: 0.785014\n",
      "[5000]\ttraining's auc: 0.823011\tvalid_1's auc: 0.785017\n",
      "[5100]\ttraining's auc: 0.823561\tvalid_1's auc: 0.78503\n",
      "[5200]\ttraining's auc: 0.824138\tvalid_1's auc: 0.785033\n",
      "[5300]\ttraining's auc: 0.824686\tvalid_1's auc: 0.785064\n",
      "[5400]\ttraining's auc: 0.825236\tvalid_1's auc: 0.785051\n",
      "[5500]\ttraining's auc: 0.825739\tvalid_1's auc: 0.785059\n",
      "[5600]\ttraining's auc: 0.826272\tvalid_1's auc: 0.785064\n",
      "[5700]\ttraining's auc: 0.826773\tvalid_1's auc: 0.785074\n",
      "[5800]\ttraining's auc: 0.827306\tvalid_1's auc: 0.78507\n",
      "[5900]\ttraining's auc: 0.827865\tvalid_1's auc: 0.785071\n",
      "[6000]\ttraining's auc: 0.828381\tvalid_1's auc: 0.785078\n",
      "Early stopping, best iteration is:\n",
      "[5712]\ttraining's auc: 0.826841\tvalid_1's auc: 0.785087\n",
      "roc_auc_score: 0.7850869724685807\n",
      "lgb pass ==========================================\n",
      "\n",
      "dataset_y.shape (428571,)\n",
      "Fold lgbm auc scor: 0.7850869724685807\n",
      "Final split level: 0.03701178963113986\n",
      "\n",
      "val_y.shape (428571,)\n",
      "y_val_lstm_st1.shape, y_test_lstm_st1.shape (428571,) (500000,)\n",
      "482260 17740 500000\n",
      "101274 3725\n"
     ]
    },
    {
     "data": {
      "application/vnd.jupyter.widget-view+json": {
       "model_id": "a948021effd745a2ac3a4e3a8af0420c",
       "version_major": 2,
       "version_minor": 0
      },
      "text/plain": [
       "Preparing credit data:   0%|          | 0/7 [00:00<?, ?it/s]"
      ]
     },
     "metadata": {},
     "output_type": "display_data"
    },
    {
     "name": "stdout",
     "output_type": "stream",
     "text": [
      "Reading chunks:\n",
      "../data/7Folds/mod_data/train_data_0.pq\n",
      "../data/7Folds/mod_data/train_data_1.pq\n"
     ]
    },
    {
     "data": {
      "application/vnd.jupyter.widget-view+json": {
       "model_id": "7f29221fc983449fb069950021c02fd7",
       "version_major": 2,
       "version_minor": 0
      },
      "text/plain": [
       "Reading dataset with pandas:   0%|          | 0/2 [00:00<?, ?it/s]"
      ]
     },
     "metadata": {},
     "output_type": "display_data"
    },
    {
     "name": "stdout",
     "output_type": "stream",
     "text": [
      "WARNING:tensorflow:Detecting that an object or model or tf.train.Checkpoint is being deleted with unrestored values. See the following logs for the specific values in question. To silence these warnings, use `status.expect_partial()`. See https://www.tensorflow.org/api_docs/python/tf/train/Checkpoint#restorefor details about the status object returned by the restore function.\n",
      "WARNING:tensorflow:Value in checkpoint could not be found in the restored object: (root).optimizer.iter\n",
      "WARNING:tensorflow:Value in checkpoint could not be found in the restored object: (root).optimizer.beta_1\n",
      "WARNING:tensorflow:Value in checkpoint could not be found in the restored object: (root).optimizer.beta_2\n",
      "WARNING:tensorflow:Value in checkpoint could not be found in the restored object: (root).optimizer.decay\n",
      "WARNING:tensorflow:Value in checkpoint could not be found in the restored object: (root).optimizer.learning_rate\n",
      "Transforming credits to sequences is done.\n"
     ]
    },
    {
     "data": {
      "application/vnd.jupyter.widget-view+json": {
       "model_id": "1185af11d2284ebca4a7dfa50337d3a0",
       "version_major": 2,
       "version_minor": 0
      },
      "text/plain": [
       "Extracting buckets:   0%|          | 0/42 [00:00<?, ?it/s]"
      ]
     },
     "metadata": {},
     "output_type": "display_data"
    },
    {
     "name": "stdout",
     "output_type": "stream",
     "text": [
      "Reading chunks:\n",
      "../data/7Folds/mod_data/train_data_2.pq\n",
      "../data/7Folds/mod_data/train_data_3.pq\n"
     ]
    },
    {
     "data": {
      "application/vnd.jupyter.widget-view+json": {
       "model_id": "271f13b30909422da69e6772bc25ac58",
       "version_major": 2,
       "version_minor": 0
      },
      "text/plain": [
       "Reading dataset with pandas:   0%|          | 0/2 [00:00<?, ?it/s]"
      ]
     },
     "metadata": {},
     "output_type": "display_data"
    },
    {
     "name": "stdout",
     "output_type": "stream",
     "text": [
      "Transforming credits to sequences is done.\n"
     ]
    },
    {
     "data": {
      "application/vnd.jupyter.widget-view+json": {
       "model_id": "7ab49b724a0a4d0a93e763fd22a47ee5",
       "version_major": 2,
       "version_minor": 0
      },
      "text/plain": [
       "Extracting buckets:   0%|          | 0/42 [00:00<?, ?it/s]"
      ]
     },
     "metadata": {},
     "output_type": "display_data"
    },
    {
     "name": "stdout",
     "output_type": "stream",
     "text": [
      "Reading chunks:\n",
      "../data/7Folds/mod_data/train_data_4.pq\n",
      "../data/7Folds/mod_data/train_data_5.pq\n"
     ]
    },
    {
     "data": {
      "application/vnd.jupyter.widget-view+json": {
       "model_id": "1c7bb528f0bf4286b5a029437d30bd63",
       "version_major": 2,
       "version_minor": 0
      },
      "text/plain": [
       "Reading dataset with pandas:   0%|          | 0/2 [00:00<?, ?it/s]"
      ]
     },
     "metadata": {},
     "output_type": "display_data"
    },
    {
     "name": "stdout",
     "output_type": "stream",
     "text": [
      "Transforming credits to sequences is done.\n"
     ]
    },
    {
     "data": {
      "application/vnd.jupyter.widget-view+json": {
       "model_id": "37a76389d5064fdea9d305c018ce96f1",
       "version_major": 2,
       "version_minor": 0
      },
      "text/plain": [
       "Extracting buckets:   0%|          | 0/42 [00:00<?, ?it/s]"
      ]
     },
     "metadata": {},
     "output_type": "display_data"
    },
    {
     "name": "stdout",
     "output_type": "stream",
     "text": [
      "Reading chunks:\n",
      "../data/7Folds/mod_data/train_data_6.pq\n",
      "../data/7Folds/mod_data/train_data_7.pq\n"
     ]
    },
    {
     "data": {
      "application/vnd.jupyter.widget-view+json": {
       "model_id": "540b93c0af674ae39ce8fb193a34703a",
       "version_major": 2,
       "version_minor": 0
      },
      "text/plain": [
       "Reading dataset with pandas:   0%|          | 0/2 [00:00<?, ?it/s]"
      ]
     },
     "metadata": {},
     "output_type": "display_data"
    },
    {
     "name": "stdout",
     "output_type": "stream",
     "text": [
      "Transforming credits to sequences is done.\n"
     ]
    },
    {
     "data": {
      "application/vnd.jupyter.widget-view+json": {
       "model_id": "41577a8177ee4cb38fc43d5496da125d",
       "version_major": 2,
       "version_minor": 0
      },
      "text/plain": [
       "Extracting buckets:   0%|          | 0/43 [00:00<?, ?it/s]"
      ]
     },
     "metadata": {},
     "output_type": "display_data"
    },
    {
     "name": "stdout",
     "output_type": "stream",
     "text": [
      "Reading chunks:\n",
      "../data/7Folds/mod_data/train_data_8.pq\n",
      "../data/7Folds/mod_data/train_data_9.pq\n"
     ]
    },
    {
     "data": {
      "application/vnd.jupyter.widget-view+json": {
       "model_id": "24609045ef1b4cbeb39da90d7c888365",
       "version_major": 2,
       "version_minor": 0
      },
      "text/plain": [
       "Reading dataset with pandas:   0%|          | 0/2 [00:00<?, ?it/s]"
      ]
     },
     "metadata": {},
     "output_type": "display_data"
    },
    {
     "name": "stdout",
     "output_type": "stream",
     "text": [
      "Transforming credits to sequences is done.\n"
     ]
    },
    {
     "data": {
      "application/vnd.jupyter.widget-view+json": {
       "model_id": "0c538d173e724a53b32156020b299dd0",
       "version_major": 2,
       "version_minor": 0
      },
      "text/plain": [
       "Extracting buckets:   0%|          | 0/42 [00:00<?, ?it/s]"
      ]
     },
     "metadata": {},
     "output_type": "display_data"
    },
    {
     "name": "stdout",
     "output_type": "stream",
     "text": [
      "Reading chunks:\n",
      "../data/7Folds/mod_data/train_data_10.pq\n",
      "../data/7Folds/mod_data/train_data_11.pq\n"
     ]
    },
    {
     "data": {
      "application/vnd.jupyter.widget-view+json": {
       "model_id": "c46d10c106a04224bed747eb31d6a8de",
       "version_major": 2,
       "version_minor": 0
      },
      "text/plain": [
       "Reading dataset with pandas:   0%|          | 0/2 [00:00<?, ?it/s]"
      ]
     },
     "metadata": {},
     "output_type": "display_data"
    },
    {
     "name": "stdout",
     "output_type": "stream",
     "text": [
      "Transforming credits to sequences is done.\n"
     ]
    },
    {
     "data": {
      "application/vnd.jupyter.widget-view+json": {
       "model_id": "abbcb933192c4f5d8e87a6eff05b327c",
       "version_major": 2,
       "version_minor": 0
      },
      "text/plain": [
       "Extracting buckets:   0%|          | 0/42 [00:00<?, ?it/s]"
      ]
     },
     "metadata": {},
     "output_type": "display_data"
    },
    {
     "name": "stdout",
     "output_type": "stream",
     "text": [
      "Reading chunks:\n",
      "../data/7Folds/mod_data/train_data_12.pq\n",
      "../data/7Folds/mod_data/train_data_13.pq\n"
     ]
    },
    {
     "data": {
      "application/vnd.jupyter.widget-view+json": {
       "model_id": "0ec5c4e2137b4874959c1ddf30699ad3",
       "version_major": 2,
       "version_minor": 0
      },
      "text/plain": [
       "Reading dataset with pandas:   0%|          | 0/2 [00:00<?, ?it/s]"
      ]
     },
     "metadata": {},
     "output_type": "display_data"
    },
    {
     "name": "stdout",
     "output_type": "stream",
     "text": [
      "Transforming credits to sequences is done.\n"
     ]
    },
    {
     "data": {
      "application/vnd.jupyter.widget-view+json": {
       "model_id": "8f6e9a6043ed45f7a0e8678c11d5b06c",
       "version_major": 2,
       "version_minor": 0
      },
      "text/plain": [
       "Extracting buckets:   0%|          | 0/38 [00:00<?, ?it/s]"
      ]
     },
     "metadata": {},
     "output_type": "display_data"
    },
    {
     "name": "stdout",
     "output_type": "stream",
     "text": [
      "Starting epoch 1\n",
      "20089/20089 [==============================] - 1431s 71ms/step - loss: 0.1310\n",
      "3418/3418 [==============================] - 48s 14ms/step\n",
      "Validation ROC-AUC improved (-inf --> 0.773155).  Saving model...\n",
      "Epoch 1 completed. Train2 ROC AUC: Now is not estimated, val ROC AUC: 0.7731547450804501\n",
      "Starting epoch 2\n",
      "Epoch 2/2\n",
      "20089/20089 [==============================] - 1405s 70ms/step - loss: 0.1346\n",
      "3418/3418 [==============================] - 40s 12ms/step\n",
      "Validation ROC-AUC improved (0.773155 --> 0.776465).  Saving model...\n",
      "Epoch 2 completed. Train2 ROC AUC: Now is not estimated, val ROC AUC: 0.776464659101878\n",
      "Starting epoch 3\n",
      "Epoch 3/3\n",
      "20089/20089 [==============================] - 1451s 72ms/step - loss: 0.1284\n",
      "3418/3418 [==============================] - 50s 15ms/step\n",
      "Validation ROC-AUC improved (0.776465 --> 0.777511).  Saving model...\n",
      "Epoch 3 completed. Train2 ROC AUC: Now is not estimated, val ROC AUC: 0.7775114062814608\n",
      "Starting epoch 4\n",
      "Epoch 4/4\n",
      "20089/20089 [==============================] - 1413s 70ms/step - loss: 0.1269\n",
      "3418/3418 [==============================] - 41s 12ms/step\n",
      "Validation ROC-AUC improved (0.777511 --> 0.781237).  Saving model...\n",
      "Epoch 4 completed. Train2 ROC AUC: Now is not estimated, val ROC AUC: 0.7812373472850551\n",
      "Starting epoch 5\n",
      "Epoch 5/5\n",
      "20089/20089 [==============================] - 1418s 71ms/step - loss: 0.1314\n",
      "3418/3418 [==============================] - 40s 12ms/step\n",
      "No imporvement in validation ROC-AUC. Current: 0.779717. Current best: 0.781237\n",
      "EarlyStopping counter: 1 out of 3\n",
      "Epoch 5 completed. Train2 ROC AUC: Now is not estimated, val ROC AUC: 0.7797172691693283\n",
      "Starting epoch 6\n",
      "Epoch 6/6\n",
      "20089/20089 [==============================] - 1389s 69ms/step - loss: 0.1246\n",
      "3418/3418 [==============================] - 40s 12ms/step\n",
      "No imporvement in validation ROC-AUC. Current: 0.773919. Current best: 0.781237\n",
      "EarlyStopping counter: 2 out of 3\n",
      "Epoch 6 completed. Train2 ROC AUC: Now is not estimated, val ROC AUC: 0.7739194299212298\n",
      "Starting epoch 7\n",
      "Epoch 7/7\n",
      "20089/20089 [==============================] - 1390s 69ms/step - loss: 0.1227\n",
      "3418/3418 [==============================] - 40s 12ms/step\n",
      "No imporvement in validation ROC-AUC. Current: 0.775127. Current best: 0.781237\n",
      "EarlyStopping counter: 3 out of 3\n",
      "Early stopping reached. Stop training...\n",
      "3418/3418 [==============================] - 41s 12ms/step\n",
      "3929/3929 [==============================] - 46s 12ms/step\n",
      "dataset_y.shape (428571,)\n",
      "y_val_net_st2.shape, y_test_net_st2.shape (428571,) (500000,)\n",
      "\n",
      "Fold net2 auc scor : 0.7812373472850551\n",
      "3373/3373 [==============================] - 33s 9ms/step\n",
      "3370/3370 [==============================] - 32s 10ms/step\n",
      "3372/3372 [==============================] - 33s 10ms/step\n",
      "3372/3372 [==============================] - 33s 10ms/step\n",
      "3369/3369 [==============================] - 32s 10ms/step\n",
      "842/842 [==============================] - 8s 10ms/step\n",
      "3371/3371 [==============================] - 33s 10ms/step\n",
      "X_train_for_lgbm2 done \n",
      "3418/3418 [==============================] - 34s 10ms/step\n",
      "3929/3929 [==============================] - 39s 10ms/step\n",
      "|   iter    |  target   | baggin... | featur... | max_depth | num_le... |\n",
      "-------------------------------------------------------------------------\n",
      "| \u001b[0m 1       \u001b[0m | \u001b[0m 0.7627  \u001b[0m | \u001b[0m 0.8749  \u001b[0m | \u001b[0m 0.7655  \u001b[0m | \u001b[0m 10.59   \u001b[0m | \u001b[0m 36.57   \u001b[0m |\n",
      "| \u001b[95m 2       \u001b[0m | \u001b[95m 0.765   \u001b[0m | \u001b[95m 0.8312  \u001b[0m | \u001b[95m 0.2092  \u001b[0m | \u001b[95m 4.523   \u001b[0m | \u001b[95m 42.19   \u001b[0m |\n",
      "| \u001b[0m 3       \u001b[0m | \u001b[0m 0.7593  \u001b[0m | \u001b[0m 0.9202  \u001b[0m | \u001b[0m 0.5957  \u001b[0m | \u001b[0m 4.185   \u001b[0m | \u001b[0m 44.37   \u001b[0m |\n",
      "| \u001b[95m 4       \u001b[0m | \u001b[95m 0.7677  \u001b[0m | \u001b[95m 0.9665  \u001b[0m | \u001b[95m 0.2486  \u001b[0m | \u001b[95m 5.636   \u001b[0m | \u001b[95m 27.85   \u001b[0m |\n",
      "| \u001b[0m 5       \u001b[0m | \u001b[0m 0.7651  \u001b[0m | \u001b[0m 0.8608  \u001b[0m | \u001b[0m 0.4673  \u001b[0m | \u001b[0m 7.888   \u001b[0m | \u001b[0m 30.12   \u001b[0m |\n",
      "| \u001b[0m 6       \u001b[0m | \u001b[0m 0.7667  \u001b[0m | \u001b[0m 0.9382  \u001b[0m | \u001b[0m 0.2901  \u001b[0m | \u001b[0m 5.715   \u001b[0m | \u001b[0m 27.88   \u001b[0m |\n",
      "| \u001b[0m 7       \u001b[0m | \u001b[0m 0.7654  \u001b[0m | \u001b[0m 0.8908  \u001b[0m | \u001b[0m 0.4476  \u001b[0m | \u001b[0m 7.918   \u001b[0m | \u001b[0m 30.16   \u001b[0m |\n",
      "| \u001b[95m 8       \u001b[0m | \u001b[95m 0.7694  \u001b[0m | \u001b[95m 0.8009  \u001b[0m | \u001b[95m 0.1283  \u001b[0m | \u001b[95m 8.198   \u001b[0m | \u001b[95m 31.39   \u001b[0m |\n",
      "| \u001b[0m 9       \u001b[0m | \u001b[0m 0.7685  \u001b[0m | \u001b[0m 0.869   \u001b[0m | \u001b[0m 0.1885  \u001b[0m | \u001b[0m 7.816   \u001b[0m | \u001b[0m 31.14   \u001b[0m |\n",
      "| \u001b[0m 10      \u001b[0m | \u001b[0m 0.7665  \u001b[0m | \u001b[0m 1.0     \u001b[0m | \u001b[0m 0.1     \u001b[0m | \u001b[0m 4.996   \u001b[0m | \u001b[0m 27.64   \u001b[0m |\n",
      "=========================================================================\n",
      "{'bagging_fraction': 0.8008956171331457, 'feature_fraction': 0.12825637156904665, 'max_depth': 8.19807344803538, 'num_leaves': 31.394263451318174}\n",
      "bagging_fraction 0.8008956171331457\n",
      "feature_fraction 0.12825637156904665\n",
      "max_depth 8.19807344803538\n",
      "num_leaves 31.394263451318174\n",
      "\n",
      "================new params==================\n",
      "{'boosting_type': 'gbdt', 'objective': 'binary', 'metric': 'auc', 'learning_rate': 0.01, 'n_jobs': 8, 'seed': 15, 'max_depth': 8, 'verbose': -1, 'num_leaves': 31, 'feature_fraction': 0.12825637156904665, 'bagging_fraction': 0.8008956171331457}\n",
      "Training until validation scores don't improve for 300 rounds\n",
      "[100]\ttraining's auc: 0.796637\tvalid_1's auc: 0.77199\n",
      "[200]\ttraining's auc: 0.80119\tvalid_1's auc: 0.7754\n",
      "[300]\ttraining's auc: 0.80446\tvalid_1's auc: 0.777557\n",
      "[400]\ttraining's auc: 0.807098\tvalid_1's auc: 0.77917\n",
      "[500]\ttraining's auc: 0.809364\tvalid_1's auc: 0.780346\n",
      "[600]\ttraining's auc: 0.811211\tvalid_1's auc: 0.781208\n",
      "[700]\ttraining's auc: 0.812839\tvalid_1's auc: 0.78182\n",
      "[800]\ttraining's auc: 0.814269\tvalid_1's auc: 0.782251\n",
      "[900]\ttraining's auc: 0.815598\tvalid_1's auc: 0.782581\n",
      "[1000]\ttraining's auc: 0.816838\tvalid_1's auc: 0.782829\n",
      "[1100]\ttraining's auc: 0.818003\tvalid_1's auc: 0.783036\n",
      "[1200]\ttraining's auc: 0.819131\tvalid_1's auc: 0.783205\n",
      "[1300]\ttraining's auc: 0.820192\tvalid_1's auc: 0.783372\n",
      "[1400]\ttraining's auc: 0.821224\tvalid_1's auc: 0.78349\n",
      "[1500]\ttraining's auc: 0.822214\tvalid_1's auc: 0.783587\n",
      "[1600]\ttraining's auc: 0.823189\tvalid_1's auc: 0.783682\n",
      "[1700]\ttraining's auc: 0.824144\tvalid_1's auc: 0.783779\n",
      "[1800]\ttraining's auc: 0.825061\tvalid_1's auc: 0.783824\n",
      "[1900]\ttraining's auc: 0.826007\tvalid_1's auc: 0.783871\n",
      "[2000]\ttraining's auc: 0.826929\tvalid_1's auc: 0.78389\n",
      "[2100]\ttraining's auc: 0.827845\tvalid_1's auc: 0.783909\n",
      "[2200]\ttraining's auc: 0.828751\tvalid_1's auc: 0.783946\n",
      "[2300]\ttraining's auc: 0.829642\tvalid_1's auc: 0.783968\n",
      "[2400]\ttraining's auc: 0.830581\tvalid_1's auc: 0.783983\n",
      "[2500]\ttraining's auc: 0.831434\tvalid_1's auc: 0.783992\n",
      "[2600]\ttraining's auc: 0.832323\tvalid_1's auc: 0.783999\n",
      "[2700]\ttraining's auc: 0.833223\tvalid_1's auc: 0.784046\n",
      "[2800]\ttraining's auc: 0.834077\tvalid_1's auc: 0.784052\n",
      "[2900]\ttraining's auc: 0.834975\tvalid_1's auc: 0.784063\n",
      "[3000]\ttraining's auc: 0.835857\tvalid_1's auc: 0.784062\n",
      "[3100]\ttraining's auc: 0.836701\tvalid_1's auc: 0.784074\n",
      "[3200]\ttraining's auc: 0.837552\tvalid_1's auc: 0.784086\n",
      "[3300]\ttraining's auc: 0.838459\tvalid_1's auc: 0.784089\n",
      "[3400]\ttraining's auc: 0.83932\tvalid_1's auc: 0.784101\n",
      "[3500]\ttraining's auc: 0.840115\tvalid_1's auc: 0.784119\n",
      "[3600]\ttraining's auc: 0.840956\tvalid_1's auc: 0.784118\n",
      "[3700]\ttraining's auc: 0.841785\tvalid_1's auc: 0.784117\n",
      "[3800]\ttraining's auc: 0.842637\tvalid_1's auc: 0.784115\n",
      "Early stopping, best iteration is:\n",
      "[3570]\ttraining's auc: 0.840695\tvalid_1's auc: 0.784131\n",
      "roc_auc_score: 0.7841306437809422\n",
      "lgb pass ==========================================\n",
      "\n",
      "dataset_y.shape (428571,)\n",
      "Fold lgbm auc scor: 0.7841306437809422\n",
      "Final split level: 0.033996349104363575\n",
      "\n",
      "val_y.shape (428571,)\n",
      "y_val_lstm_st2.shape, y_test_lstm_st2.shape (428571,) (500000,)\n",
      "sum_lstm_st1_lstm_st2_ 0.7869022596627303\n",
      "{'mul_lstm_st1_lstm_st2_net_st1_net_st2_': 0.7866247307743454, 'sum_lstm_st1_lstm_st2_net_st1_net_st2_': 0.7867604006419974, 'mul_lstm_st1_lstm_st2_net_st1_': 0.7861055025809227, 'sum_lstm_st1_lstm_st2_net_st1_': 0.7862363329011874, 'mul_lstm_st1_lstm_st2_net_st2_': 0.7865848552822032, 'sum_lstm_st1_lstm_st2_net_st2_': 0.7867750965279581, 'mul_lstm_st1_net_st1_net_st2_': 0.7861027086887107, 'sum_lstm_st1_net_st1_net_st2_': 0.7862115236165967, 'mul_lstm_st2_net_st1_net_st2_': 0.7856957181511763, 'sum_lstm_st2_net_st1_net_st2_': 0.7858708086875509, 'mul_lstm_st1_lstm_st2_': 0.7869003141818072, 'sum_lstm_st1_lstm_st2_': 0.7869022596627303, 'mul_lstm_st1_net_st1_': 0.7837191473409093, 'sum_lstm_st1_net_st1_': 0.7839470776949633, 'mul_lstm_st1_net_st2_': 0.7862197875077003, 'sum_lstm_st1_net_st2_': 0.7864380831991076, 'mul_lstm_st2_net_st1_': 0.7848645190609878, 'sum_lstm_st2_net_st1_': 0.7850372336902967, 'mul_lstm_st2_net_st2_': 0.7843001189041878, 'sum_lstm_st2_net_st2_': 0.7844714939452286, 'mul_net_st1_net_st2_': 0.7847020285067008, 'sum_net_st1_net_st2_': 0.7848351553217003, 'lstm_st1': 0.7850869724685807, 'lstm_st2': 0.7841306437809422, 'net_st1': 0.7779516482887016, 'net_st2': 0.7812373472850551}\n",
      "\n"
     ]
    },
    {
     "name": "stdout",
     "output_type": "stream",
     "text": [
      "Fold: 4 pass. Time 17487.62399506569 sec.\n",
      "=======================================================================================================\n",
      "\n",
      "\n",
      "3422/3422 [==============================] - 49s 14ms/step\n",
      "3929/3929 [==============================] - 47s 12ms/step\n",
      "dataset_y.shape (428571,)\n",
      "y_val_net_st1.shape, y_test_net_st1.shape (428571,) (500000,)\n",
      "\n",
      "Fold net auc scor : 0.7821523533979111\n",
      "6715/6715 [==============================] - 65s 9ms/step\n",
      "6721/6721 [==============================] - 66s 10ms/step\n",
      "6725/6725 [==============================] - 66s 10ms/step\n",
      "X_train_for_lgbm shapes ===>  (2571429, 512) (856630, 512) (857247, 512) (857552, 512)\n",
      "3422/3422 [==============================] - 34s 10ms/step\n",
      "3929/3929 [==============================] - 38s 10ms/step\n",
      "|   iter    |  target   | baggin... | featur... | max_depth | num_le... |\n",
      "-------------------------------------------------------------------------\n",
      "| \u001b[0m 1       \u001b[0m | \u001b[0m 0.7672  \u001b[0m | \u001b[0m 0.8749  \u001b[0m | \u001b[0m 0.7655  \u001b[0m | \u001b[0m 10.59   \u001b[0m | \u001b[0m 36.57   \u001b[0m |\n",
      "| \u001b[95m 2       \u001b[0m | \u001b[95m 0.7678  \u001b[0m | \u001b[95m 0.8312  \u001b[0m | \u001b[95m 0.2092  \u001b[0m | \u001b[95m 4.523   \u001b[0m | \u001b[95m 42.19   \u001b[0m |\n",
      "| \u001b[0m 3       \u001b[0m | \u001b[0m 0.7639  \u001b[0m | \u001b[0m 0.9202  \u001b[0m | \u001b[0m 0.5957  \u001b[0m | \u001b[0m 4.185   \u001b[0m | \u001b[0m 44.37   \u001b[0m |\n",
      "| \u001b[95m 4       \u001b[0m | \u001b[95m 0.7703  \u001b[0m | \u001b[95m 0.9665  \u001b[0m | \u001b[95m 0.2486  \u001b[0m | \u001b[95m 5.636   \u001b[0m | \u001b[95m 27.85   \u001b[0m |\n",
      "| \u001b[0m 5       \u001b[0m | \u001b[0m 0.769   \u001b[0m | \u001b[0m 0.8608  \u001b[0m | \u001b[0m 0.4673  \u001b[0m | \u001b[0m 7.888   \u001b[0m | \u001b[0m 30.12   \u001b[0m |\n",
      "| \u001b[0m 6       \u001b[0m | \u001b[0m 0.7701  \u001b[0m | \u001b[0m 0.9382  \u001b[0m | \u001b[0m 0.2901  \u001b[0m | \u001b[0m 5.715   \u001b[0m | \u001b[0m 27.88   \u001b[0m |\n",
      "| \u001b[0m 7       \u001b[0m | \u001b[0m 0.7692  \u001b[0m | \u001b[0m 1.0     \u001b[0m | \u001b[0m 0.1386  \u001b[0m | \u001b[0m 4.0     \u001b[0m | \u001b[0m 26.96   \u001b[0m |\n",
      "| \u001b[0m 8       \u001b[0m | \u001b[0m 0.7697  \u001b[0m | \u001b[0m 1.0     \u001b[0m | \u001b[0m 0.1     \u001b[0m | \u001b[0m 4.448   \u001b[0m | \u001b[0m 29.16   \u001b[0m |\n",
      "| \u001b[0m 9       \u001b[0m | \u001b[0m 0.7698  \u001b[0m | \u001b[0m 0.8636  \u001b[0m | \u001b[0m 0.1178  \u001b[0m | \u001b[0m 6.067   \u001b[0m | \u001b[0m 25.54   \u001b[0m |\n",
      "| \u001b[95m 10      \u001b[0m | \u001b[95m 0.7718  \u001b[0m | \u001b[95m 1.0     \u001b[0m | \u001b[95m 0.1     \u001b[0m | \u001b[95m 8.65    \u001b[0m | \u001b[95m 24.51   \u001b[0m |\n",
      "=========================================================================\n",
      "{'bagging_fraction': 1.0, 'feature_fraction': 0.1, 'max_depth': 8.649597466431551, 'num_leaves': 24.510698436054085}\n",
      "bagging_fraction 1.0\n",
      "feature_fraction 0.1\n",
      "max_depth 8.649597466431551\n",
      "num_leaves 24.510698436054085\n",
      "\n",
      "================new params==================\n",
      "{'boosting_type': 'gbdt', 'objective': 'binary', 'metric': 'auc', 'learning_rate': 0.01, 'n_jobs': 8, 'seed': 15, 'max_depth': 9, 'verbose': -1, 'num_leaves': 25, 'feature_fraction': 0.1, 'bagging_fraction': 1.0}\n",
      "Training until validation scores don't improve for 300 rounds\n",
      "[100]\ttraining's auc: 0.781559\tvalid_1's auc: 0.773962\n",
      "[200]\ttraining's auc: 0.785462\tvalid_1's auc: 0.776893\n",
      "[300]\ttraining's auc: 0.78864\tvalid_1's auc: 0.779112\n",
      "[400]\ttraining's auc: 0.791305\tvalid_1's auc: 0.780885\n",
      "[500]\ttraining's auc: 0.793464\tvalid_1's auc: 0.782117\n",
      "[600]\ttraining's auc: 0.795285\tvalid_1's auc: 0.783003\n",
      "[700]\ttraining's auc: 0.796889\tvalid_1's auc: 0.783662\n",
      "[800]\ttraining's auc: 0.798293\tvalid_1's auc: 0.784134\n",
      "[900]\ttraining's auc: 0.799637\tvalid_1's auc: 0.784504\n",
      "[1000]\ttraining's auc: 0.800874\tvalid_1's auc: 0.784791\n",
      "[1100]\ttraining's auc: 0.802024\tvalid_1's auc: 0.785005\n",
      "[1200]\ttraining's auc: 0.803146\tvalid_1's auc: 0.785209\n",
      "[1300]\ttraining's auc: 0.80424\tvalid_1's auc: 0.785374\n",
      "[1400]\ttraining's auc: 0.805245\tvalid_1's auc: 0.785515\n",
      "[1500]\ttraining's auc: 0.806217\tvalid_1's auc: 0.785621\n",
      "[1600]\ttraining's auc: 0.80722\tvalid_1's auc: 0.78571\n",
      "[1700]\ttraining's auc: 0.808163\tvalid_1's auc: 0.78578\n",
      "[1800]\ttraining's auc: 0.809131\tvalid_1's auc: 0.785841\n",
      "[1900]\ttraining's auc: 0.810047\tvalid_1's auc: 0.7859\n",
      "[2000]\ttraining's auc: 0.810981\tvalid_1's auc: 0.785926\n",
      "[2100]\ttraining's auc: 0.811876\tvalid_1's auc: 0.785949\n",
      "[2200]\ttraining's auc: 0.812756\tvalid_1's auc: 0.78596\n",
      "[2300]\ttraining's auc: 0.813685\tvalid_1's auc: 0.785985\n",
      "[2400]\ttraining's auc: 0.814577\tvalid_1's auc: 0.786019\n",
      "[2500]\ttraining's auc: 0.815467\tvalid_1's auc: 0.786044\n",
      "[2600]\ttraining's auc: 0.816288\tvalid_1's auc: 0.786076\n",
      "[2700]\ttraining's auc: 0.817142\tvalid_1's auc: 0.786088\n",
      "[2800]\ttraining's auc: 0.818036\tvalid_1's auc: 0.786114\n",
      "[2900]\ttraining's auc: 0.818876\tvalid_1's auc: 0.786126\n",
      "[3000]\ttraining's auc: 0.819708\tvalid_1's auc: 0.786131\n",
      "[3100]\ttraining's auc: 0.820522\tvalid_1's auc: 0.786133\n",
      "[3200]\ttraining's auc: 0.821428\tvalid_1's auc: 0.786136\n",
      "[3300]\ttraining's auc: 0.822246\tvalid_1's auc: 0.786147\n",
      "[3400]\ttraining's auc: 0.823073\tvalid_1's auc: 0.786159\n",
      "[3500]\ttraining's auc: 0.823944\tvalid_1's auc: 0.786185\n",
      "[3600]\ttraining's auc: 0.82481\tvalid_1's auc: 0.786194\n",
      "[3700]\ttraining's auc: 0.825618\tvalid_1's auc: 0.786162\n",
      "[3800]\ttraining's auc: 0.826357\tvalid_1's auc: 0.786159\n",
      "Early stopping, best iteration is:\n",
      "[3571]\ttraining's auc: 0.824587\tvalid_1's auc: 0.786201\n",
      "roc_auc_score: 0.786201273495799\n",
      "lgb pass ==========================================\n",
      "\n",
      "dataset_y.shape (428571,)\n",
      "Fold lgbm auc scor: 0.786201273495799\n",
      "Final split level: 0.03828612905468092\n",
      "\n",
      "val_y.shape (428571,)\n",
      "y_val_lstm_st1.shape, y_test_lstm_st1.shape (428571,) (500000,)\n",
      "482260 17740 500000\n",
      "101274 3725\n"
     ]
    },
    {
     "data": {
      "application/vnd.jupyter.widget-view+json": {
       "model_id": "9c07ee4473634f4aa3a0c918aa03c2e8",
       "version_major": 2,
       "version_minor": 0
      },
      "text/plain": [
       "Preparing credit data:   0%|          | 0/7 [00:00<?, ?it/s]"
      ]
     },
     "metadata": {},
     "output_type": "display_data"
    },
    {
     "name": "stdout",
     "output_type": "stream",
     "text": [
      "Reading chunks:\n",
      "../data/7Folds/mod_data/train_data_0.pq\n",
      "../data/7Folds/mod_data/train_data_1.pq\n"
     ]
    },
    {
     "data": {
      "application/vnd.jupyter.widget-view+json": {
       "model_id": "8f7decf6c1ec4633b916e2e642dfd508",
       "version_major": 2,
       "version_minor": 0
      },
      "text/plain": [
       "Reading dataset with pandas:   0%|          | 0/2 [00:00<?, ?it/s]"
      ]
     },
     "metadata": {},
     "output_type": "display_data"
    },
    {
     "name": "stdout",
     "output_type": "stream",
     "text": [
      "WARNING:tensorflow:Detecting that an object or model or tf.train.Checkpoint is being deleted with unrestored values. See the following logs for the specific values in question. To silence these warnings, use `status.expect_partial()`. See https://www.tensorflow.org/api_docs/python/tf/train/Checkpoint#restorefor details about the status object returned by the restore function.\n",
      "WARNING:tensorflow:Value in checkpoint could not be found in the restored object: (root).optimizer.iter\n",
      "WARNING:tensorflow:Value in checkpoint could not be found in the restored object: (root).optimizer.beta_1\n",
      "WARNING:tensorflow:Value in checkpoint could not be found in the restored object: (root).optimizer.beta_2\n",
      "WARNING:tensorflow:Value in checkpoint could not be found in the restored object: (root).optimizer.decay\n",
      "WARNING:tensorflow:Value in checkpoint could not be found in the restored object: (root).optimizer.learning_rate\n",
      "Transforming credits to sequences is done.\n"
     ]
    },
    {
     "data": {
      "application/vnd.jupyter.widget-view+json": {
       "model_id": "dadb0c50e78649ee87c4d2ad76ab9a03",
       "version_major": 2,
       "version_minor": 0
      },
      "text/plain": [
       "Extracting buckets:   0%|          | 0/43 [00:00<?, ?it/s]"
      ]
     },
     "metadata": {},
     "output_type": "display_data"
    },
    {
     "name": "stdout",
     "output_type": "stream",
     "text": [
      "Reading chunks:\n",
      "../data/7Folds/mod_data/train_data_2.pq\n",
      "../data/7Folds/mod_data/train_data_3.pq\n"
     ]
    },
    {
     "data": {
      "application/vnd.jupyter.widget-view+json": {
       "model_id": "3b7598c236e34663a120f5a576b00310",
       "version_major": 2,
       "version_minor": 0
      },
      "text/plain": [
       "Reading dataset with pandas:   0%|          | 0/2 [00:00<?, ?it/s]"
      ]
     },
     "metadata": {},
     "output_type": "display_data"
    },
    {
     "name": "stdout",
     "output_type": "stream",
     "text": [
      "Transforming credits to sequences is done.\n"
     ]
    },
    {
     "data": {
      "application/vnd.jupyter.widget-view+json": {
       "model_id": "61f9cf01e4054a8ab74ddf93d542975f",
       "version_major": 2,
       "version_minor": 0
      },
      "text/plain": [
       "Extracting buckets:   0%|          | 0/43 [00:00<?, ?it/s]"
      ]
     },
     "metadata": {},
     "output_type": "display_data"
    },
    {
     "name": "stdout",
     "output_type": "stream",
     "text": [
      "Reading chunks:\n",
      "../data/7Folds/mod_data/train_data_4.pq\n",
      "../data/7Folds/mod_data/train_data_5.pq\n"
     ]
    },
    {
     "data": {
      "application/vnd.jupyter.widget-view+json": {
       "model_id": "7cd28af05b7349cab8b734c45587fd71",
       "version_major": 2,
       "version_minor": 0
      },
      "text/plain": [
       "Reading dataset with pandas:   0%|          | 0/2 [00:00<?, ?it/s]"
      ]
     },
     "metadata": {},
     "output_type": "display_data"
    },
    {
     "name": "stdout",
     "output_type": "stream",
     "text": [
      "Transforming credits to sequences is done.\n"
     ]
    },
    {
     "data": {
      "application/vnd.jupyter.widget-view+json": {
       "model_id": "ff5b69dc62e749b191aee73f4b5bfce8",
       "version_major": 2,
       "version_minor": 0
      },
      "text/plain": [
       "Extracting buckets:   0%|          | 0/42 [00:00<?, ?it/s]"
      ]
     },
     "metadata": {},
     "output_type": "display_data"
    },
    {
     "name": "stdout",
     "output_type": "stream",
     "text": [
      "Reading chunks:\n",
      "../data/7Folds/mod_data/train_data_6.pq\n",
      "../data/7Folds/mod_data/train_data_7.pq\n"
     ]
    },
    {
     "data": {
      "application/vnd.jupyter.widget-view+json": {
       "model_id": "3c821c0c527a4b7ebec67e113f5812ea",
       "version_major": 2,
       "version_minor": 0
      },
      "text/plain": [
       "Reading dataset with pandas:   0%|          | 0/2 [00:00<?, ?it/s]"
      ]
     },
     "metadata": {},
     "output_type": "display_data"
    },
    {
     "name": "stdout",
     "output_type": "stream",
     "text": [
      "Transforming credits to sequences is done.\n"
     ]
    },
    {
     "data": {
      "application/vnd.jupyter.widget-view+json": {
       "model_id": "ecc5ddad736b46b5affac5e6388f65af",
       "version_major": 2,
       "version_minor": 0
      },
      "text/plain": [
       "Extracting buckets:   0%|          | 0/43 [00:00<?, ?it/s]"
      ]
     },
     "metadata": {},
     "output_type": "display_data"
    },
    {
     "name": "stdout",
     "output_type": "stream",
     "text": [
      "Reading chunks:\n",
      "../data/7Folds/mod_data/train_data_8.pq\n",
      "../data/7Folds/mod_data/train_data_9.pq\n"
     ]
    },
    {
     "data": {
      "application/vnd.jupyter.widget-view+json": {
       "model_id": "2f793cbdc9ea42df869d291770a2f122",
       "version_major": 2,
       "version_minor": 0
      },
      "text/plain": [
       "Reading dataset with pandas:   0%|          | 0/2 [00:00<?, ?it/s]"
      ]
     },
     "metadata": {},
     "output_type": "display_data"
    },
    {
     "name": "stdout",
     "output_type": "stream",
     "text": [
      "Transforming credits to sequences is done.\n"
     ]
    },
    {
     "data": {
      "application/vnd.jupyter.widget-view+json": {
       "model_id": "3232628179c24cef8e29f2595c05b35e",
       "version_major": 2,
       "version_minor": 0
      },
      "text/plain": [
       "Extracting buckets:   0%|          | 0/42 [00:00<?, ?it/s]"
      ]
     },
     "metadata": {},
     "output_type": "display_data"
    },
    {
     "name": "stdout",
     "output_type": "stream",
     "text": [
      "Reading chunks:\n",
      "../data/7Folds/mod_data/train_data_10.pq\n",
      "../data/7Folds/mod_data/train_data_11.pq\n"
     ]
    },
    {
     "data": {
      "application/vnd.jupyter.widget-view+json": {
       "model_id": "1122b0fe9cff49f6a1672ee86a498d77",
       "version_major": 2,
       "version_minor": 0
      },
      "text/plain": [
       "Reading dataset with pandas:   0%|          | 0/2 [00:00<?, ?it/s]"
      ]
     },
     "metadata": {},
     "output_type": "display_data"
    },
    {
     "name": "stdout",
     "output_type": "stream",
     "text": [
      "Transforming credits to sequences is done.\n"
     ]
    },
    {
     "data": {
      "application/vnd.jupyter.widget-view+json": {
       "model_id": "c7c1b4f102c94f3dbb571969c0ec4427",
       "version_major": 2,
       "version_minor": 0
      },
      "text/plain": [
       "Extracting buckets:   0%|          | 0/42 [00:00<?, ?it/s]"
      ]
     },
     "metadata": {},
     "output_type": "display_data"
    },
    {
     "name": "stdout",
     "output_type": "stream",
     "text": [
      "Reading chunks:\n",
      "../data/7Folds/mod_data/train_data_12.pq\n",
      "../data/7Folds/mod_data/train_data_13.pq\n"
     ]
    },
    {
     "data": {
      "application/vnd.jupyter.widget-view+json": {
       "model_id": "944f269e7f7c4df1a8353c0bf1d62e41",
       "version_major": 2,
       "version_minor": 0
      },
      "text/plain": [
       "Reading dataset with pandas:   0%|          | 0/2 [00:00<?, ?it/s]"
      ]
     },
     "metadata": {},
     "output_type": "display_data"
    },
    {
     "name": "stdout",
     "output_type": "stream",
     "text": [
      "Transforming credits to sequences is done.\n"
     ]
    },
    {
     "data": {
      "application/vnd.jupyter.widget-view+json": {
       "model_id": "7c7bed4c8d714697b9987d2841c649fe",
       "version_major": 2,
       "version_minor": 0
      },
      "text/plain": [
       "Extracting buckets:   0%|          | 0/39 [00:00<?, ?it/s]"
      ]
     },
     "metadata": {},
     "output_type": "display_data"
    },
    {
     "name": "stdout",
     "output_type": "stream",
     "text": [
      "Starting epoch 1\n",
      "20089/20089 [==============================] - 1388s 69ms/step - loss: 0.1316\n",
      "3422/3422 [==============================] - 47s 14ms/step\n",
      "Validation ROC-AUC improved (-inf --> 0.773853).  Saving model...\n",
      "Epoch 1 completed. Train2 ROC AUC: Now is not estimated, val ROC AUC: 0.7738526651992567\n",
      "Starting epoch 2\n",
      "Epoch 2/2\n",
      "20089/20089 [==============================] - 1383s 69ms/step - loss: 0.1302\n",
      "3422/3422 [==============================] - 40s 12ms/step\n",
      "Validation ROC-AUC improved (0.773853 --> 0.778507).  Saving model...\n",
      "Epoch 2 completed. Train2 ROC AUC: Now is not estimated, val ROC AUC: 0.7785073395636172\n",
      "Starting epoch 3\n",
      "Epoch 3/3\n",
      "20089/20089 [==============================] - 1387s 69ms/step - loss: 0.1283\n",
      "3422/3422 [==============================] - 41s 12ms/step\n",
      "Validation ROC-AUC improved (0.778507 --> 0.779391).  Saving model...\n",
      "Epoch 3 completed. Train2 ROC AUC: Now is not estimated, val ROC AUC: 0.779390617019982\n",
      "Starting epoch 4\n",
      "Epoch 4/4\n",
      "20089/20089 [==============================] - 1408s 70ms/step - loss: 0.1274\n",
      "3422/3422 [==============================] - 40s 12ms/step\n",
      "Validation ROC-AUC improved (0.779391 --> 0.781865).  Saving model...\n",
      "Epoch 4 completed. Train2 ROC AUC: Now is not estimated, val ROC AUC: 0.7818646706450582\n",
      "Starting epoch 5\n",
      "Epoch 5/5\n",
      "20089/20089 [==============================] - 1397s 70ms/step - loss: 0.1259\n",
      "3422/3422 [==============================] - 41s 12ms/step\n",
      "No imporvement in validation ROC-AUC. Current: 0.778769. Current best: 0.781865\n",
      "EarlyStopping counter: 1 out of 3\n",
      "Epoch 5 completed. Train2 ROC AUC: Now is not estimated, val ROC AUC: 0.7787685122741961\n",
      "Starting epoch 6\n",
      "Epoch 6/6\n",
      "20089/20089 [==============================] - 1394s 69ms/step - loss: 0.1246\n",
      "3422/3422 [==============================] - 40s 12ms/step\n",
      "No imporvement in validation ROC-AUC. Current: 0.777806. Current best: 0.781865\n",
      "EarlyStopping counter: 2 out of 3\n",
      "Epoch 6 completed. Train2 ROC AUC: Now is not estimated, val ROC AUC: 0.7778055058437492\n",
      "Starting epoch 7\n",
      "Epoch 7/7\n",
      "20089/20089 [==============================] - 1382s 69ms/step - loss: 0.1223\n",
      "3422/3422 [==============================] - 40s 12ms/step\n",
      "No imporvement in validation ROC-AUC. Current: 0.771934. Current best: 0.781865\n",
      "EarlyStopping counter: 3 out of 3\n",
      "Early stopping reached. Stop training...\n",
      "3422/3422 [==============================] - 40s 12ms/step\n",
      "3929/3929 [==============================] - 46s 12ms/step\n",
      "dataset_y.shape (428571,)\n",
      "y_val_net_st2.shape, y_test_net_st2.shape (428571,) (500000,)\n",
      "\n",
      "Fold net2 auc scor : 0.7818646706450582\n",
      "3371/3371 [==============================] - 33s 10ms/step\n",
      "3370/3370 [==============================] - 33s 10ms/step\n",
      "3371/3371 [==============================] - 33s 10ms/step\n",
      "3368/3368 [==============================] - 32s 10ms/step\n",
      "3372/3372 [==============================] - 33s 10ms/step\n",
      "844/844 [==============================] - 8s 10ms/step\n",
      "3372/3372 [==============================] - 33s 10ms/step\n",
      "X_train_for_lgbm2 done \n",
      "3422/3422 [==============================] - 34s 10ms/step\n",
      "3929/3929 [==============================] - 38s 10ms/step\n",
      "|   iter    |  target   | baggin... | featur... | max_depth | num_le... |\n",
      "-------------------------------------------------------------------------\n",
      "| \u001b[0m 1       \u001b[0m | \u001b[0m 0.7659  \u001b[0m | \u001b[0m 0.8749  \u001b[0m | \u001b[0m 0.7655  \u001b[0m | \u001b[0m 10.59   \u001b[0m | \u001b[0m 36.57   \u001b[0m |\n",
      "| \u001b[0m 2       \u001b[0m | \u001b[0m 0.7655  \u001b[0m | \u001b[0m 0.8312  \u001b[0m | \u001b[0m 0.2092  \u001b[0m | \u001b[0m 4.523   \u001b[0m | \u001b[0m 42.19   \u001b[0m |\n",
      "| \u001b[0m 3       \u001b[0m | \u001b[0m 0.7626  \u001b[0m | \u001b[0m 0.9202  \u001b[0m | \u001b[0m 0.5957  \u001b[0m | \u001b[0m 4.185   \u001b[0m | \u001b[0m 44.37   \u001b[0m |\n",
      "| \u001b[95m 4       \u001b[0m | \u001b[95m 0.7684  \u001b[0m | \u001b[95m 0.9665  \u001b[0m | \u001b[95m 0.2486  \u001b[0m | \u001b[95m 5.636   \u001b[0m | \u001b[95m 27.85   \u001b[0m |\n",
      "| \u001b[0m 5       \u001b[0m | \u001b[0m 0.7675  \u001b[0m | \u001b[0m 0.8608  \u001b[0m | \u001b[0m 0.4673  \u001b[0m | \u001b[0m 7.888   \u001b[0m | \u001b[0m 30.12   \u001b[0m |\n",
      "| \u001b[0m 6       \u001b[0m | \u001b[0m 0.7646  \u001b[0m | \u001b[0m 0.9327  \u001b[0m | \u001b[0m 0.3258  \u001b[0m | \u001b[0m 4.91    \u001b[0m | \u001b[0m 30.04   \u001b[0m |\n",
      "| \u001b[95m 7       \u001b[0m | \u001b[95m 0.771   \u001b[0m | \u001b[95m 0.8098  \u001b[0m | \u001b[95m 0.1129  \u001b[0m | \u001b[95m 9.405   \u001b[0m | \u001b[95m 39.2    \u001b[0m |\n",
      "| \u001b[0m 8       \u001b[0m | \u001b[0m 0.7695  \u001b[0m | \u001b[0m 0.843   \u001b[0m | \u001b[0m 0.2982  \u001b[0m | \u001b[0m 8.974   \u001b[0m | \u001b[0m 39.58   \u001b[0m |\n",
      "| \u001b[95m 9       \u001b[0m | \u001b[95m 0.7714  \u001b[0m | \u001b[95m 0.8022  \u001b[0m | \u001b[95m 0.1     \u001b[0m | \u001b[95m 10.45   \u001b[0m | \u001b[95m 39.6    \u001b[0m |\n",
      "| \u001b[95m 10      \u001b[0m | \u001b[95m 0.7716  \u001b[0m | \u001b[95m 0.8     \u001b[0m | \u001b[95m 0.1     \u001b[0m | \u001b[95m 12.39   \u001b[0m | \u001b[95m 40.48   \u001b[0m |\n",
      "=========================================================================\n",
      "{'bagging_fraction': 0.8, 'feature_fraction': 0.1, 'max_depth': 12.38947658711286, 'num_leaves': 40.4775488140126}\n",
      "bagging_fraction 0.8\n",
      "feature_fraction 0.1\n",
      "max_depth 12.38947658711286\n",
      "num_leaves 40.4775488140126\n",
      "\n",
      "================new params==================\n",
      "{'boosting_type': 'gbdt', 'objective': 'binary', 'metric': 'auc', 'learning_rate': 0.01, 'n_jobs': 8, 'seed': 15, 'max_depth': 12, 'verbose': -1, 'num_leaves': 40, 'feature_fraction': 0.1, 'bagging_fraction': 0.8}\n",
      "Training until validation scores don't improve for 300 rounds\n",
      "[100]\ttraining's auc: 0.799305\tvalid_1's auc: 0.773661\n",
      "[200]\ttraining's auc: 0.804015\tvalid_1's auc: 0.777179\n",
      "[300]\ttraining's auc: 0.807461\tvalid_1's auc: 0.779524\n",
      "[400]\ttraining's auc: 0.810262\tvalid_1's auc: 0.781135\n",
      "[500]\ttraining's auc: 0.812596\tvalid_1's auc: 0.782252\n",
      "[600]\ttraining's auc: 0.814657\tvalid_1's auc: 0.783066\n",
      "[700]\ttraining's auc: 0.816541\tvalid_1's auc: 0.783627\n",
      "[800]\ttraining's auc: 0.818296\tvalid_1's auc: 0.784027\n",
      "[900]\ttraining's auc: 0.819912\tvalid_1's auc: 0.784339\n",
      "[1000]\ttraining's auc: 0.821447\tvalid_1's auc: 0.784562\n",
      "[1100]\ttraining's auc: 0.822948\tvalid_1's auc: 0.784741\n",
      "[1200]\ttraining's auc: 0.824426\tvalid_1's auc: 0.784933\n",
      "[1300]\ttraining's auc: 0.825925\tvalid_1's auc: 0.785056\n",
      "[1400]\ttraining's auc: 0.827297\tvalid_1's auc: 0.785156\n",
      "[1500]\ttraining's auc: 0.828706\tvalid_1's auc: 0.785242\n",
      "[1600]\ttraining's auc: 0.830129\tvalid_1's auc: 0.785283\n",
      "[1700]\ttraining's auc: 0.831502\tvalid_1's auc: 0.785341\n",
      "[1800]\ttraining's auc: 0.832918\tvalid_1's auc: 0.785399\n",
      "[1900]\ttraining's auc: 0.834283\tvalid_1's auc: 0.785429\n",
      "[2000]\ttraining's auc: 0.835616\tvalid_1's auc: 0.785511\n",
      "[2100]\ttraining's auc: 0.83697\tvalid_1's auc: 0.785571\n",
      "[2200]\ttraining's auc: 0.838301\tvalid_1's auc: 0.785628\n",
      "[2300]\ttraining's auc: 0.839615\tvalid_1's auc: 0.785663\n",
      "[2400]\ttraining's auc: 0.840922\tvalid_1's auc: 0.785681\n",
      "[2500]\ttraining's auc: 0.842232\tvalid_1's auc: 0.785695\n",
      "[2600]\ttraining's auc: 0.843519\tvalid_1's auc: 0.785703\n",
      "[2700]\ttraining's auc: 0.844807\tvalid_1's auc: 0.785713\n",
      "[2800]\ttraining's auc: 0.846079\tvalid_1's auc: 0.785721\n",
      "[2900]\ttraining's auc: 0.847373\tvalid_1's auc: 0.785719\n",
      "[3000]\ttraining's auc: 0.848657\tvalid_1's auc: 0.785738\n",
      "[3100]\ttraining's auc: 0.849889\tvalid_1's auc: 0.785735\n",
      "[3200]\ttraining's auc: 0.851066\tvalid_1's auc: 0.785738\n",
      "[3300]\ttraining's auc: 0.852285\tvalid_1's auc: 0.785753\n",
      "[3400]\ttraining's auc: 0.853468\tvalid_1's auc: 0.78575\n",
      "[3500]\ttraining's auc: 0.854634\tvalid_1's auc: 0.785779\n",
      "[3600]\ttraining's auc: 0.855816\tvalid_1's auc: 0.785785\n",
      "[3700]\ttraining's auc: 0.856976\tvalid_1's auc: 0.785788\n",
      "[3800]\ttraining's auc: 0.858196\tvalid_1's auc: 0.785793\n",
      "[3900]\ttraining's auc: 0.85931\tvalid_1's auc: 0.785806\n",
      "[4000]\ttraining's auc: 0.860441\tvalid_1's auc: 0.785794\n",
      "[4100]\ttraining's auc: 0.861575\tvalid_1's auc: 0.785778\n",
      "Early stopping, best iteration is:\n",
      "[3855]\ttraining's auc: 0.858792\tvalid_1's auc: 0.785817\n",
      "roc_auc_score: 0.7858170608510333\n",
      "lgb pass ==========================================\n",
      "\n",
      "dataset_y.shape (428571,)\n",
      "Fold lgbm auc scor: 0.7858170608510333\n",
      "Final split level: 0.03308949286428647\n",
      "\n",
      "val_y.shape (428571,)\n",
      "y_val_lstm_st2.shape, y_test_lstm_st2.shape (428571,) (500000,)\n",
      "mul_lstm_st1_lstm_st2_ 0.7881991565550972\n",
      "{'mul_lstm_st1_lstm_st2_net_st1_net_st2_': 0.7874208661433719, 'sum_lstm_st1_lstm_st2_net_st1_net_st2_': 0.7874286066639777, 'mul_lstm_st1_lstm_st2_net_st1_': 0.7876110817411011, 'sum_lstm_st1_lstm_st2_net_st1_': 0.7877088651208208, 'mul_lstm_st1_lstm_st2_net_st2_': 0.7875194061321302, 'sum_lstm_st1_lstm_st2_net_st2_': 0.7874298374104245, 'mul_lstm_st1_net_st1_net_st2_': 0.7865622652171017, 'sum_lstm_st1_net_st1_net_st2_': 0.7866266076263595, 'mul_lstm_st2_net_st1_net_st2_': 0.7864496361179555, 'sum_lstm_st2_net_st1_net_st2_': 0.7864164816088359, 'mul_lstm_st1_lstm_st2_': 0.7881991565550972, 'sum_lstm_st1_lstm_st2_': 0.7881592192159095, 'mul_lstm_st1_net_st1_': 0.7855438597164636, 'sum_lstm_st1_net_st1_': 0.7856580353876813, 'mul_lstm_st1_net_st2_': 0.7869400994290371, 'sum_lstm_st1_net_st2_': 0.7868186679074625, 'mul_lstm_st2_net_st1_': 0.786869171760264, 'sum_lstm_st2_net_st1_': 0.7869824846960964, 'mul_lstm_st2_net_st2_': 0.7852666899352857, 'sum_lstm_st2_net_st2_': 0.7851926898688735, 'mul_net_st1_net_st2_': 0.7848131442299546, 'sum_net_st1_net_st2_': 0.784822017110702, 'lstm_st1': 0.786201273495799, 'lstm_st2': 0.7858170608510333, 'net_st1': 0.7821523533979111, 'net_st2': 0.7818646706450582}\n",
      "\n"
     ]
    },
    {
     "name": "stdout",
     "output_type": "stream",
     "text": [
      "Fold: 5 pass. Time 16226.168600320816 sec.\n",
      "=======================================================================================================\n",
      "\n",
      "\n",
      "3418/3418 [==============================] - 48s 14ms/step\n",
      "3929/3929 [==============================] - 46s 12ms/step\n",
      "dataset_y.shape (428571,)\n",
      "y_val_net_st1.shape, y_test_net_st1.shape (428571,) (500000,)\n",
      "\n",
      "Fold net auc scor : 0.7818442318958214\n",
      "6722/6722 [==============================] - 67s 10ms/step\n",
      "6721/6721 [==============================] - 68s 10ms/step\n",
      "6714/6714 [==============================] - 68s 10ms/step\n",
      "X_train_for_lgbm shapes ===>  (2571429, 512) (857432, 512) (857227, 512) (856770, 512)\n",
      "3418/3418 [==============================] - 35s 10ms/step\n",
      "3929/3929 [==============================] - 40s 10ms/step\n",
      "|   iter    |  target   | baggin... | featur... | max_depth | num_le... |\n",
      "-------------------------------------------------------------------------\n",
      "| \u001b[0m 1       \u001b[0m | \u001b[0m 0.7655  \u001b[0m | \u001b[0m 0.8749  \u001b[0m | \u001b[0m 0.7655  \u001b[0m | \u001b[0m 10.59   \u001b[0m | \u001b[0m 36.57   \u001b[0m |\n",
      "| \u001b[95m 2       \u001b[0m | \u001b[95m 0.7687  \u001b[0m | \u001b[95m 0.8312  \u001b[0m | \u001b[95m 0.2092  \u001b[0m | \u001b[95m 4.523   \u001b[0m | \u001b[95m 42.19   \u001b[0m |\n",
      "| \u001b[0m 3       \u001b[0m | \u001b[0m 0.7634  \u001b[0m | \u001b[0m 0.9202  \u001b[0m | \u001b[0m 0.5957  \u001b[0m | \u001b[0m 4.185   \u001b[0m | \u001b[0m 44.37   \u001b[0m |\n",
      "| \u001b[95m 4       \u001b[0m | \u001b[95m 0.7713  \u001b[0m | \u001b[95m 0.9665  \u001b[0m | \u001b[95m 0.2486  \u001b[0m | \u001b[95m 5.636   \u001b[0m | \u001b[95m 27.85   \u001b[0m |\n",
      "| \u001b[0m 5       \u001b[0m | \u001b[0m 0.7693  \u001b[0m | \u001b[0m 0.8608  \u001b[0m | \u001b[0m 0.4673  \u001b[0m | \u001b[0m 7.888   \u001b[0m | \u001b[0m 30.12   \u001b[0m |\n",
      "| \u001b[0m 6       \u001b[0m | \u001b[0m 0.7711  \u001b[0m | \u001b[0m 0.9382  \u001b[0m | \u001b[0m 0.2901  \u001b[0m | \u001b[0m 5.715   \u001b[0m | \u001b[0m 27.88   \u001b[0m |\n",
      "| \u001b[0m 7       \u001b[0m | \u001b[0m 0.7706  \u001b[0m | \u001b[0m 1.0     \u001b[0m | \u001b[0m 0.1     \u001b[0m | \u001b[0m 4.0     \u001b[0m | \u001b[0m 28.52   \u001b[0m |\n",
      "| \u001b[0m 8       \u001b[0m | \u001b[0m 0.7706  \u001b[0m | \u001b[0m 1.0     \u001b[0m | \u001b[0m 0.1     \u001b[0m | \u001b[0m 4.435   \u001b[0m | \u001b[0m 26.09   \u001b[0m |\n",
      "| \u001b[95m 9       \u001b[0m | \u001b[95m 0.7726  \u001b[0m | \u001b[95m 0.8762  \u001b[0m | \u001b[95m 0.1035  \u001b[0m | \u001b[95m 7.236   \u001b[0m | \u001b[95m 24.87   \u001b[0m |\n",
      "| \u001b[95m 10      \u001b[0m | \u001b[95m 0.7731  \u001b[0m | \u001b[95m 1.0     \u001b[0m | \u001b[95m 0.1     \u001b[0m | \u001b[95m 9.241   \u001b[0m | \u001b[95m 24.0    \u001b[0m |\n",
      "=========================================================================\n",
      "{'bagging_fraction': 1.0, 'feature_fraction': 0.1, 'max_depth': 9.241284821285717, 'num_leaves': 24.0}\n",
      "bagging_fraction 1.0\n",
      "feature_fraction 0.1\n",
      "max_depth 9.241284821285717\n",
      "num_leaves 24.0\n",
      "\n",
      "================new params==================\n",
      "{'boosting_type': 'gbdt', 'objective': 'binary', 'metric': 'auc', 'learning_rate': 0.01, 'n_jobs': 8, 'seed': 15, 'max_depth': 9, 'verbose': -1, 'num_leaves': 24, 'feature_fraction': 0.1, 'bagging_fraction': 1.0}\n",
      "Training until validation scores don't improve for 300 rounds\n",
      "[100]\ttraining's auc: 0.781279\tvalid_1's auc: 0.774817\n",
      "[200]\ttraining's auc: 0.784801\tvalid_1's auc: 0.77748\n",
      "[300]\ttraining's auc: 0.787585\tvalid_1's auc: 0.779431\n",
      "[400]\ttraining's auc: 0.790204\tvalid_1's auc: 0.781115\n",
      "[500]\ttraining's auc: 0.792309\tvalid_1's auc: 0.782282\n",
      "[600]\ttraining's auc: 0.794142\tvalid_1's auc: 0.783161\n",
      "[700]\ttraining's auc: 0.795704\tvalid_1's auc: 0.78383\n",
      "[800]\ttraining's auc: 0.797074\tvalid_1's auc: 0.78432\n",
      "[900]\ttraining's auc: 0.798335\tvalid_1's auc: 0.784696\n",
      "[1000]\ttraining's auc: 0.799515\tvalid_1's auc: 0.784987\n",
      "[1100]\ttraining's auc: 0.800598\tvalid_1's auc: 0.785209\n",
      "[1200]\ttraining's auc: 0.801634\tvalid_1's auc: 0.785406\n",
      "[1300]\ttraining's auc: 0.802607\tvalid_1's auc: 0.785564\n",
      "[1400]\ttraining's auc: 0.803581\tvalid_1's auc: 0.785708\n",
      "[1500]\ttraining's auc: 0.804543\tvalid_1's auc: 0.785791\n",
      "[1600]\ttraining's auc: 0.805501\tvalid_1's auc: 0.78588\n",
      "[1700]\ttraining's auc: 0.806433\tvalid_1's auc: 0.785966\n",
      "[1800]\ttraining's auc: 0.807326\tvalid_1's auc: 0.786034\n",
      "[1900]\ttraining's auc: 0.808189\tvalid_1's auc: 0.786078\n",
      "[2000]\ttraining's auc: 0.809065\tvalid_1's auc: 0.78612\n",
      "[2100]\ttraining's auc: 0.809924\tvalid_1's auc: 0.786173\n",
      "[2200]\ttraining's auc: 0.810783\tvalid_1's auc: 0.78619\n",
      "[2300]\ttraining's auc: 0.811606\tvalid_1's auc: 0.786211\n",
      "[2400]\ttraining's auc: 0.812427\tvalid_1's auc: 0.786256\n",
      "[2500]\ttraining's auc: 0.813264\tvalid_1's auc: 0.786278\n",
      "[2600]\ttraining's auc: 0.814057\tvalid_1's auc: 0.786295\n",
      "[2700]\ttraining's auc: 0.814862\tvalid_1's auc: 0.78632\n",
      "[2800]\ttraining's auc: 0.8157\tvalid_1's auc: 0.786324\n",
      "[2900]\ttraining's auc: 0.816559\tvalid_1's auc: 0.786351\n",
      "[3000]\ttraining's auc: 0.817355\tvalid_1's auc: 0.786363\n",
      "[3100]\ttraining's auc: 0.818187\tvalid_1's auc: 0.786364\n",
      "[3200]\ttraining's auc: 0.818974\tvalid_1's auc: 0.786379\n",
      "[3300]\ttraining's auc: 0.819809\tvalid_1's auc: 0.786386\n",
      "[3400]\ttraining's auc: 0.820571\tvalid_1's auc: 0.786396\n",
      "[3500]\ttraining's auc: 0.821374\tvalid_1's auc: 0.786421\n",
      "[3600]\ttraining's auc: 0.82211\tvalid_1's auc: 0.786429\n",
      "[3700]\ttraining's auc: 0.822865\tvalid_1's auc: 0.786454\n",
      "[3800]\ttraining's auc: 0.823604\tvalid_1's auc: 0.786453\n",
      "[3900]\ttraining's auc: 0.824405\tvalid_1's auc: 0.786482\n",
      "[4000]\ttraining's auc: 0.825126\tvalid_1's auc: 0.786484\n",
      "[4100]\ttraining's auc: 0.825896\tvalid_1's auc: 0.786456\n",
      "[4200]\ttraining's auc: 0.82668\tvalid_1's auc: 0.786464\n",
      "Early stopping, best iteration is:\n",
      "[3969]\ttraining's auc: 0.824894\tvalid_1's auc: 0.786492\n",
      "roc_auc_score: 0.7864916097269006\n",
      "lgb pass ==========================================\n",
      "\n",
      "dataset_y.shape (428571,)\n",
      "Fold lgbm auc scor: 0.7864916097269006\n",
      "Final split level: 0.0326242241958534\n",
      "\n",
      "val_y.shape (428571,)\n",
      "y_val_lstm_st1.shape, y_test_lstm_st1.shape (428571,) (500000,)\n",
      "482260 17740 500000\n",
      "101274 3725\n"
     ]
    },
    {
     "data": {
      "application/vnd.jupyter.widget-view+json": {
       "model_id": "9375e314b1dd4aff8349daf634072a1d",
       "version_major": 2,
       "version_minor": 0
      },
      "text/plain": [
       "Preparing credit data:   0%|          | 0/7 [00:00<?, ?it/s]"
      ]
     },
     "metadata": {},
     "output_type": "display_data"
    },
    {
     "name": "stdout",
     "output_type": "stream",
     "text": [
      "Reading chunks:\n",
      "../data/7Folds/mod_data/train_data_0.pq\n",
      "../data/7Folds/mod_data/train_data_1.pq\n"
     ]
    },
    {
     "data": {
      "application/vnd.jupyter.widget-view+json": {
       "model_id": "8a2fea31561a4cb6b6f043e5c9ce57ab",
       "version_major": 2,
       "version_minor": 0
      },
      "text/plain": [
       "Reading dataset with pandas:   0%|          | 0/2 [00:00<?, ?it/s]"
      ]
     },
     "metadata": {},
     "output_type": "display_data"
    },
    {
     "name": "stdout",
     "output_type": "stream",
     "text": [
      "WARNING:tensorflow:Detecting that an object or model or tf.train.Checkpoint is being deleted with unrestored values. See the following logs for the specific values in question. To silence these warnings, use `status.expect_partial()`. See https://www.tensorflow.org/api_docs/python/tf/train/Checkpoint#restorefor details about the status object returned by the restore function.\n",
      "WARNING:tensorflow:Value in checkpoint could not be found in the restored object: (root).optimizer.iter\n",
      "WARNING:tensorflow:Value in checkpoint could not be found in the restored object: (root).optimizer.beta_1\n",
      "WARNING:tensorflow:Value in checkpoint could not be found in the restored object: (root).optimizer.beta_2\n",
      "WARNING:tensorflow:Value in checkpoint could not be found in the restored object: (root).optimizer.decay\n",
      "WARNING:tensorflow:Value in checkpoint could not be found in the restored object: (root).optimizer.learning_rate\n",
      "Transforming credits to sequences is done.\n"
     ]
    },
    {
     "data": {
      "application/vnd.jupyter.widget-view+json": {
       "model_id": "83dce682675a4cf9ab3a7b26609b21e3",
       "version_major": 2,
       "version_minor": 0
      },
      "text/plain": [
       "Extracting buckets:   0%|          | 0/43 [00:00<?, ?it/s]"
      ]
     },
     "metadata": {},
     "output_type": "display_data"
    },
    {
     "name": "stdout",
     "output_type": "stream",
     "text": [
      "Reading chunks:\n",
      "../data/7Folds/mod_data/train_data_2.pq\n",
      "../data/7Folds/mod_data/train_data_3.pq\n"
     ]
    },
    {
     "data": {
      "application/vnd.jupyter.widget-view+json": {
       "model_id": "fb65f974b86842779b738d3e00d02ac3",
       "version_major": 2,
       "version_minor": 0
      },
      "text/plain": [
       "Reading dataset with pandas:   0%|          | 0/2 [00:00<?, ?it/s]"
      ]
     },
     "metadata": {},
     "output_type": "display_data"
    },
    {
     "name": "stdout",
     "output_type": "stream",
     "text": [
      "Transforming credits to sequences is done.\n"
     ]
    },
    {
     "data": {
      "application/vnd.jupyter.widget-view+json": {
       "model_id": "9d685334e854401eaafb4d2a93d8c15b",
       "version_major": 2,
       "version_minor": 0
      },
      "text/plain": [
       "Extracting buckets:   0%|          | 0/43 [00:00<?, ?it/s]"
      ]
     },
     "metadata": {},
     "output_type": "display_data"
    },
    {
     "name": "stdout",
     "output_type": "stream",
     "text": [
      "Reading chunks:\n",
      "../data/7Folds/mod_data/train_data_4.pq\n",
      "../data/7Folds/mod_data/train_data_5.pq\n"
     ]
    },
    {
     "data": {
      "application/vnd.jupyter.widget-view+json": {
       "model_id": "6845cae3613b45a9b0c7d5f7c0726937",
       "version_major": 2,
       "version_minor": 0
      },
      "text/plain": [
       "Reading dataset with pandas:   0%|          | 0/2 [00:00<?, ?it/s]"
      ]
     },
     "metadata": {},
     "output_type": "display_data"
    },
    {
     "name": "stdout",
     "output_type": "stream",
     "text": [
      "Transforming credits to sequences is done.\n"
     ]
    },
    {
     "data": {
      "application/vnd.jupyter.widget-view+json": {
       "model_id": "04cfb4e0651b4888bda39ee40d6e77e1",
       "version_major": 2,
       "version_minor": 0
      },
      "text/plain": [
       "Extracting buckets:   0%|          | 0/42 [00:00<?, ?it/s]"
      ]
     },
     "metadata": {},
     "output_type": "display_data"
    },
    {
     "name": "stdout",
     "output_type": "stream",
     "text": [
      "Reading chunks:\n",
      "../data/7Folds/mod_data/train_data_6.pq\n",
      "../data/7Folds/mod_data/train_data_7.pq\n"
     ]
    },
    {
     "data": {
      "application/vnd.jupyter.widget-view+json": {
       "model_id": "98a72b56e9c04655925eee0447cda5d6",
       "version_major": 2,
       "version_minor": 0
      },
      "text/plain": [
       "Reading dataset with pandas:   0%|          | 0/2 [00:00<?, ?it/s]"
      ]
     },
     "metadata": {},
     "output_type": "display_data"
    },
    {
     "name": "stdout",
     "output_type": "stream",
     "text": [
      "Transforming credits to sequences is done.\n"
     ]
    },
    {
     "data": {
      "application/vnd.jupyter.widget-view+json": {
       "model_id": "b2ea2a4ace124362b949e69d4794ba7d",
       "version_major": 2,
       "version_minor": 0
      },
      "text/plain": [
       "Extracting buckets:   0%|          | 0/43 [00:00<?, ?it/s]"
      ]
     },
     "metadata": {},
     "output_type": "display_data"
    },
    {
     "name": "stdout",
     "output_type": "stream",
     "text": [
      "Reading chunks:\n",
      "../data/7Folds/mod_data/train_data_8.pq\n",
      "../data/7Folds/mod_data/train_data_9.pq\n"
     ]
    },
    {
     "data": {
      "application/vnd.jupyter.widget-view+json": {
       "model_id": "70b99b05c5b844a8b4100ecd7e93aa44",
       "version_major": 2,
       "version_minor": 0
      },
      "text/plain": [
       "Reading dataset with pandas:   0%|          | 0/2 [00:00<?, ?it/s]"
      ]
     },
     "metadata": {},
     "output_type": "display_data"
    },
    {
     "name": "stdout",
     "output_type": "stream",
     "text": [
      "Transforming credits to sequences is done.\n"
     ]
    },
    {
     "data": {
      "application/vnd.jupyter.widget-view+json": {
       "model_id": "17c7c5ed78dd4d118a20f383f50532f0",
       "version_major": 2,
       "version_minor": 0
      },
      "text/plain": [
       "Extracting buckets:   0%|          | 0/42 [00:00<?, ?it/s]"
      ]
     },
     "metadata": {},
     "output_type": "display_data"
    },
    {
     "name": "stdout",
     "output_type": "stream",
     "text": [
      "Reading chunks:\n",
      "../data/7Folds/mod_data/train_data_10.pq\n",
      "../data/7Folds/mod_data/train_data_11.pq\n"
     ]
    },
    {
     "data": {
      "application/vnd.jupyter.widget-view+json": {
       "model_id": "bd96761b33d64b87a66e8398e14ed022",
       "version_major": 2,
       "version_minor": 0
      },
      "text/plain": [
       "Reading dataset with pandas:   0%|          | 0/2 [00:00<?, ?it/s]"
      ]
     },
     "metadata": {},
     "output_type": "display_data"
    },
    {
     "name": "stdout",
     "output_type": "stream",
     "text": [
      "Transforming credits to sequences is done.\n"
     ]
    },
    {
     "data": {
      "application/vnd.jupyter.widget-view+json": {
       "model_id": "b0ac63bf588d40dfb08e0e8788dd514e",
       "version_major": 2,
       "version_minor": 0
      },
      "text/plain": [
       "Extracting buckets:   0%|          | 0/42 [00:00<?, ?it/s]"
      ]
     },
     "metadata": {},
     "output_type": "display_data"
    },
    {
     "name": "stdout",
     "output_type": "stream",
     "text": [
      "Reading chunks:\n",
      "../data/7Folds/mod_data/train_data_12.pq\n",
      "../data/7Folds/mod_data/train_data_13.pq\n"
     ]
    },
    {
     "data": {
      "application/vnd.jupyter.widget-view+json": {
       "model_id": "eaa3dd5374474717ac689ffa4d8464e9",
       "version_major": 2,
       "version_minor": 0
      },
      "text/plain": [
       "Reading dataset with pandas:   0%|          | 0/2 [00:00<?, ?it/s]"
      ]
     },
     "metadata": {},
     "output_type": "display_data"
    },
    {
     "name": "stdout",
     "output_type": "stream",
     "text": [
      "Transforming credits to sequences is done.\n"
     ]
    },
    {
     "data": {
      "application/vnd.jupyter.widget-view+json": {
       "model_id": "c35e65cab3c74b82954a43b3b21c7d8f",
       "version_major": 2,
       "version_minor": 0
      },
      "text/plain": [
       "Extracting buckets:   0%|          | 0/40 [00:00<?, ?it/s]"
      ]
     },
     "metadata": {},
     "output_type": "display_data"
    },
    {
     "name": "stdout",
     "output_type": "stream",
     "text": [
      "Starting epoch 1\n",
      "20089/20089 [==============================] - 1400s 69ms/step - loss: 0.1331\n",
      "3418/3418 [==============================] - 47s 13ms/step\n",
      "Validation ROC-AUC improved (-inf --> 0.764592).  Saving model...\n",
      "Epoch 1 completed. Train2 ROC AUC: Now is not estimated, val ROC AUC: 0.7645923335868678\n",
      "Starting epoch 2\n",
      "Epoch 2/2\n",
      "20089/20089 [==============================] - 1387s 69ms/step - loss: 0.1292\n",
      "3418/3418 [==============================] - 39s 11ms/step\n",
      "Validation ROC-AUC improved (0.764592 --> 0.777960).  Saving model...\n",
      "Epoch 2 completed. Train2 ROC AUC: Now is not estimated, val ROC AUC: 0.7779603536333808\n",
      "Starting epoch 3\n",
      "Epoch 3/3\n",
      "20089/20089 [==============================] - 1390s 69ms/step - loss: 0.1288\n",
      "3418/3418 [==============================] - 39s 12ms/step\n",
      "Validation ROC-AUC improved (0.777960 --> 0.778016).  Saving model...\n",
      "Epoch 3 completed. Train2 ROC AUC: Now is not estimated, val ROC AUC: 0.7780160414839676\n",
      "Starting epoch 4\n",
      "Epoch 4/4\n",
      "20089/20089 [==============================] - 1388s 69ms/step - loss: 0.1271\n",
      "3418/3418 [==============================] - 39s 11ms/step\n",
      "Validation ROC-AUC improved (0.778016 --> 0.782619).  Saving model...\n",
      "Epoch 4 completed. Train2 ROC AUC: Now is not estimated, val ROC AUC: 0.7826191564762364\n",
      "Starting epoch 5\n",
      "Epoch 5/5\n",
      "20089/20089 [==============================] - 1389s 69ms/step - loss: 0.1260\n",
      "3418/3418 [==============================] - 39s 11ms/step\n",
      "Validation ROC-AUC improved (0.782619 --> 0.784349).  Saving model...\n",
      "Epoch 5 completed. Train2 ROC AUC: Now is not estimated, val ROC AUC: 0.7843490729437999\n",
      "Starting epoch 6\n",
      "Epoch 6/6\n",
      "20089/20089 [==============================] - 1400s 70ms/step - loss: 0.1252\n",
      "3418/3418 [==============================] - 40s 12ms/step\n",
      "No imporvement in validation ROC-AUC. Current: 0.778762. Current best: 0.784349\n",
      "EarlyStopping counter: 1 out of 3\n",
      "Epoch 6 completed. Train2 ROC AUC: Now is not estimated, val ROC AUC: 0.7787616653517996\n",
      "Starting epoch 7\n",
      "Epoch 7/7\n",
      "20089/20089 [==============================] - 1409s 70ms/step - loss: 0.1245\n",
      "3418/3418 [==============================] - 40s 12ms/step\n",
      "No imporvement in validation ROC-AUC. Current: 0.775411. Current best: 0.784349\n",
      "EarlyStopping counter: 2 out of 3\n",
      "Epoch 7 completed. Train2 ROC AUC: Now is not estimated, val ROC AUC: 0.7754114467159963\n",
      "Starting epoch 8\n",
      "Epoch 8/8\n",
      "20089/20089 [==============================] - 1403s 70ms/step - loss: 0.1213\n",
      "3418/3418 [==============================] - 40s 12ms/step\n",
      "No imporvement in validation ROC-AUC. Current: 0.772078. Current best: 0.784349\n",
      "EarlyStopping counter: 3 out of 3\n",
      "Early stopping reached. Stop training...\n",
      "3418/3418 [==============================] - 40s 12ms/step\n",
      "3929/3929 [==============================] - 45s 12ms/step\n",
      "dataset_y.shape (428571,)\n",
      "y_val_net_st2.shape, y_test_net_st2.shape (428571,) (500000,)\n",
      "\n",
      "Fold net2 auc scor : 0.7843490729437999\n",
      "3373/3373 [==============================] - 33s 10ms/step\n",
      "3368/3368 [==============================] - 34s 10ms/step\n",
      "842/842 [==============================] - 8s 10ms/step\n",
      "3374/3374 [==============================] - 33s 10ms/step\n",
      "3376/3376 [==============================] - 34s 10ms/step\n",
      "3368/3368 [==============================] - 33s 10ms/step\n",
      "3373/3373 [==============================] - 33s 10ms/step\n",
      "X_train_for_lgbm2 done \n",
      "3418/3418 [==============================] - 35s 10ms/step\n",
      "3929/3929 [==============================] - 39s 10ms/step\n",
      "|   iter    |  target   | baggin... | featur... | max_depth | num_le... |\n",
      "-------------------------------------------------------------------------\n",
      "| \u001b[0m 1       \u001b[0m | \u001b[0m 0.7629  \u001b[0m | \u001b[0m 0.8749  \u001b[0m | \u001b[0m 0.7655  \u001b[0m | \u001b[0m 10.59   \u001b[0m | \u001b[0m 36.57   \u001b[0m |\n",
      "| \u001b[95m 2       \u001b[0m | \u001b[95m 0.7641  \u001b[0m | \u001b[95m 0.8312  \u001b[0m | \u001b[95m 0.2092  \u001b[0m | \u001b[95m 4.523   \u001b[0m | \u001b[95m 42.19   \u001b[0m |\n",
      "| \u001b[0m 3       \u001b[0m | \u001b[0m 0.7594  \u001b[0m | \u001b[0m 0.9202  \u001b[0m | \u001b[0m 0.5957  \u001b[0m | \u001b[0m 4.185   \u001b[0m | \u001b[0m 44.37   \u001b[0m |\n",
      "| \u001b[95m 4       \u001b[0m | \u001b[95m 0.7671  \u001b[0m | \u001b[95m 0.9665  \u001b[0m | \u001b[95m 0.2486  \u001b[0m | \u001b[95m 5.636   \u001b[0m | \u001b[95m 27.85   \u001b[0m |\n",
      "| \u001b[0m 5       \u001b[0m | \u001b[0m 0.766   \u001b[0m | \u001b[0m 0.8608  \u001b[0m | \u001b[0m 0.4673  \u001b[0m | \u001b[0m 7.888   \u001b[0m | \u001b[0m 30.12   \u001b[0m |\n",
      "| \u001b[0m 6       \u001b[0m | \u001b[0m 0.7663  \u001b[0m | \u001b[0m 0.9382  \u001b[0m | \u001b[0m 0.2901  \u001b[0m | \u001b[0m 5.715   \u001b[0m | \u001b[0m 27.88   \u001b[0m |\n",
      "| \u001b[0m 7       \u001b[0m | \u001b[0m 0.7662  \u001b[0m | \u001b[0m 0.8908  \u001b[0m | \u001b[0m 0.4476  \u001b[0m | \u001b[0m 7.918   \u001b[0m | \u001b[0m 30.16   \u001b[0m |\n",
      "| \u001b[0m 8       \u001b[0m | \u001b[0m 0.7668  \u001b[0m | \u001b[0m 0.982   \u001b[0m | \u001b[0m 0.235   \u001b[0m | \u001b[0m 5.151   \u001b[0m | \u001b[0m 27.38   \u001b[0m |\n",
      "| \u001b[0m 9       \u001b[0m | \u001b[0m 0.7629  \u001b[0m | \u001b[0m 0.8864  \u001b[0m | \u001b[0m 0.2846  \u001b[0m | \u001b[0m 4.982   \u001b[0m | \u001b[0m 28.07   \u001b[0m |\n",
      "| \u001b[0m 10      \u001b[0m | \u001b[0m 0.7658  \u001b[0m | \u001b[0m 0.9585  \u001b[0m | \u001b[0m 0.3894  \u001b[0m | \u001b[0m 5.625   \u001b[0m | \u001b[0m 27.26   \u001b[0m |\n",
      "=========================================================================\n",
      "{'bagging_fraction': 0.9664885281600843, 'feature_fraction': 0.24863737747479334, 'max_depth': 5.636424704863906, 'num_leaves': 27.85149470692211}\n",
      "bagging_fraction 0.9664885281600843\n",
      "feature_fraction 0.24863737747479334\n",
      "max_depth 5.636424704863906\n",
      "num_leaves 27.85149470692211\n",
      "\n",
      "================new params==================\n",
      "{'boosting_type': 'gbdt', 'objective': 'binary', 'metric': 'auc', 'learning_rate': 0.01, 'n_jobs': 8, 'seed': 15, 'max_depth': 6, 'verbose': -1, 'num_leaves': 28, 'feature_fraction': 0.24863737747479334, 'bagging_fraction': 0.9664885281600843}\n",
      "Training until validation scores don't improve for 300 rounds\n",
      "[100]\ttraining's auc: 0.796089\tvalid_1's auc: 0.77068\n",
      "[200]\ttraining's auc: 0.801962\tvalid_1's auc: 0.775094\n",
      "[300]\ttraining's auc: 0.805968\tvalid_1's auc: 0.77795\n",
      "[400]\ttraining's auc: 0.809195\tvalid_1's auc: 0.779975\n",
      "[500]\ttraining's auc: 0.811695\tvalid_1's auc: 0.781314\n",
      "[600]\ttraining's auc: 0.813727\tvalid_1's auc: 0.782222\n",
      "[700]\ttraining's auc: 0.815501\tvalid_1's auc: 0.782861\n",
      "[800]\ttraining's auc: 0.817099\tvalid_1's auc: 0.783332\n",
      "[900]\ttraining's auc: 0.818551\tvalid_1's auc: 0.783746\n",
      "[1000]\ttraining's auc: 0.819857\tvalid_1's auc: 0.784035\n",
      "[1100]\ttraining's auc: 0.821096\tvalid_1's auc: 0.784273\n",
      "[1200]\ttraining's auc: 0.822252\tvalid_1's auc: 0.784452\n",
      "[1300]\ttraining's auc: 0.823318\tvalid_1's auc: 0.784621\n",
      "[1400]\ttraining's auc: 0.824346\tvalid_1's auc: 0.784744\n",
      "[1500]\ttraining's auc: 0.825334\tvalid_1's auc: 0.784854\n",
      "[1600]\ttraining's auc: 0.826245\tvalid_1's auc: 0.784942\n",
      "[1700]\ttraining's auc: 0.827137\tvalid_1's auc: 0.785003\n",
      "[1800]\ttraining's auc: 0.828003\tvalid_1's auc: 0.785058\n",
      "[1900]\ttraining's auc: 0.828884\tvalid_1's auc: 0.785138\n",
      "[2000]\ttraining's auc: 0.829721\tvalid_1's auc: 0.785171\n",
      "[2100]\ttraining's auc: 0.830532\tvalid_1's auc: 0.785223\n",
      "[2200]\ttraining's auc: 0.831361\tvalid_1's auc: 0.785233\n",
      "[2300]\ttraining's auc: 0.832138\tvalid_1's auc: 0.785278\n",
      "[2400]\ttraining's auc: 0.832917\tvalid_1's auc: 0.785306\n",
      "[2500]\ttraining's auc: 0.83369\tvalid_1's auc: 0.78534\n",
      "[2600]\ttraining's auc: 0.834421\tvalid_1's auc: 0.78535\n",
      "[2700]\ttraining's auc: 0.835158\tvalid_1's auc: 0.785356\n",
      "[2800]\ttraining's auc: 0.835884\tvalid_1's auc: 0.78535\n",
      "[2900]\ttraining's auc: 0.836628\tvalid_1's auc: 0.785358\n",
      "[3000]\ttraining's auc: 0.837369\tvalid_1's auc: 0.785365\n",
      "[3100]\ttraining's auc: 0.838083\tvalid_1's auc: 0.785365\n",
      "[3200]\ttraining's auc: 0.838831\tvalid_1's auc: 0.785368\n",
      "[3300]\ttraining's auc: 0.839551\tvalid_1's auc: 0.785362\n",
      "Early stopping, best iteration is:\n",
      "[3054]\ttraining's auc: 0.837767\tvalid_1's auc: 0.785377\n",
      "roc_auc_score: 0.785377108241579\n",
      "lgb pass ==========================================\n",
      "\n",
      "dataset_y.shape (428571,)\n",
      "Fold lgbm auc scor: 0.785377108241579\n",
      "Final split level: 0.0333905167893069\n",
      "\n",
      "val_y.shape (428571,)\n",
      "y_val_lstm_st2.shape, y_test_lstm_st2.shape (428571,) (500000,)\n",
      "sum_lstm_st1_lstm_st2_net_st1_net_st2_ 0.7888249825783511\n",
      "{'mul_lstm_st1_lstm_st2_net_st1_net_st2_': 0.7887970102494497, 'sum_lstm_st1_lstm_st2_net_st1_net_st2_': 0.7888249825783511, 'mul_lstm_st1_lstm_st2_net_st1_': 0.7884685811838039, 'sum_lstm_st1_lstm_st2_net_st1_': 0.7884666385386494, 'mul_lstm_st1_lstm_st2_net_st2_': 0.788512964956325, 'sum_lstm_st1_lstm_st2_net_st2_': 0.788556011224026, 'mul_lstm_st1_net_st1_net_st2_': 0.7883510590936379, 'sum_lstm_st1_net_st1_net_st2_': 0.7883755312644237, 'mul_lstm_st2_net_st1_net_st2_': 0.7879878336724423, 'sum_lstm_st2_net_st1_net_st2_': 0.78801845852266, 'mul_lstm_st1_lstm_st2_': 0.7886768611142496, 'sum_lstm_st1_lstm_st2_': 0.7887215896028864, 'mul_lstm_st1_net_st1_': 0.7860729565648148, 'sum_lstm_st1_net_st1_': 0.7860618890072955, 'mul_lstm_st1_net_st2_': 0.7884474179417558, 'sum_lstm_st1_net_st2_': 0.7884519267719367, 'mul_lstm_st2_net_st1_': 0.7876571057654731, 'sum_lstm_st2_net_st1_': 0.7876377051047325, 'mul_lstm_st2_net_st2_': 0.7861034244685529, 'sum_lstm_st2_net_st2_': 0.7860927613863299, 'mul_net_st1_net_st2_': 0.7874081019191694, 'sum_net_st1_net_st2_': 0.7873825002212388, 'lstm_st1': 0.7864916097269006, 'lstm_st2': 0.785377108241579, 'net_st1': 0.7818442318958214, 'net_st2': 0.7843490729437999}\n",
      "\n"
     ]
    },
    {
     "name": "stdout",
     "output_type": "stream",
     "text": [
      "Fold: 6 pass. Time 17798.172694206238 sec.\n",
      "=======================================================================================================\n",
      "\n",
      "\n",
      "3417/3417 [==============================] - 48s 14ms/step\n",
      "3929/3929 [==============================] - 46s 12ms/step\n",
      "dataset_y.shape (428571,)\n",
      "y_val_net_st1.shape, y_test_net_st1.shape (428571,) (500000,)\n",
      "\n",
      "Fold net auc scor : 0.7826120792708716\n",
      "6720/6720 [==============================] - 65s 10ms/step\n",
      "6716/6716 [==============================] - 66s 10ms/step\n",
      "6719/6719 [==============================] - 66s 10ms/step\n",
      "X_train_for_lgbm shapes ===>  (2571429, 512) (857256, 512) (856691, 512) (857482, 512)\n",
      "3417/3417 [==============================] - 34s 10ms/step\n",
      "3929/3929 [==============================] - 39s 10ms/step\n",
      "|   iter    |  target   | baggin... | featur... | max_depth | num_le... |\n",
      "-------------------------------------------------------------------------\n",
      "| \u001b[0m 1       \u001b[0m | \u001b[0m 0.7669  \u001b[0m | \u001b[0m 0.8749  \u001b[0m | \u001b[0m 0.7655  \u001b[0m | \u001b[0m 10.59   \u001b[0m | \u001b[0m 36.57   \u001b[0m |\n",
      "| \u001b[0m 2       \u001b[0m | \u001b[0m 0.7664  \u001b[0m | \u001b[0m 0.8312  \u001b[0m | \u001b[0m 0.2092  \u001b[0m | \u001b[0m 4.523   \u001b[0m | \u001b[0m 42.19   \u001b[0m |\n",
      "| \u001b[0m 3       \u001b[0m | \u001b[0m 0.7629  \u001b[0m | \u001b[0m 0.9202  \u001b[0m | \u001b[0m 0.5957  \u001b[0m | \u001b[0m 4.185   \u001b[0m | \u001b[0m 44.37   \u001b[0m |\n",
      "| \u001b[95m 4       \u001b[0m | \u001b[95m 0.7693  \u001b[0m | \u001b[95m 0.9665  \u001b[0m | \u001b[95m 0.2486  \u001b[0m | \u001b[95m 5.636   \u001b[0m | \u001b[95m 27.85   \u001b[0m |\n",
      "| \u001b[0m 5       \u001b[0m | \u001b[0m 0.7685  \u001b[0m | \u001b[0m 0.8608  \u001b[0m | \u001b[0m 0.4673  \u001b[0m | \u001b[0m 7.888   \u001b[0m | \u001b[0m 30.12   \u001b[0m |\n",
      "| \u001b[95m 6       \u001b[0m | \u001b[95m 0.7696  \u001b[0m | \u001b[95m 0.9733  \u001b[0m | \u001b[95m 0.2293  \u001b[0m | \u001b[95m 5.351   \u001b[0m | \u001b[95m 29.91   \u001b[0m |\n",
      "| \u001b[0m 7       \u001b[0m | \u001b[0m 0.7672  \u001b[0m | \u001b[0m 0.8526  \u001b[0m | \u001b[0m 0.1623  \u001b[0m | \u001b[0m 4.01    \u001b[0m | \u001b[0m 33.2    \u001b[0m |\n",
      "| \u001b[95m 8       \u001b[0m | \u001b[95m 0.77    \u001b[0m | \u001b[95m 1.0     \u001b[0m | \u001b[95m 0.1     \u001b[0m | \u001b[95m 8.744   \u001b[0m | \u001b[95m 25.99   \u001b[0m |\n",
      "| \u001b[0m 9       \u001b[0m | \u001b[0m 0.7649  \u001b[0m | \u001b[0m 0.9857  \u001b[0m | \u001b[0m 0.6789  \u001b[0m | \u001b[0m 6.646   \u001b[0m | \u001b[0m 24.0    \u001b[0m |\n",
      "| \u001b[95m 10      \u001b[0m | \u001b[95m 0.7703  \u001b[0m | \u001b[95m 1.0     \u001b[0m | \u001b[95m 0.1     \u001b[0m | \u001b[95m 8.2     \u001b[0m | \u001b[95m 27.71   \u001b[0m |\n",
      "=========================================================================\n",
      "{'bagging_fraction': 1.0, 'feature_fraction': 0.1, 'max_depth': 8.200370363637154, 'num_leaves': 27.70814841386793}\n",
      "bagging_fraction 1.0\n",
      "feature_fraction 0.1\n",
      "max_depth 8.200370363637154\n",
      "num_leaves 27.70814841386793\n",
      "\n",
      "================new params==================\n",
      "{'boosting_type': 'gbdt', 'objective': 'binary', 'metric': 'auc', 'learning_rate': 0.01, 'n_jobs': 8, 'seed': 15, 'max_depth': 8, 'verbose': -1, 'num_leaves': 28, 'feature_fraction': 0.1, 'bagging_fraction': 1.0}\n",
      "Training until validation scores don't improve for 300 rounds\n",
      "[100]\ttraining's auc: 0.782156\tvalid_1's auc: 0.77354\n",
      "[200]\ttraining's auc: 0.786119\tvalid_1's auc: 0.776577\n",
      "[300]\ttraining's auc: 0.789465\tvalid_1's auc: 0.7788\n",
      "[400]\ttraining's auc: 0.792212\tvalid_1's auc: 0.780449\n",
      "[500]\ttraining's auc: 0.794534\tvalid_1's auc: 0.781678\n",
      "[600]\ttraining's auc: 0.79645\tvalid_1's auc: 0.782468\n",
      "[700]\ttraining's auc: 0.798193\tvalid_1's auc: 0.783119\n",
      "[800]\ttraining's auc: 0.799718\tvalid_1's auc: 0.783598\n",
      "[900]\ttraining's auc: 0.801163\tvalid_1's auc: 0.783952\n",
      "[1000]\ttraining's auc: 0.802477\tvalid_1's auc: 0.784266\n",
      "[1100]\ttraining's auc: 0.803704\tvalid_1's auc: 0.784479\n",
      "[1200]\ttraining's auc: 0.804866\tvalid_1's auc: 0.784665\n",
      "[1300]\ttraining's auc: 0.805963\tvalid_1's auc: 0.784795\n",
      "[1400]\ttraining's auc: 0.807058\tvalid_1's auc: 0.784898\n",
      "[1500]\ttraining's auc: 0.808135\tvalid_1's auc: 0.784991\n",
      "[1600]\ttraining's auc: 0.8091\tvalid_1's auc: 0.785075\n",
      "[1700]\ttraining's auc: 0.810126\tvalid_1's auc: 0.785154\n",
      "[1800]\ttraining's auc: 0.811103\tvalid_1's auc: 0.7852\n",
      "[1900]\ttraining's auc: 0.812049\tvalid_1's auc: 0.785267\n",
      "[2000]\ttraining's auc: 0.812966\tvalid_1's auc: 0.785319\n",
      "[2100]\ttraining's auc: 0.813931\tvalid_1's auc: 0.785363\n",
      "[2200]\ttraining's auc: 0.814841\tvalid_1's auc: 0.785397\n",
      "[2300]\ttraining's auc: 0.815773\tvalid_1's auc: 0.785432\n",
      "[2400]\ttraining's auc: 0.816679\tvalid_1's auc: 0.785483\n",
      "[2500]\ttraining's auc: 0.817616\tvalid_1's auc: 0.785504\n",
      "[2600]\ttraining's auc: 0.818558\tvalid_1's auc: 0.785547\n",
      "[2700]\ttraining's auc: 0.819443\tvalid_1's auc: 0.78558\n",
      "[2800]\ttraining's auc: 0.820366\tvalid_1's auc: 0.785601\n",
      "[2900]\ttraining's auc: 0.821231\tvalid_1's auc: 0.785628\n",
      "[3000]\ttraining's auc: 0.822151\tvalid_1's auc: 0.785636\n",
      "[3100]\ttraining's auc: 0.823018\tvalid_1's auc: 0.785674\n",
      "[3200]\ttraining's auc: 0.823861\tvalid_1's auc: 0.785666\n",
      "[3300]\ttraining's auc: 0.824718\tvalid_1's auc: 0.785684\n",
      "[3400]\ttraining's auc: 0.825555\tvalid_1's auc: 0.785721\n",
      "[3500]\ttraining's auc: 0.826408\tvalid_1's auc: 0.78573\n",
      "[3600]\ttraining's auc: 0.827219\tvalid_1's auc: 0.785736\n",
      "[3700]\ttraining's auc: 0.828069\tvalid_1's auc: 0.785759\n",
      "[3800]\ttraining's auc: 0.828884\tvalid_1's auc: 0.785776\n",
      "[3900]\ttraining's auc: 0.829689\tvalid_1's auc: 0.78581\n",
      "[4000]\ttraining's auc: 0.830498\tvalid_1's auc: 0.785823\n",
      "[4100]\ttraining's auc: 0.831272\tvalid_1's auc: 0.785816\n",
      "[4200]\ttraining's auc: 0.832116\tvalid_1's auc: 0.785812\n",
      "Early stopping, best iteration is:\n",
      "[3995]\ttraining's auc: 0.830466\tvalid_1's auc: 0.785826\n",
      "roc_auc_score: 0.7858264661372864\n",
      "lgb pass ==========================================\n",
      "\n",
      "dataset_y.shape (428571,)\n",
      "Fold lgbm auc scor: 0.7858264661372864\n",
      "Final split level: 0.030694919224203164\n",
      "\n",
      "val_y.shape (428571,)\n",
      "y_val_lstm_st1.shape, y_test_lstm_st1.shape (428571,) (500000,)\n",
      "482260 17740 500000\n",
      "101274 3725\n"
     ]
    },
    {
     "data": {
      "application/vnd.jupyter.widget-view+json": {
       "model_id": "0fce5913416948508408dc5784c3399c",
       "version_major": 2,
       "version_minor": 0
      },
      "text/plain": [
       "Preparing credit data:   0%|          | 0/7 [00:00<?, ?it/s]"
      ]
     },
     "metadata": {},
     "output_type": "display_data"
    },
    {
     "name": "stdout",
     "output_type": "stream",
     "text": [
      "Reading chunks:\n",
      "../data/7Folds/mod_data/train_data_0.pq\n",
      "../data/7Folds/mod_data/train_data_1.pq\n"
     ]
    },
    {
     "data": {
      "application/vnd.jupyter.widget-view+json": {
       "model_id": "e9663229e6a347a58cb450c639a528f0",
       "version_major": 2,
       "version_minor": 0
      },
      "text/plain": [
       "Reading dataset with pandas:   0%|          | 0/2 [00:00<?, ?it/s]"
      ]
     },
     "metadata": {},
     "output_type": "display_data"
    },
    {
     "name": "stdout",
     "output_type": "stream",
     "text": [
      "WARNING:tensorflow:Detecting that an object or model or tf.train.Checkpoint is being deleted with unrestored values. See the following logs for the specific values in question. To silence these warnings, use `status.expect_partial()`. See https://www.tensorflow.org/api_docs/python/tf/train/Checkpoint#restorefor details about the status object returned by the restore function.\n",
      "WARNING:tensorflow:Value in checkpoint could not be found in the restored object: (root).optimizer.iter\n",
      "WARNING:tensorflow:Value in checkpoint could not be found in the restored object: (root).optimizer.beta_1\n",
      "WARNING:tensorflow:Value in checkpoint could not be found in the restored object: (root).optimizer.beta_2\n",
      "WARNING:tensorflow:Value in checkpoint could not be found in the restored object: (root).optimizer.decay\n",
      "WARNING:tensorflow:Value in checkpoint could not be found in the restored object: (root).optimizer.learning_rate\n",
      "Transforming credits to sequences is done.\n"
     ]
    },
    {
     "data": {
      "application/vnd.jupyter.widget-view+json": {
       "model_id": "4ef9e3df183847e3adfd4a5cda99e434",
       "version_major": 2,
       "version_minor": 0
      },
      "text/plain": [
       "Extracting buckets:   0%|          | 0/43 [00:00<?, ?it/s]"
      ]
     },
     "metadata": {},
     "output_type": "display_data"
    },
    {
     "name": "stdout",
     "output_type": "stream",
     "text": [
      "Reading chunks:\n",
      "../data/7Folds/mod_data/train_data_2.pq\n",
      "../data/7Folds/mod_data/train_data_3.pq\n"
     ]
    },
    {
     "data": {
      "application/vnd.jupyter.widget-view+json": {
       "model_id": "feec98e8eee8464a9de6a3f82ad51965",
       "version_major": 2,
       "version_minor": 0
      },
      "text/plain": [
       "Reading dataset with pandas:   0%|          | 0/2 [00:00<?, ?it/s]"
      ]
     },
     "metadata": {},
     "output_type": "display_data"
    },
    {
     "name": "stdout",
     "output_type": "stream",
     "text": [
      "Transforming credits to sequences is done.\n"
     ]
    },
    {
     "data": {
      "application/vnd.jupyter.widget-view+json": {
       "model_id": "2f182417bf844427bd3a27d4dfffda01",
       "version_major": 2,
       "version_minor": 0
      },
      "text/plain": [
       "Extracting buckets:   0%|          | 0/43 [00:00<?, ?it/s]"
      ]
     },
     "metadata": {},
     "output_type": "display_data"
    },
    {
     "name": "stdout",
     "output_type": "stream",
     "text": [
      "Reading chunks:\n",
      "../data/7Folds/mod_data/train_data_4.pq\n",
      "../data/7Folds/mod_data/train_data_5.pq\n"
     ]
    },
    {
     "data": {
      "application/vnd.jupyter.widget-view+json": {
       "model_id": "26c8116f39d3475fa96001f5cad647e8",
       "version_major": 2,
       "version_minor": 0
      },
      "text/plain": [
       "Reading dataset with pandas:   0%|          | 0/2 [00:00<?, ?it/s]"
      ]
     },
     "metadata": {},
     "output_type": "display_data"
    },
    {
     "name": "stdout",
     "output_type": "stream",
     "text": [
      "Transforming credits to sequences is done.\n"
     ]
    },
    {
     "data": {
      "application/vnd.jupyter.widget-view+json": {
       "model_id": "80798cfb5976401c852049d29cf9ea2a",
       "version_major": 2,
       "version_minor": 0
      },
      "text/plain": [
       "Extracting buckets:   0%|          | 0/42 [00:00<?, ?it/s]"
      ]
     },
     "metadata": {},
     "output_type": "display_data"
    },
    {
     "name": "stdout",
     "output_type": "stream",
     "text": [
      "Reading chunks:\n",
      "../data/7Folds/mod_data/train_data_6.pq\n",
      "../data/7Folds/mod_data/train_data_7.pq\n"
     ]
    },
    {
     "data": {
      "application/vnd.jupyter.widget-view+json": {
       "model_id": "dbf41bd289124dcd8a860a9dac54fda4",
       "version_major": 2,
       "version_minor": 0
      },
      "text/plain": [
       "Reading dataset with pandas:   0%|          | 0/2 [00:00<?, ?it/s]"
      ]
     },
     "metadata": {},
     "output_type": "display_data"
    },
    {
     "name": "stdout",
     "output_type": "stream",
     "text": [
      "Transforming credits to sequences is done.\n"
     ]
    },
    {
     "data": {
      "application/vnd.jupyter.widget-view+json": {
       "model_id": "b55ed2613ba94018b440666771cfbd3e",
       "version_major": 2,
       "version_minor": 0
      },
      "text/plain": [
       "Extracting buckets:   0%|          | 0/43 [00:00<?, ?it/s]"
      ]
     },
     "metadata": {},
     "output_type": "display_data"
    },
    {
     "name": "stdout",
     "output_type": "stream",
     "text": [
      "Reading chunks:\n",
      "../data/7Folds/mod_data/train_data_8.pq\n",
      "../data/7Folds/mod_data/train_data_9.pq\n"
     ]
    },
    {
     "data": {
      "application/vnd.jupyter.widget-view+json": {
       "model_id": "9f4f839b87d24317b257d82b49301243",
       "version_major": 2,
       "version_minor": 0
      },
      "text/plain": [
       "Reading dataset with pandas:   0%|          | 0/2 [00:00<?, ?it/s]"
      ]
     },
     "metadata": {},
     "output_type": "display_data"
    },
    {
     "name": "stdout",
     "output_type": "stream",
     "text": [
      "Transforming credits to sequences is done.\n"
     ]
    },
    {
     "data": {
      "application/vnd.jupyter.widget-view+json": {
       "model_id": "7e5c9d0f43e4489494b9d68df50bc954",
       "version_major": 2,
       "version_minor": 0
      },
      "text/plain": [
       "Extracting buckets:   0%|          | 0/42 [00:00<?, ?it/s]"
      ]
     },
     "metadata": {},
     "output_type": "display_data"
    },
    {
     "name": "stdout",
     "output_type": "stream",
     "text": [
      "Reading chunks:\n",
      "../data/7Folds/mod_data/train_data_10.pq\n",
      "../data/7Folds/mod_data/train_data_11.pq\n"
     ]
    },
    {
     "data": {
      "application/vnd.jupyter.widget-view+json": {
       "model_id": "f416bb1309f94b948f253309ee0120af",
       "version_major": 2,
       "version_minor": 0
      },
      "text/plain": [
       "Reading dataset with pandas:   0%|          | 0/2 [00:00<?, ?it/s]"
      ]
     },
     "metadata": {},
     "output_type": "display_data"
    },
    {
     "name": "stdout",
     "output_type": "stream",
     "text": [
      "Transforming credits to sequences is done.\n"
     ]
    },
    {
     "data": {
      "application/vnd.jupyter.widget-view+json": {
       "model_id": "7c0071fd7ecd46c79fc1fa914c4702fb",
       "version_major": 2,
       "version_minor": 0
      },
      "text/plain": [
       "Extracting buckets:   0%|          | 0/42 [00:00<?, ?it/s]"
      ]
     },
     "metadata": {},
     "output_type": "display_data"
    },
    {
     "name": "stdout",
     "output_type": "stream",
     "text": [
      "Reading chunks:\n",
      "../data/7Folds/mod_data/train_data_12.pq\n",
      "../data/7Folds/mod_data/train_data_13.pq\n"
     ]
    },
    {
     "data": {
      "application/vnd.jupyter.widget-view+json": {
       "model_id": "7873ee0b1bfe473eaf9bd2117e702a3f",
       "version_major": 2,
       "version_minor": 0
      },
      "text/plain": [
       "Reading dataset with pandas:   0%|          | 0/2 [00:00<?, ?it/s]"
      ]
     },
     "metadata": {},
     "output_type": "display_data"
    },
    {
     "name": "stdout",
     "output_type": "stream",
     "text": [
      "Transforming credits to sequences is done.\n"
     ]
    },
    {
     "data": {
      "application/vnd.jupyter.widget-view+json": {
       "model_id": "6150f813c9e14a7487fdd5910a4826e0",
       "version_major": 2,
       "version_minor": 0
      },
      "text/plain": [
       "Extracting buckets:   0%|          | 0/38 [00:00<?, ?it/s]"
      ]
     },
     "metadata": {},
     "output_type": "display_data"
    },
    {
     "name": "stdout",
     "output_type": "stream",
     "text": [
      "Starting epoch 1\n",
      "20089/20089 [==============================] - 1426s 71ms/step - loss: 0.1314\n",
      "3417/3417 [==============================] - 48s 14ms/step\n",
      "Validation ROC-AUC improved (-inf --> 0.773308).  Saving model...\n",
      "Epoch 1 completed. Train2 ROC AUC: Now is not estimated, val ROC AUC: 0.7733080500430407\n",
      "Starting epoch 2\n",
      "Epoch 2/2\n",
      "20089/20089 [==============================] - 1383s 69ms/step - loss: 0.1296\n",
      "3417/3417 [==============================] - 40s 12ms/step\n",
      "Validation ROC-AUC improved (0.773308 --> 0.774472).  Saving model...\n",
      "Epoch 2 completed. Train2 ROC AUC: Now is not estimated, val ROC AUC: 0.7744719121915995\n",
      "Starting epoch 3\n",
      "Epoch 3/3\n",
      "20089/20089 [==============================] - 1385s 69ms/step - loss: 0.1289\n",
      "3417/3417 [==============================] - 40s 12ms/step\n",
      "Validation ROC-AUC improved (0.774472 --> 0.778180).  Saving model...\n",
      "Epoch 3 completed. Train2 ROC AUC: Now is not estimated, val ROC AUC: 0.7781800848709752\n",
      "Starting epoch 4\n",
      "Epoch 4/4\n",
      "20089/20089 [==============================] - 1422s 71ms/step - loss: 0.1326\n",
      "3417/3417 [==============================] - 40s 12ms/step\n",
      "No imporvement in validation ROC-AUC. Current: 0.773953. Current best: 0.778180\n",
      "EarlyStopping counter: 1 out of 3\n",
      "Epoch 4 completed. Train2 ROC AUC: Now is not estimated, val ROC AUC: 0.7739533238585095\n",
      "Starting epoch 5\n",
      "Epoch 5/5\n",
      "20089/20089 [==============================] - 1396s 69ms/step - loss: 0.1311\n",
      "3417/3417 [==============================] - 40s 12ms/step\n",
      "Validation ROC-AUC improved (0.778180 --> 0.779567).  Saving model...\n",
      "Epoch 5 completed. Train2 ROC AUC: Now is not estimated, val ROC AUC: 0.7795668066513302\n",
      "Starting epoch 6\n",
      "Epoch 6/6\n",
      "20089/20089 [==============================] - 1395s 69ms/step - loss: 0.1236\n",
      "3417/3417 [==============================] - 39s 12ms/step\n",
      "No imporvement in validation ROC-AUC. Current: 0.774195. Current best: 0.779567\n",
      "EarlyStopping counter: 1 out of 3\n",
      "Epoch 6 completed. Train2 ROC AUC: Now is not estimated, val ROC AUC: 0.7741945446921202\n",
      "Starting epoch 7\n",
      "Epoch 7/7\n",
      "20089/20089 [==============================] - 1411s 70ms/step - loss: 0.1228\n",
      "3417/3417 [==============================] - 41s 12ms/step\n",
      "No imporvement in validation ROC-AUC. Current: 0.769896. Current best: 0.779567\n",
      "EarlyStopping counter: 2 out of 3\n",
      "Epoch 7 completed. Train2 ROC AUC: Now is not estimated, val ROC AUC: 0.7698958169341537\n",
      "Starting epoch 8\n",
      "Epoch 8/8\n",
      "20089/20089 [==============================] - 1397s 70ms/step - loss: 0.1198\n",
      "3417/3417 [==============================] - 40s 12ms/step\n",
      "No imporvement in validation ROC-AUC. Current: 0.758930. Current best: 0.779567\n",
      "EarlyStopping counter: 3 out of 3\n",
      "Early stopping reached. Stop training...\n",
      "3417/3417 [==============================] - 40s 12ms/step\n",
      "3929/3929 [==============================] - 45s 12ms/step\n",
      "dataset_y.shape (428571,)\n",
      "y_val_net_st2.shape, y_test_net_st2.shape (428571,) (500000,)\n",
      "\n",
      "Fold net2 auc scor : 0.7795668066513302\n",
      "3374/3374 [==============================] - 35s 10ms/step\n",
      "3369/3369 [==============================] - 34s 10ms/step\n",
      "843/843 [==============================] - 9s 10ms/step\n",
      "3370/3370 [==============================] - 35s 10ms/step\n",
      "3372/3372 [==============================] - 35s 10ms/step\n",
      "3374/3374 [==============================] - 35s 10ms/step\n",
      "3374/3374 [==============================] - 35s 10ms/step\n",
      "X_train_for_lgbm2 done \n",
      "3417/3417 [==============================] - 36s 11ms/step\n",
      "3929/3929 [==============================] - 41s 10ms/step\n",
      "|   iter    |  target   | baggin... | featur... | max_depth | num_le... |\n",
      "-------------------------------------------------------------------------\n",
      "| \u001b[0m 1       \u001b[0m | \u001b[0m 0.7635  \u001b[0m | \u001b[0m 0.8749  \u001b[0m | \u001b[0m 0.7655  \u001b[0m | \u001b[0m 10.59   \u001b[0m | \u001b[0m 36.57   \u001b[0m |\n",
      "| \u001b[95m 2       \u001b[0m | \u001b[95m 0.7643  \u001b[0m | \u001b[95m 0.8312  \u001b[0m | \u001b[95m 0.2092  \u001b[0m | \u001b[95m 4.523   \u001b[0m | \u001b[95m 42.19   \u001b[0m |\n",
      "| \u001b[0m 3       \u001b[0m | \u001b[0m 0.7603  \u001b[0m | \u001b[0m 0.9202  \u001b[0m | \u001b[0m 0.5957  \u001b[0m | \u001b[0m 4.185   \u001b[0m | \u001b[0m 44.37   \u001b[0m |\n",
      "| \u001b[95m 4       \u001b[0m | \u001b[95m 0.7671  \u001b[0m | \u001b[95m 0.9665  \u001b[0m | \u001b[95m 0.2486  \u001b[0m | \u001b[95m 5.636   \u001b[0m | \u001b[95m 27.85   \u001b[0m |\n",
      "| \u001b[0m 5       \u001b[0m | \u001b[0m 0.7658  \u001b[0m | \u001b[0m 0.8608  \u001b[0m | \u001b[0m 0.4673  \u001b[0m | \u001b[0m 7.888   \u001b[0m | \u001b[0m 30.12   \u001b[0m |\n",
      "| \u001b[0m 6       \u001b[0m | \u001b[0m 0.7669  \u001b[0m | \u001b[0m 0.9382  \u001b[0m | \u001b[0m 0.2901  \u001b[0m | \u001b[0m 5.715   \u001b[0m | \u001b[0m 27.88   \u001b[0m |\n",
      "| \u001b[0m 7       \u001b[0m | \u001b[0m 0.7658  \u001b[0m | \u001b[0m 1.0     \u001b[0m | \u001b[0m 0.1     \u001b[0m | \u001b[0m 4.362   \u001b[0m | \u001b[0m 27.51   \u001b[0m |\n",
      "| \u001b[95m 8       \u001b[0m | \u001b[95m 0.7679  \u001b[0m | \u001b[95m 0.976   \u001b[0m | \u001b[95m 0.1271  \u001b[0m | \u001b[95m 5.724   \u001b[0m | \u001b[95m 26.56   \u001b[0m |\n",
      "| \u001b[0m 9       \u001b[0m | \u001b[0m 0.7654  \u001b[0m | \u001b[0m 0.9553  \u001b[0m | \u001b[0m 0.4142  \u001b[0m | \u001b[0m 5.566   \u001b[0m | \u001b[0m 25.08   \u001b[0m |\n",
      "| \u001b[95m 10      \u001b[0m | \u001b[95m 0.7687  \u001b[0m | \u001b[95m 1.0     \u001b[0m | \u001b[95m 0.1     \u001b[0m | \u001b[95m 7.122   \u001b[0m | \u001b[95m 26.37   \u001b[0m |\n",
      "=========================================================================\n",
      "{'bagging_fraction': 1.0, 'feature_fraction': 0.1, 'max_depth': 7.1224796577431775, 'num_leaves': 26.367281458854833}\n",
      "bagging_fraction 1.0\n",
      "feature_fraction 0.1\n",
      "max_depth 7.1224796577431775\n",
      "num_leaves 26.367281458854833\n",
      "\n",
      "================new params==================\n",
      "{'boosting_type': 'gbdt', 'objective': 'binary', 'metric': 'auc', 'learning_rate': 0.01, 'n_jobs': 8, 'seed': 15, 'max_depth': 7, 'verbose': -1, 'num_leaves': 26, 'feature_fraction': 0.1, 'bagging_fraction': 1.0}\n",
      "Training until validation scores don't improve for 300 rounds\n",
      "[100]\ttraining's auc: 0.795902\tvalid_1's auc: 0.771336\n",
      "[200]\ttraining's auc: 0.800928\tvalid_1's auc: 0.775074\n",
      "[300]\ttraining's auc: 0.804557\tvalid_1's auc: 0.777463\n",
      "[400]\ttraining's auc: 0.807612\tvalid_1's auc: 0.779297\n",
      "[500]\ttraining's auc: 0.810091\tvalid_1's auc: 0.780588\n",
      "[600]\ttraining's auc: 0.812259\tvalid_1's auc: 0.781636\n",
      "[700]\ttraining's auc: 0.814111\tvalid_1's auc: 0.782378\n",
      "[800]\ttraining's auc: 0.815725\tvalid_1's auc: 0.782914\n",
      "[900]\ttraining's auc: 0.817128\tvalid_1's auc: 0.783289\n",
      "[1000]\ttraining's auc: 0.8184\tvalid_1's auc: 0.783597\n",
      "[1100]\ttraining's auc: 0.819559\tvalid_1's auc: 0.783823\n",
      "[1200]\ttraining's auc: 0.820644\tvalid_1's auc: 0.783992\n",
      "[1300]\ttraining's auc: 0.821674\tvalid_1's auc: 0.784133\n",
      "[1400]\ttraining's auc: 0.82263\tvalid_1's auc: 0.784217\n",
      "[1500]\ttraining's auc: 0.823535\tvalid_1's auc: 0.784274\n",
      "[1600]\ttraining's auc: 0.824397\tvalid_1's auc: 0.78434\n",
      "[1700]\ttraining's auc: 0.82523\tvalid_1's auc: 0.784385\n",
      "[1800]\ttraining's auc: 0.826026\tvalid_1's auc: 0.784414\n",
      "[1900]\ttraining's auc: 0.826794\tvalid_1's auc: 0.784424\n",
      "[2000]\ttraining's auc: 0.827547\tvalid_1's auc: 0.784435\n",
      "[2100]\ttraining's auc: 0.828259\tvalid_1's auc: 0.784431\n",
      "[2200]\ttraining's auc: 0.82895\tvalid_1's auc: 0.78444\n",
      "[2300]\ttraining's auc: 0.82962\tvalid_1's auc: 0.784432\n",
      "Early stopping, best iteration is:\n",
      "[2068]\ttraining's auc: 0.82803\tvalid_1's auc: 0.784444\n",
      "roc_auc_score: 0.7844436304088502\n",
      "lgb pass ==========================================\n",
      "\n",
      "dataset_y.shape (428571,)\n",
      "Fold lgbm auc scor: 0.7844436304088502\n",
      "Final split level: 0.033801269740993865\n",
      "\n",
      "val_y.shape (428571,)\n",
      "y_val_lstm_st2.shape, y_test_lstm_st2.shape (428571,) (500000,)\n",
      "sum_lstm_st1_lstm_st2_ 0.7876858983590864\n",
      "{'mul_lstm_st1_lstm_st2_net_st1_net_st2_': 0.787194725315111, 'sum_lstm_st1_lstm_st2_net_st1_net_st2_': 0.7869634805876318, 'mul_lstm_st1_lstm_st2_net_st1_': 0.7874938106015603, 'sum_lstm_st1_lstm_st2_net_st1_': 0.787351159410404, 'mul_lstm_st1_lstm_st2_net_st2_': 0.7868930866605635, 'sum_lstm_st1_lstm_st2_net_st2_': 0.7865726509076771, 'mul_lstm_st1_net_st1_net_st2_': 0.7865650229162453, 'sum_lstm_st1_net_st1_net_st2_': 0.7863366692955975, 'mul_lstm_st2_net_st1_net_st2_': 0.7859829957802116, 'sum_lstm_st2_net_st1_net_st2_': 0.7857870234735854, 'mul_lstm_st1_lstm_st2_': 0.787673351721085, 'sum_lstm_st1_lstm_st2_': 0.7876858983590864, 'mul_lstm_st1_net_st1_': 0.7856019141734218, 'sum_lstm_st1_net_st1_': 0.7854738830355242, 'mul_lstm_st1_net_st2_': 0.7865208495374103, 'sum_lstm_st1_net_st2_': 0.7860620532199046, 'mul_lstm_st2_net_st1_': 0.7867518022434837, 'sum_lstm_st2_net_st1_': 0.7866087437093591, 'mul_lstm_st2_net_st2_': 0.7837825486805694, 'sum_lstm_st2_net_st2_': 0.7834880401889793, 'mul_net_st1_net_st2_': 0.7846070791873465, 'sum_net_st1_net_st2_': 0.7844309849011961, 'lstm_st1': 0.7858264661372864, 'lstm_st2': 0.7844436304088502, 'net_st1': 0.7826120792708716, 'net_st2': 0.7795668066513302}\n",
      "\n"
     ]
    },
    {
     "name": "stdout",
     "output_type": "stream",
     "text": [
      "Fold: 7 pass. Time 17090.164115667343 sec.\n",
      "=======================================================================================================\n",
      "\n",
      "\n"
     ]
    }
   ],
   "source": [
    "y_val_true_parts  =[] \n",
    "y_val_pred_parts  =[] \n",
    "y_test_preds      =[] \n",
    "scors_list        =[]\n",
    "cut_list          =[]\n",
    "\n",
    "\n",
    "y_val_true_parts_net  =[] \n",
    "y_val_pred_parts_net  =[] \n",
    "y_test_preds_net      =[] \n",
    "scors_list_net        =[]\n",
    "cut_list_net          =[]\n",
    "\n",
    "\n",
    "y_val_true_parts2  =[] \n",
    "y_val_pred_parts2  =[] \n",
    "y_test_preds2      =[] \n",
    "scors_list2        =[]\n",
    "cut_list2          =[]\n",
    "\n",
    "\n",
    "y_val_true_parts_net2  =[] \n",
    "y_val_pred_parts_net2  =[] \n",
    "y_test_preds_net2      =[] \n",
    "scors_list_net2        =[]\n",
    "cut_list_net2          =[]\n",
    "\n",
    "\n",
    "\n",
    "y_val_true_parts_final  =[] \n",
    "y_val_pred_parts_final  =[] \n",
    "y_test_preds_final      =[] \n",
    "scors_list_final        =[]\n",
    "cut_list_final          =[]\n",
    "\n",
    "\n",
    "\n",
    "\n",
    "\n",
    "\n",
    "\n",
    "\n",
    "\n",
    "\n",
    "\n",
    "\n",
    "\n",
    "\n",
    "\n",
    "\n",
    "for i in range(1,8):\n",
    "    \n",
    "    start = time.time()\n",
    "\n",
    "    for j in range(3):\n",
    "        tempo = list(dataset_train[j])\n",
    "        tempo[38] = str(i)\n",
    "        dataset_train[j] = ''.join(tempo)\n",
    "    for j in range(3):        \n",
    "        tempo = list(dataset_val[j])\n",
    "        tempo[36] = str(i)\n",
    "        dataset_val[j] = ''.join(tempo)\n",
    "        \n",
    "        \n",
    "        \n",
    "\n",
    "    path_to_checkpoints = \"./checkpoints/tf_baseline/\"\n",
    "    es = EarlyStopping(patience=3, mode=\"max\", verbose=True, \n",
    "                       save_path=os.path.join(path_to_checkpoints, \"best_checkpoint__folf_\"+str(i)+\".pt\"), \n",
    "                       metric_name=\"ROC-AUC\", save_format=\"tf\")        \n",
    "\n",
    "\n",
    "    model = build_transactions_rnn(features, embedding_projections)\n",
    "\n",
    "    for epoch in range(num_epochs):\n",
    "        print(f\"Starting epoch {epoch+1}\")\n",
    "        train_epoch(model, dataset_train, batch_size=train_batch_size, \n",
    "                    shuffle=True, cur_epoch=epoch, steps_per_epoch=20089)  #21160\n",
    "\n",
    "        val_roc_auc = eval_model(model, dataset_val, batch_size=val_batch_szie)\n",
    "        es(val_roc_auc, model)\n",
    "\n",
    "        if es.early_stop:\n",
    "            print(\"Early stopping reached. Stop training...\")\n",
    "            break\n",
    "        train_roc_auc = \"Now is not estimated\"\n",
    "        print(f\"Epoch {epoch+1} completed. Train ROC AUC: {train_roc_auc}, val ROC AUC: {val_roc_auc}\")    \n",
    "\n",
    "\n",
    "\n",
    "\n",
    "\n",
    "    model.load_weights(os.path.join(path_to_checkpoints, \"best_checkpoint__folf_\"+str(i)+\".pt\"))\n",
    "\n",
    "\n",
    "    depo_path = '../data/depo/'\n",
    "    model.save_weights(os.path.join(depo_path,  \"model_Fold_\"+str(i)+\"_weights.pt\"))\n",
    "\n",
    "        \n",
    "        \n",
    "    \n",
    "    val_preds  = inference(model, dataset_val,  batch_size=128)\n",
    "    test_preds = inference(model, dataset_test, batch_size=128)    \n",
    "    cut_level, val_roc_auc, val_y = get_roc_auc_treshold(dataset_val, val_preds)    \n",
    "    \n",
    "    \n",
    "    y_val_pred_parts_net.append(val_preds['score'].values)     \n",
    "    y_test_preds_net.append(test_preds['score'].values) \n",
    "    y_val_true_parts_net.append(val_y)\n",
    "    scors_list_net.append(val_roc_auc)\n",
    "    cut_list_net.append(cut_level)\n",
    "\n",
    "    y_val_net_st1  = val_preds['score'].values.copy()\n",
    "    y_test_net_st1 = test_preds['score'].values.copy()\n",
    "    \n",
    "    \n",
    "    print('y_val_net_st1.shape, y_test_net_st1.shape',y_val_net_st1.shape, y_test_net_st1.shape)\n",
    "    \n",
    "    \n",
    "    \n",
    "    print()\n",
    "    print('Fold net auc scor :', val_roc_auc)    \n",
    "    \n",
    "    depo_path = '../data/depo/'\n",
    "    with open(os.path.join(depo_path,  \"y_val_pred_parts_net_Fold_\"+str(i)+\".h5\"), \"wb\") as f:\n",
    "                pickle.dump(y_val_pred_parts_net, f)    \n",
    "    \n",
    "    with open(os.path.join(depo_path,  \"y_test_preds_net_Fold_\"+str(i)+\".h5\"), \"wb\") as f:\n",
    "                pickle.dump(y_test_preds_net, f)    \n",
    "            \n",
    "    with open(os.path.join(depo_path,  \"y_val_true_parts_net_Fold_\"+str(i)+\".h5\"), \"wb\") as f:\n",
    "                pickle.dump(y_val_true_parts_net, f)    \n",
    "            \n",
    "    with open(os.path.join(depo_path,  \"cut_list_net_Fold_\"+str(i)+\".h5\"), \"wb\") as f:\n",
    "                pickle.dump(cut_list_net, f)    \n",
    "    \n",
    "    \n",
    "    \n",
    "    # На этом этапе получили промежуточные значения после первого обучения сети на текущем фолде\n",
    "    # и сохранили промежуточные значения\n",
    "    #==============================================================================================\n",
    "    \n",
    "\n",
    "    \n",
    "    cut_model = Model(inputs=model.input, outputs=model.get_layer('encoder_out').output) \n",
    "    \n",
    "    # модифицировали базовую сеть для дальнейшего получения эмбеддингов данных\n",
    "    #==============================================================================================\n",
    "    \n",
    "    \n",
    "    \n",
    "    \n",
    "    \n",
    "    X_train_for_lgbm_1 = get_x(model=cut_model, dataset=[dataset_train[0]], is_train=True)\n",
    "    X_train_for_lgbm_2 = get_x(model=cut_model, dataset=[dataset_train[1]], is_train=True)\n",
    "    X_train_for_lgbm_3 = get_x(model=cut_model, dataset=[dataset_train[2]], is_train=True)\n",
    "\n",
    "    X_train_for_lgbm = np.vstack((X_train_for_lgbm_1,X_train_for_lgbm_2, X_train_for_lgbm_3))    \n",
    "    \n",
    "    print('X_train_for_lgbm shapes ===> ', X_train_for_lgbm.shape, X_train_for_lgbm_1.shape, X_train_for_lgbm_2.shape, X_train_for_lgbm_3.shape,)\n",
    "    \n",
    "    X_val_for_lgbm   = get_x(model=cut_model, dataset=dataset_val, is_train=True)    \n",
    "    X_test_for_lgbm  = get_x(model=cut_model, dataset=dataset_test, is_train=False)\n",
    "    \n",
    "    y_train_for_lgbm = get_y(dataset_train)\n",
    "    y_val_for_lgbm   = get_y(dataset_val)\n",
    "    \n",
    "    \n",
    "    # получили новый набор данных для использования в бустинге\n",
    "    #==============================================================================================\n",
    "    \n",
    "\n",
    "    \n",
    "    \n",
    "    \n",
    "    val_preds, test_preds = get_lgbm_result(X_train_for_lgbm, \n",
    "                                            y_train_for_lgbm, \n",
    "                                            X_val_for_lgbm, \n",
    "                                            y_val_for_lgbm, \n",
    "                                            X_test_for_lgbm)\n",
    "    \n",
    "\n",
    "    \n",
    "    cut_level, val_roc_auc, val_y = get_roc_auc_treshold(dataset_val, val_preds)        \n",
    "    print('Fold lgbm auc scor:', val_roc_auc) \n",
    "    print('Final split level:',cut_level) \n",
    "    print()       \n",
    "        \n",
    "    print(\"val_y.shape\", val_y.shape)\n",
    "\n",
    "    \n",
    "    \n",
    "    scors_list.append(val_roc_auc)\n",
    "    cut_list.append(cut_level)\n",
    "    y_val_true_parts.append(val_y)\n",
    "    y_val_pred_parts.append(val_preds)    \n",
    "    y_test_preds.append(test_preds)    \n",
    "    \n",
    "    y_val_lstm_st1  = val_preds.copy()\n",
    "    y_test_lstm_st1 = test_preds.copy()\n",
    "    print('y_val_lstm_st1.shape, y_test_lstm_st1.shape',y_val_lstm_st1.shape, y_test_lstm_st1.shape)\n",
    "\n",
    "\n",
    "    depo_path = '../data/depo/'\n",
    "    with open(os.path.join(depo_path,  \"y_val_pred_parts_lgbm_Fold_\"+str(i)+\".h5\"), \"wb\") as f:\n",
    "                pickle.dump(y_val_pred_parts, f)    \n",
    "    \n",
    "    with open(os.path.join(depo_path,  \"y_test_preds_lgbm_Fold_\"+str(i)+\".h5\"), \"wb\") as f:\n",
    "                pickle.dump(y_test_preds, f)    \n",
    "            \n",
    "    with open(os.path.join(depo_path,  \"y_val_true_parts_lgbm_Fold_\"+str(i)+\".h5\"), \"wb\") as f:\n",
    "                pickle.dump(y_val_true_parts, f)    \n",
    "            \n",
    "    with open(os.path.join(depo_path,  \"cut_list_lgbm_Fold_\"+str(i)+\".h5\"), \"wb\") as f:\n",
    "                pickle.dump(cut_list, f)    \n",
    "    \n",
    "    # На этом этапе получили промежуточные значения после первого обучения бустинга на текущем фолде\n",
    "    # и сохранили промежуточные значения\n",
    "    #==============================================================================================\n",
    "    \n",
    "    \n",
    "    \n",
    "    \n",
    "    \n",
    "    \n",
    "    \n",
    "    defolt_rate = (y_train_for_lgbm.sum() + y_val_for_lgbm.sum())/(len(y_train_for_lgbm) + len(y_val_for_lgbm))\n",
    "    train_target_mod = get_extra_train_df_id_y(test_preds, dataset_train, dataset_test, defolt_rate)\n",
    "    \n",
    "    # получили новый расширенный train датасет за счет использования псквдолейблинга.\n",
    "\n",
    "    #==============================================================================================\n",
    "    #==============================================================================================\n",
    "    \n",
    "    \n",
    "    \n",
    "    dataset_new_train = get_dataset_mod(train_target_mod)\n",
    "\n",
    "    path_to_checkpoints = \"./checkpoints/tf_baseline/\"\n",
    "    es = EarlyStopping(patience=3, mode=\"max\", verbose=True, \n",
    "                       save_path=os.path.join(path_to_checkpoints, \"best_checkpoint_st2_folf_\"+str(i)+\".pt\"), \n",
    "                       metric_name=\"ROC-AUC\", save_format=\"tf\")        \n",
    "\n",
    "\n",
    "    model = build_transactions_rnn(features, embedding_projections)\n",
    "\n",
    "    for epoch in range(num_epochs):\n",
    "        print(f\"Starting epoch {epoch+1}\")\n",
    "        train_epoch(model, dataset_new_train, batch_size=train_batch_size, \n",
    "                    shuffle=True, cur_epoch=epoch, steps_per_epoch=20089)  #21160 20089\n",
    "\n",
    "        val_roc_auc = eval_model(model, dataset_val, batch_size=val_batch_szie)\n",
    "        es(val_roc_auc, model)\n",
    "\n",
    "        if es.early_stop:\n",
    "            print(\"Early stopping reached. Stop training...\")\n",
    "            break\n",
    "\n",
    "        train_roc_auc = \"Now is not estimated\"\n",
    "        print(f\"Epoch {epoch+1} completed. Train2 ROC AUC: {train_roc_auc}, val ROC AUC: {val_roc_auc}\")    \n",
    "\n",
    "\n",
    "\n",
    "\n",
    "\n",
    "    model.load_weights(os.path.join(path_to_checkpoints, \"best_checkpoint_st2_folf_\"+str(i)+\".pt\"))\n",
    "\n",
    "\n",
    "    depo_path = '../data/depo/'\n",
    "    model.save_weights(os.path.join(depo_path,  \"model_st2_Fold_\"+str(i)+\"_weights.pt\"))\n",
    "\n",
    "\n",
    "\n",
    "\n",
    "\n",
    "\n",
    "\n",
    "\n",
    "    val_preds  = inference(model, dataset_val,  batch_size=128)\n",
    "    test_preds = inference(model, dataset_test, batch_size=128)    \n",
    "    cut_level, val_roc_auc, val_y = get_roc_auc_treshold(dataset_val, val_preds)    \n",
    "\n",
    "\n",
    "    y_val_pred_parts_net2.append(val_preds['score'].values)     \n",
    "    y_test_preds_net2.append(test_preds['score'].values) \n",
    "    y_val_true_parts_net2.append(val_y)\n",
    "    scors_list_net2.append(val_roc_auc)\n",
    "    cut_list_net2.append(cut_level)\n",
    "\n",
    "    y_val_net_st2  = val_preds['score'].values.copy()\n",
    "    y_test_net_st2 = test_preds['score'].values.copy()\n",
    "    \n",
    "    \n",
    "    print('y_val_net_st2.shape, y_test_net_st2.shape',y_val_net_st2.shape, y_test_net_st2.shape)\n",
    "\n",
    "    print()\n",
    "    print('Fold net2 auc scor :', val_roc_auc)    \n",
    "\n",
    "    depo_path = '../data/depo/'\n",
    "    with open(os.path.join(depo_path,  \"y_val_pred_parts_net2_Fold_\"+str(i)+\".h5\"), \"wb\") as f:\n",
    "                pickle.dump(y_val_pred_parts_net2, f)    \n",
    "\n",
    "    with open(os.path.join(depo_path,  \"y_test_preds_net2_Fold_\"+str(i)+\".h5\"), \"wb\") as f:\n",
    "                pickle.dump(y_test_preds_net2, f)    \n",
    "\n",
    "    with open(os.path.join(depo_path,  \"y_val_true_parts_net2_Fold_\"+str(i)+\".h5\"), \"wb\") as f:\n",
    "                pickle.dump(y_val_true_parts_net2, f)    \n",
    "\n",
    "    with open(os.path.join(depo_path,  \"cut_list_net2_Fold_\"+str(i)+\".h5\"), \"wb\") as f:\n",
    "                pickle.dump(cut_list_net2, f)    \n",
    "\n",
    "    # На этом этапе получили промежуточные значения после второго обучения сети на текущем фолде\n",
    "    # и сохранили промежуточные значения\n",
    "    #==============================================================================================\n",
    "\n",
    "\n",
    "\n",
    "    cut_model = Model(inputs=model.input, outputs=model.get_layer('encoder_out').output) \n",
    "\n",
    "    X_train_for_lgbm_1 = get_x(model=cut_model, dataset=[dataset_new_train[0]], is_train=True)\n",
    "    X_train_for_lgbm_2 = get_x(model=cut_model, dataset=[dataset_new_train[1]], is_train=True)\n",
    "    X_train_for_lgbm_3 = get_x(model=cut_model, dataset=[dataset_new_train[2]], is_train=True)\n",
    "\n",
    "    X_train_for_lgbm_4 = get_x(model=cut_model, dataset=[dataset_new_train[3]], is_train=True)\n",
    "    X_train_for_lgbm_5 = get_x(model=cut_model, dataset=[dataset_new_train[4]], is_train=True)\n",
    "    X_train_for_lgbm_6 = get_x(model=cut_model, dataset=[dataset_new_train[5]], is_train=True)\n",
    "    X_train_for_lgbm_7 = get_x(model=cut_model, dataset=[dataset_new_train[6]], is_train=True)\n",
    "\n",
    "\n",
    "\n",
    "\n",
    "\n",
    "    X_train_for_lgbm = np.vstack((X_train_for_lgbm_1,X_train_for_lgbm_2, X_train_for_lgbm_3,\n",
    "                                  X_train_for_lgbm_4,X_train_for_lgbm_5, X_train_for_lgbm_6,\n",
    "                                  X_train_for_lgbm_7))    \n",
    "\n",
    "    print('X_train_for_lgbm2 done ')\n",
    "\n",
    "    X_val_for_lgbm   = get_x(model=cut_model, dataset=dataset_val, is_train=True)    \n",
    "    X_test_for_lgbm  = get_x(model=cut_model, dataset=dataset_test, is_train=False)\n",
    "\n",
    "    y_train_for_lgbm = get_y(dataset_new_train)\n",
    "    y_val_for_lgbm   = get_y(dataset_val)\n",
    "\n",
    "\n",
    "\n",
    "\n",
    "\n",
    "\n",
    "\n",
    "    val_preds, test_preds = get_lgbm_result(X_train_for_lgbm, \n",
    "                                            y_train_for_lgbm, \n",
    "                                            X_val_for_lgbm, \n",
    "                                            y_val_for_lgbm, \n",
    "                                            X_test_for_lgbm)\n",
    "\n",
    "\n",
    "\n",
    "    cut_level, val_roc_auc, val_y = get_roc_auc_treshold(dataset_val, val_preds)        \n",
    "    print('Fold lgbm auc scor:', val_roc_auc) \n",
    "    print('Final split level:',cut_level) \n",
    "    print()       \n",
    "\n",
    "    print(\"val_y.shape\", val_y.shape)\n",
    "\n",
    "\n",
    "\n",
    "    scors_list2.append(val_roc_auc)\n",
    "    cut_list2.append(cut_level)\n",
    "    y_val_true_parts2.append(val_y)\n",
    "    y_val_pred_parts2.append(val_preds)    \n",
    "    y_test_preds2.append(test_preds)    \n",
    "\n",
    "    y_val_lstm_st2  = val_preds.copy()\n",
    "    y_test_lstm_st2 = test_preds.copy()\n",
    "    \n",
    "    \n",
    "    print('y_val_lstm_st2.shape, y_test_lstm_st2.shape',y_val_lstm_st2.shape, y_test_lstm_st2.shape)\n",
    "\n",
    "\n",
    "    depo_path = '../data/depo/'\n",
    "    with open(os.path.join(depo_path,  \"y_val_pred_parts_lgbm2_Fold_\"+str(i)+\".h5\"), \"wb\") as f:\n",
    "                pickle.dump(y_val_pred_parts2, f)    \n",
    "\n",
    "    with open(os.path.join(depo_path,  \"y_test_preds_lgbm2_Fold_\"+str(i)+\".h5\"), \"wb\") as f:\n",
    "                pickle.dump(y_test_preds2, f)    \n",
    "\n",
    "    with open(os.path.join(depo_path,  \"y_val_true_parts_lgbm2_Fold_\"+str(i)+\".h5\"), \"wb\") as f:\n",
    "                pickle.dump(y_val_true_parts2, f)    \n",
    "\n",
    "    with open(os.path.join(depo_path,  \"cut_list_lgbm2_Fold_\"+str(i)+\".h5\"), \"wb\") as f:\n",
    "                pickle.dump(cut_list2, f)    \n",
    "\n",
    "\n",
    "\n",
    "\n",
    "    # На этом этапе получили промежуточные значения после второго обучения бустинга на текущем фолде\n",
    "    # и сохранили промежуточные значения\n",
    "    #==============================================================================================\n",
    "\n",
    "\n",
    "            \n",
    "            \n",
    "            \n",
    "            \n",
    "            \n",
    "            \n",
    "            \n",
    "            \n",
    "            \n",
    "            \n",
    " \n",
    "\n",
    "    models_dic = {'lstm_st1':y_val_lstm_st1, 'lstm_st2':y_val_lstm_st2, 'net_st1':y_val_net_st1, 'net_st2':y_val_net_st2,}\n",
    "    valid_data_dic = get_dics_results(models_dic)\n",
    "    \n",
    "    name, scores_dic = get_scores(val_y, valid_data_dic)\n",
    "    \n",
    "    \n",
    "    print(name,  scores_dic[name])    \n",
    "    print(scores_dic)    \n",
    "    print()\n",
    "    \n",
    "    models_dic = {'lstm_st1':y_test_lstm_st1, 'lstm_st2':y_test_lstm_st2, 'net_st1':y_test_net_st1, 'net_st2':y_test_net_st2,}\n",
    "    test_data_dic = get_dics_results(models_dic)\n",
    "\n",
    "\n",
    "      \n",
    "\n",
    "    \n",
    "    fpr, tpr, thresholds = metrics.roc_curve(val_y, valid_data_dic[name], pos_label=1)\n",
    "    optimal_idx = np.argmax(tpr - fpr)\n",
    "    optimal_threshold = thresholds[optimal_idx]\n",
    "    optimal_threshold\n",
    "\n",
    "    \n",
    "    \n",
    "    \n",
    "    \n",
    "    cut_list_final.append(optimal_threshold)     \n",
    "    y_val_true_parts_final.append(val_y)\n",
    "    y_val_pred_parts_final.append(valid_data_dic[name])\n",
    "    y_test_preds_final.append(test_data_dic[name])         \n",
    "            \n",
    "    scors_list_final.append(scores_dic[name])        \n",
    "            \n",
    "            \n",
    "            \n",
    "    # На этом этапе перебрали все возможные комбинации усреднения среди ранее полученных результатов\n",
    "    # и выбрали результат с максимальным значением ROCAUC на данном фолде\n",
    "    # Результат сохранили для последующей обработки.\n",
    "    #==============================================================================================\n",
    "            \n",
    "    \n",
    "\n",
    "\n",
    "\n",
    "    end = time.time()\n",
    "    duration = end - start    \n",
    "\n",
    "    print('Fold:', i , 'pass. Time', duration,  'sec.')    \n",
    "    print('=======================================================================================================')\n",
    "    print()\n",
    "    print()    \n",
    "    \n",
    "    #break"
   ]
  },
  {
   "cell_type": "markdown",
   "metadata": {},
   "source": [
    "* СОбираем данные ранее обученных фолдов в единое целое. Смотрим на значения на валидации и готовим сабмит..."
   ]
  },
  {
   "cell_type": "code",
   "execution_count": 4,
   "metadata": {},
   "outputs": [],
   "source": [
    "def get_summary(cut_list, y_val_pred_list, y_test_preds_list, y_val_true_list, dataset_test):\n",
    "    \n",
    "    \n",
    "    y_val_pred_parts, y_test_preds, y_val_true_parts = y_val_pred_list.copy(), y_test_preds_list.copy(), y_val_true_list.copy()\n",
    "    \n",
    "    \n",
    "    \n",
    "\n",
    "    k_list=[]\n",
    "    for i in range(len(cut_list)):\n",
    "        k = 0.5/cut_list[i]\n",
    "        k_list.append(k)\n",
    "\n",
    "    print(k_list)\n",
    "\n",
    "\n",
    "\n",
    "    for i in range(len(y_val_pred_parts)):\n",
    "        y_val_pred_parts[i] = y_val_pred_parts[i]*k_list[i]\n",
    "\n",
    "    for i in range(len(y_test_preds)):\n",
    "        y_test_preds[i] = y_test_preds[i]*k_list[i]\n",
    "\n",
    "\n",
    "\n",
    "    y_end  =y_test_preds[0]\n",
    "    y      =y_val_true_parts[0].reshape(-1,1)\n",
    "    y_vpred=y_val_pred_parts[0].reshape(-1,1)\n",
    "\n",
    "\n",
    "    for i in range(1,len(y_val_true_parts)):\n",
    "        y_val_true_parts[i]=y_val_true_parts[i].reshape(-1,1)\n",
    "        y_val_pred_parts[i]=y_val_pred_parts[i].reshape(-1,1)  \n",
    "        y=np.vstack((y,y_val_true_parts[i]))\n",
    "        y_vpred=np.vstack((y_vpred,y_val_pred_parts[i]))  \n",
    "\n",
    "\n",
    "\n",
    "    for i in range(1,len(y_test_preds)):\n",
    "        y_end         = y_end*y_test_preds[i]\n",
    "    y_end      = y_end**(1/len(y_test_preds))\n",
    "\n",
    "\n",
    "\n",
    "    test_generator = batches_generator(dataset_test, batch_size=128, shuffle=False,\n",
    "                                       is_train=False, output_format=\"tf\")\n",
    "\n",
    "\n",
    "    ids=[]\n",
    "    for _, batch_ids in test_generator:\n",
    "        ids.extend(batch_ids)\n",
    "\n",
    "    test_preds = pd.DataFrame({\"id\": ids, \"score\": y_end})\n",
    "    \n",
    "    print('Final ROC AUC:    ', roc_auc_score(y, y_vpred))\n",
    "    \n",
    "    return test_preds"
   ]
  },
  {
   "cell_type": "code",
   "execution_count": null,
   "metadata": {},
   "outputs": [],
   "source": []
  },
  {
   "cell_type": "code",
   "execution_count": 36,
   "metadata": {},
   "outputs": [
    {
     "name": "stdout",
     "output_type": "stream",
     "text": [
      "[15.264348829148735, 12.938998017323682, 14.765930223398506, 13.885978417775728, 15.483432943345685, 14.76926081337089, 13.841803344553167]\n",
      "Final ROC AUC:     0.7877423734748454\n"
     ]
    },
    {
     "data": {
      "text/html": [
       "<div>\n",
       "<style scoped>\n",
       "    .dataframe tbody tr th:only-of-type {\n",
       "        vertical-align: middle;\n",
       "    }\n",
       "\n",
       "    .dataframe tbody tr th {\n",
       "        vertical-align: top;\n",
       "    }\n",
       "\n",
       "    .dataframe thead th {\n",
       "        text-align: right;\n",
       "    }\n",
       "</style>\n",
       "<table border=\"1\" class=\"dataframe\">\n",
       "  <thead>\n",
       "    <tr style=\"text-align: right;\">\n",
       "      <th></th>\n",
       "      <th>id</th>\n",
       "      <th>score</th>\n",
       "    </tr>\n",
       "  </thead>\n",
       "  <tbody>\n",
       "    <tr>\n",
       "      <th>0</th>\n",
       "      <td>3000014</td>\n",
       "      <td>0.320613</td>\n",
       "    </tr>\n",
       "    <tr>\n",
       "      <th>1</th>\n",
       "      <td>3000020</td>\n",
       "      <td>2.383898</td>\n",
       "    </tr>\n",
       "    <tr>\n",
       "      <th>2</th>\n",
       "      <td>3000027</td>\n",
       "      <td>0.535466</td>\n",
       "    </tr>\n",
       "    <tr>\n",
       "      <th>3</th>\n",
       "      <td>3000043</td>\n",
       "      <td>1.177290</td>\n",
       "    </tr>\n",
       "    <tr>\n",
       "      <th>4</th>\n",
       "      <td>3000049</td>\n",
       "      <td>0.337915</td>\n",
       "    </tr>\n",
       "    <tr>\n",
       "      <th>...</th>\n",
       "      <td>...</td>\n",
       "      <td>...</td>\n",
       "    </tr>\n",
       "    <tr>\n",
       "      <th>499995</th>\n",
       "      <td>3286660</td>\n",
       "      <td>0.282860</td>\n",
       "    </tr>\n",
       "    <tr>\n",
       "      <th>499996</th>\n",
       "      <td>3345810</td>\n",
       "      <td>0.406660</td>\n",
       "    </tr>\n",
       "    <tr>\n",
       "      <th>499997</th>\n",
       "      <td>3434512</td>\n",
       "      <td>0.502408</td>\n",
       "    </tr>\n",
       "    <tr>\n",
       "      <th>499998</th>\n",
       "      <td>3000786</td>\n",
       "      <td>0.316670</td>\n",
       "    </tr>\n",
       "    <tr>\n",
       "      <th>499999</th>\n",
       "      <td>3047012</td>\n",
       "      <td>0.282849</td>\n",
       "    </tr>\n",
       "  </tbody>\n",
       "</table>\n",
       "<p>500000 rows × 2 columns</p>\n",
       "</div>"
      ],
      "text/plain": [
       "             id     score\n",
       "0       3000014  0.320613\n",
       "1       3000020  2.383898\n",
       "2       3000027  0.535466\n",
       "3       3000043  1.177290\n",
       "4       3000049  0.337915\n",
       "...         ...       ...\n",
       "499995  3286660  0.282860\n",
       "499996  3345810  0.406660\n",
       "499997  3434512  0.502408\n",
       "499998  3000786  0.316670\n",
       "499999  3047012  0.282849\n",
       "\n",
       "[500000 rows x 2 columns]"
      ]
     },
     "execution_count": 36,
     "metadata": {},
     "output_type": "execute_result"
    }
   ],
   "source": [
    "test_preds = get_summary(cut_list_final, y_val_pred_parts_final, y_test_preds_final, y_val_true_parts_final, dataset_test)\n",
    "test_preds.to_csv('./result_zero_bidirect_final.csv', index=False)\n",
    "test_preds"
   ]
  },
  {
   "cell_type": "code",
   "execution_count": 37,
   "metadata": {},
   "outputs": [
    {
     "name": "stdout",
     "output_type": "stream",
     "text": [
      "[14.994380260631106, 13.804035801628771, 15.672635489057242, 13.50920895701096, 13.059560011561661, 15.326034942573466, 16.28934079767007]\n",
      "Final ROC AUC:     0.7855718102838845\n"
     ]
    },
    {
     "data": {
      "text/html": [
       "<div>\n",
       "<style scoped>\n",
       "    .dataframe tbody tr th:only-of-type {\n",
       "        vertical-align: middle;\n",
       "    }\n",
       "\n",
       "    .dataframe tbody tr th {\n",
       "        vertical-align: top;\n",
       "    }\n",
       "\n",
       "    .dataframe thead th {\n",
       "        text-align: right;\n",
       "    }\n",
       "</style>\n",
       "<table border=\"1\" class=\"dataframe\">\n",
       "  <thead>\n",
       "    <tr style=\"text-align: right;\">\n",
       "      <th></th>\n",
       "      <th>id</th>\n",
       "      <th>score</th>\n",
       "    </tr>\n",
       "  </thead>\n",
       "  <tbody>\n",
       "    <tr>\n",
       "      <th>0</th>\n",
       "      <td>3000014</td>\n",
       "      <td>0.330813</td>\n",
       "    </tr>\n",
       "    <tr>\n",
       "      <th>1</th>\n",
       "      <td>3000020</td>\n",
       "      <td>2.147201</td>\n",
       "    </tr>\n",
       "    <tr>\n",
       "      <th>2</th>\n",
       "      <td>3000027</td>\n",
       "      <td>0.556547</td>\n",
       "    </tr>\n",
       "    <tr>\n",
       "      <th>3</th>\n",
       "      <td>3000043</td>\n",
       "      <td>1.135493</td>\n",
       "    </tr>\n",
       "    <tr>\n",
       "      <th>4</th>\n",
       "      <td>3000049</td>\n",
       "      <td>0.329853</td>\n",
       "    </tr>\n",
       "    <tr>\n",
       "      <th>...</th>\n",
       "      <td>...</td>\n",
       "      <td>...</td>\n",
       "    </tr>\n",
       "    <tr>\n",
       "      <th>499995</th>\n",
       "      <td>3286660</td>\n",
       "      <td>0.285625</td>\n",
       "    </tr>\n",
       "    <tr>\n",
       "      <th>499996</th>\n",
       "      <td>3345810</td>\n",
       "      <td>0.399618</td>\n",
       "    </tr>\n",
       "    <tr>\n",
       "      <th>499997</th>\n",
       "      <td>3434512</td>\n",
       "      <td>0.517880</td>\n",
       "    </tr>\n",
       "    <tr>\n",
       "      <th>499998</th>\n",
       "      <td>3000786</td>\n",
       "      <td>0.322417</td>\n",
       "    </tr>\n",
       "    <tr>\n",
       "      <th>499999</th>\n",
       "      <td>3047012</td>\n",
       "      <td>0.265129</td>\n",
       "    </tr>\n",
       "  </tbody>\n",
       "</table>\n",
       "<p>500000 rows × 2 columns</p>\n",
       "</div>"
      ],
      "text/plain": [
       "             id     score\n",
       "0       3000014  0.330813\n",
       "1       3000020  2.147201\n",
       "2       3000027  0.556547\n",
       "3       3000043  1.135493\n",
       "4       3000049  0.329853\n",
       "...         ...       ...\n",
       "499995  3286660  0.285625\n",
       "499996  3345810  0.399618\n",
       "499997  3434512  0.517880\n",
       "499998  3000786  0.322417\n",
       "499999  3047012  0.265129\n",
       "\n",
       "[500000 rows x 2 columns]"
      ]
     },
     "execution_count": 37,
     "metadata": {},
     "output_type": "execute_result"
    }
   ],
   "source": [
    "test_preds = get_summary(cut_list, y_val_pred_parts, y_test_preds, y_val_true_parts, dataset_test)\n",
    "test_preds.to_csv('./result_zero_bidirect_lgbm_st1.csv', index=False)\n",
    "test_preds"
   ]
  },
  {
   "cell_type": "code",
   "execution_count": 38,
   "metadata": {},
   "outputs": [
    {
     "name": "stdout",
     "output_type": "stream",
     "text": [
      "[14.64503924450308, 14.546089515345399, 10.716060702377733, 15.14457753563696, 14.441804685864987, 13.591012160729047, 11.998284346810102]\n",
      "Final ROC AUC:     0.781553226269528\n"
     ]
    },
    {
     "data": {
      "text/html": [
       "<div>\n",
       "<style scoped>\n",
       "    .dataframe tbody tr th:only-of-type {\n",
       "        vertical-align: middle;\n",
       "    }\n",
       "\n",
       "    .dataframe tbody tr th {\n",
       "        vertical-align: top;\n",
       "    }\n",
       "\n",
       "    .dataframe thead th {\n",
       "        text-align: right;\n",
       "    }\n",
       "</style>\n",
       "<table border=\"1\" class=\"dataframe\">\n",
       "  <thead>\n",
       "    <tr style=\"text-align: right;\">\n",
       "      <th></th>\n",
       "      <th>id</th>\n",
       "      <th>score</th>\n",
       "    </tr>\n",
       "  </thead>\n",
       "  <tbody>\n",
       "    <tr>\n",
       "      <th>0</th>\n",
       "      <td>3000014</td>\n",
       "      <td>0.281635</td>\n",
       "    </tr>\n",
       "    <tr>\n",
       "      <th>1</th>\n",
       "      <td>3000020</td>\n",
       "      <td>2.093080</td>\n",
       "    </tr>\n",
       "    <tr>\n",
       "      <th>2</th>\n",
       "      <td>3000027</td>\n",
       "      <td>0.497502</td>\n",
       "    </tr>\n",
       "    <tr>\n",
       "      <th>3</th>\n",
       "      <td>3000043</td>\n",
       "      <td>1.187533</td>\n",
       "    </tr>\n",
       "    <tr>\n",
       "      <th>4</th>\n",
       "      <td>3000049</td>\n",
       "      <td>0.377939</td>\n",
       "    </tr>\n",
       "    <tr>\n",
       "      <th>...</th>\n",
       "      <td>...</td>\n",
       "      <td>...</td>\n",
       "    </tr>\n",
       "    <tr>\n",
       "      <th>499995</th>\n",
       "      <td>3286660</td>\n",
       "      <td>0.193536</td>\n",
       "    </tr>\n",
       "    <tr>\n",
       "      <th>499996</th>\n",
       "      <td>3345810</td>\n",
       "      <td>0.217430</td>\n",
       "    </tr>\n",
       "    <tr>\n",
       "      <th>499997</th>\n",
       "      <td>3434512</td>\n",
       "      <td>0.209293</td>\n",
       "    </tr>\n",
       "    <tr>\n",
       "      <th>499998</th>\n",
       "      <td>3000786</td>\n",
       "      <td>0.179868</td>\n",
       "    </tr>\n",
       "    <tr>\n",
       "      <th>499999</th>\n",
       "      <td>3047012</td>\n",
       "      <td>0.156851</td>\n",
       "    </tr>\n",
       "  </tbody>\n",
       "</table>\n",
       "<p>500000 rows × 2 columns</p>\n",
       "</div>"
      ],
      "text/plain": [
       "             id     score\n",
       "0       3000014  0.281635\n",
       "1       3000020  2.093080\n",
       "2       3000027  0.497502\n",
       "3       3000043  1.187533\n",
       "4       3000049  0.377939\n",
       "...         ...       ...\n",
       "499995  3286660  0.193536\n",
       "499996  3345810  0.217430\n",
       "499997  3434512  0.209293\n",
       "499998  3000786  0.179868\n",
       "499999  3047012  0.156851\n",
       "\n",
       "[500000 rows x 2 columns]"
      ]
     },
     "execution_count": 38,
     "metadata": {},
     "output_type": "execute_result"
    }
   ],
   "source": [
    "test_preds = get_summary(cut_list_net, y_val_pred_parts_net, y_test_preds_net, y_val_true_parts_net, dataset_test)\n",
    "test_preds.to_csv('./result_zero_bidirect_lgbm_st1_net.csv', index=False)\n",
    "test_preds"
   ]
  },
  {
   "cell_type": "code",
   "execution_count": 39,
   "metadata": {},
   "outputs": [
    {
     "name": "stdout",
     "output_type": "stream",
     "text": [
      "[14.785501707138963, 13.968257536639149, 16.38301973249971, 14.707461629631956, 15.110536811510057, 14.97431151350499, 14.792343714638763]\n",
      "Final ROC AUC:     0.7851486741151767\n"
     ]
    },
    {
     "data": {
      "text/html": [
       "<div>\n",
       "<style scoped>\n",
       "    .dataframe tbody tr th:only-of-type {\n",
       "        vertical-align: middle;\n",
       "    }\n",
       "\n",
       "    .dataframe tbody tr th {\n",
       "        vertical-align: top;\n",
       "    }\n",
       "\n",
       "    .dataframe thead th {\n",
       "        text-align: right;\n",
       "    }\n",
       "</style>\n",
       "<table border=\"1\" class=\"dataframe\">\n",
       "  <thead>\n",
       "    <tr style=\"text-align: right;\">\n",
       "      <th></th>\n",
       "      <th>id</th>\n",
       "      <th>score</th>\n",
       "    </tr>\n",
       "  </thead>\n",
       "  <tbody>\n",
       "    <tr>\n",
       "      <th>0</th>\n",
       "      <td>3000014</td>\n",
       "      <td>0.330930</td>\n",
       "    </tr>\n",
       "    <tr>\n",
       "      <th>1</th>\n",
       "      <td>3000020</td>\n",
       "      <td>2.780350</td>\n",
       "    </tr>\n",
       "    <tr>\n",
       "      <th>2</th>\n",
       "      <td>3000027</td>\n",
       "      <td>0.527159</td>\n",
       "    </tr>\n",
       "    <tr>\n",
       "      <th>3</th>\n",
       "      <td>3000043</td>\n",
       "      <td>1.244168</td>\n",
       "    </tr>\n",
       "    <tr>\n",
       "      <th>4</th>\n",
       "      <td>3000049</td>\n",
       "      <td>0.362379</td>\n",
       "    </tr>\n",
       "    <tr>\n",
       "      <th>...</th>\n",
       "      <td>...</td>\n",
       "      <td>...</td>\n",
       "    </tr>\n",
       "    <tr>\n",
       "      <th>499995</th>\n",
       "      <td>3286660</td>\n",
       "      <td>0.299961</td>\n",
       "    </tr>\n",
       "    <tr>\n",
       "      <th>499996</th>\n",
       "      <td>3345810</td>\n",
       "      <td>0.433428</td>\n",
       "    </tr>\n",
       "    <tr>\n",
       "      <th>499997</th>\n",
       "      <td>3434512</td>\n",
       "      <td>0.514871</td>\n",
       "    </tr>\n",
       "    <tr>\n",
       "      <th>499998</th>\n",
       "      <td>3000786</td>\n",
       "      <td>0.324264</td>\n",
       "    </tr>\n",
       "    <tr>\n",
       "      <th>499999</th>\n",
       "      <td>3047012</td>\n",
       "      <td>0.315553</td>\n",
       "    </tr>\n",
       "  </tbody>\n",
       "</table>\n",
       "<p>500000 rows × 2 columns</p>\n",
       "</div>"
      ],
      "text/plain": [
       "             id     score\n",
       "0       3000014  0.330930\n",
       "1       3000020  2.780350\n",
       "2       3000027  0.527159\n",
       "3       3000043  1.244168\n",
       "4       3000049  0.362379\n",
       "...         ...       ...\n",
       "499995  3286660  0.299961\n",
       "499996  3345810  0.433428\n",
       "499997  3434512  0.514871\n",
       "499998  3000786  0.324264\n",
       "499999  3047012  0.315553\n",
       "\n",
       "[500000 rows x 2 columns]"
      ]
     },
     "execution_count": 39,
     "metadata": {},
     "output_type": "execute_result"
    }
   ],
   "source": [
    "test_preds = get_summary(cut_list2, y_val_pred_parts2, y_test_preds2, y_val_true_parts2, dataset_test)\n",
    "test_preds.to_csv('./result_zero_bidirect_lgbm_st2.csv', index=False)\n",
    "test_preds"
   ]
  },
  {
   "cell_type": "code",
   "execution_count": 40,
   "metadata": {},
   "outputs": [
    {
     "name": "stdout",
     "output_type": "stream",
     "text": [
      "[15.347553063273423, 15.744064878563252, 11.034456087555641, 17.818325147323616, 13.479846675447162, 14.794938374323788, 11.474333928945297]\n",
      "Final ROC AUC:     0.7816066897256106\n"
     ]
    },
    {
     "data": {
      "text/html": [
       "<div>\n",
       "<style scoped>\n",
       "    .dataframe tbody tr th:only-of-type {\n",
       "        vertical-align: middle;\n",
       "    }\n",
       "\n",
       "    .dataframe tbody tr th {\n",
       "        vertical-align: top;\n",
       "    }\n",
       "\n",
       "    .dataframe thead th {\n",
       "        text-align: right;\n",
       "    }\n",
       "</style>\n",
       "<table border=\"1\" class=\"dataframe\">\n",
       "  <thead>\n",
       "    <tr style=\"text-align: right;\">\n",
       "      <th></th>\n",
       "      <th>id</th>\n",
       "      <th>score</th>\n",
       "    </tr>\n",
       "  </thead>\n",
       "  <tbody>\n",
       "    <tr>\n",
       "      <th>0</th>\n",
       "      <td>3000014</td>\n",
       "      <td>0.288091</td>\n",
       "    </tr>\n",
       "    <tr>\n",
       "      <th>1</th>\n",
       "      <td>3000020</td>\n",
       "      <td>2.018573</td>\n",
       "    </tr>\n",
       "    <tr>\n",
       "      <th>2</th>\n",
       "      <td>3000027</td>\n",
       "      <td>0.360361</td>\n",
       "    </tr>\n",
       "    <tr>\n",
       "      <th>3</th>\n",
       "      <td>3000043</td>\n",
       "      <td>1.490736</td>\n",
       "    </tr>\n",
       "    <tr>\n",
       "      <th>4</th>\n",
       "      <td>3000049</td>\n",
       "      <td>0.373507</td>\n",
       "    </tr>\n",
       "    <tr>\n",
       "      <th>...</th>\n",
       "      <td>...</td>\n",
       "      <td>...</td>\n",
       "    </tr>\n",
       "    <tr>\n",
       "      <th>499995</th>\n",
       "      <td>3286660</td>\n",
       "      <td>0.200067</td>\n",
       "    </tr>\n",
       "    <tr>\n",
       "      <th>499996</th>\n",
       "      <td>3345810</td>\n",
       "      <td>0.266556</td>\n",
       "    </tr>\n",
       "    <tr>\n",
       "      <th>499997</th>\n",
       "      <td>3434512</td>\n",
       "      <td>0.317302</td>\n",
       "    </tr>\n",
       "    <tr>\n",
       "      <th>499998</th>\n",
       "      <td>3000786</td>\n",
       "      <td>0.260035</td>\n",
       "    </tr>\n",
       "    <tr>\n",
       "      <th>499999</th>\n",
       "      <td>3047012</td>\n",
       "      <td>0.223202</td>\n",
       "    </tr>\n",
       "  </tbody>\n",
       "</table>\n",
       "<p>500000 rows × 2 columns</p>\n",
       "</div>"
      ],
      "text/plain": [
       "             id     score\n",
       "0       3000014  0.288091\n",
       "1       3000020  2.018573\n",
       "2       3000027  0.360361\n",
       "3       3000043  1.490736\n",
       "4       3000049  0.373507\n",
       "...         ...       ...\n",
       "499995  3286660  0.200067\n",
       "499996  3345810  0.266556\n",
       "499997  3434512  0.317302\n",
       "499998  3000786  0.260035\n",
       "499999  3047012  0.223202\n",
       "\n",
       "[500000 rows x 2 columns]"
      ]
     },
     "execution_count": 40,
     "metadata": {},
     "output_type": "execute_result"
    }
   ],
   "source": [
    "test_preds = get_summary(cut_list_net2, y_val_pred_parts_net2, y_test_preds_net2, y_val_true_parts_net2, dataset_test)\n",
    "test_preds.to_csv('./result_zero_bidirect_lgbm_st2_net.csv', index=False)\n",
    "test_preds"
   ]
  },
  {
   "cell_type": "code",
   "execution_count": 41,
   "metadata": {},
   "outputs": [
    {
     "data": {
      "text/plain": [
       "0.7860067234624296"
      ]
     },
     "execution_count": 41,
     "metadata": {},
     "output_type": "execute_result"
    }
   ],
   "source": [
    "np.array(scors_list).mean()"
   ]
  },
  {
   "cell_type": "code",
   "execution_count": 42,
   "metadata": {},
   "outputs": [
    {
     "data": {
      "text/plain": [
       "0.785318248346951"
      ]
     },
     "execution_count": 42,
     "metadata": {},
     "output_type": "execute_result"
    }
   ],
   "source": [
    "np.array(scors_list2).mean()"
   ]
  },
  {
   "cell_type": "code",
   "execution_count": 43,
   "metadata": {},
   "outputs": [
    {
     "data": {
      "text/plain": [
       "0.7818297352734834"
      ]
     },
     "execution_count": 43,
     "metadata": {},
     "output_type": "execute_result"
    }
   ],
   "source": [
    "np.array(scors_list_net).mean()"
   ]
  },
  {
   "cell_type": "code",
   "execution_count": 44,
   "metadata": {},
   "outputs": [
    {
     "data": {
      "text/plain": [
       "0.7819407194238196"
      ]
     },
     "execution_count": 44,
     "metadata": {},
     "output_type": "execute_result"
    }
   ],
   "source": [
    "np.array(scors_list_net2).mean()"
   ]
  },
  {
   "cell_type": "code",
   "execution_count": 45,
   "metadata": {},
   "outputs": [
    {
     "data": {
      "text/plain": [
       "0.7880998830601434"
      ]
     },
     "execution_count": 45,
     "metadata": {},
     "output_type": "execute_result"
    }
   ],
   "source": [
    "np.array(scors_list_final).mean()"
   ]
  },
  {
   "cell_type": "code",
   "execution_count": null,
   "metadata": {},
   "outputs": [],
   "source": []
  },
  {
   "cell_type": "code",
   "execution_count": null,
   "metadata": {},
   "outputs": [],
   "source": []
  },
  {
   "cell_type": "code",
   "execution_count": null,
   "metadata": {},
   "outputs": [],
   "source": []
  },
  {
   "cell_type": "code",
   "execution_count": null,
   "metadata": {},
   "outputs": [],
   "source": []
  }
 ],
 "metadata": {
  "kernelspec": {
   "display_name": "Python 3 (ipykernel)",
   "language": "python",
   "name": "python3"
  },
  "language_info": {
   "codemirror_mode": {
    "name": "ipython",
    "version": 3
   },
   "file_extension": ".py",
   "mimetype": "text/x-python",
   "name": "python",
   "nbconvert_exporter": "python",
   "pygments_lexer": "ipython3",
   "version": "3.9.7"
  }
 },
 "nbformat": 4,
 "nbformat_minor": 4
}
