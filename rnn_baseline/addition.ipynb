{
 "cells": [
  {
   "cell_type": "code",
   "execution_count": 1,
   "id": "3ba817a1",
   "metadata": {},
   "outputs": [],
   "source": [
    "import os\n",
    "import numpy as np\n",
    "import pickle\n",
    "from sklearn.metrics import roc_auc_score\n",
    "from sklearn import metrics\n",
    "from itertools import combinations\n",
    "import time\n",
    "import pandas as pd\n",
    "from data_generators import batches_generator\n",
    "\n",
    "\n",
    "import lightgbm as lgb \n",
    "from bayes_opt import BayesianOptimization\n",
    "import warnings\n",
    "warnings.filterwarnings(\"ignore\")\n"
   ]
  },
  {
   "cell_type": "code",
   "execution_count": 2,
   "id": "335bc0ee",
   "metadata": {},
   "outputs": [],
   "source": [
    "dataset_test = ['./test_buckets_rnn/processed_chunk_000.pkl']\n",
    "dataset_test = ['../data/7Folds/test_buckets_rnn/processed_chunk_000.pkl']\n"
   ]
  },
  {
   "cell_type": "code",
   "execution_count": 3,
   "id": "ab2062cd",
   "metadata": {},
   "outputs": [],
   "source": [
    "#with open('data.pickle', 'rb') as f:\n",
    "#    data_new = pickle.load(f)\n",
    "\n",
    "i=7                                  \n",
    "\n",
    "depo_path = '../data/depo/'\n",
    "with open(os.path.join(depo_path,  \"y_val_pred_parts_net2_Fold_\"+str(i)+\".h5\"), \"rb\") as f:\n",
    "            #pickle.dump(y_val_pred_parts_net, f)    \n",
    "            y_val_pred_parts_net2 = pickle.load(f)        \n",
    "\n",
    "with open(os.path.join(depo_path,  \"y_test_preds_net2_Fold_\"+str(i)+\".h5\"), \"rb\") as f:\n",
    "            #pickle.dump(y_test_preds_net, f)    \n",
    "            y_test_preds_net2 = pickle.load(f)            \n",
    "\n",
    "with open(os.path.join(depo_path,  \"y_val_true_parts_net2_Fold_\"+str(i)+\".h5\"), \"rb\") as f:\n",
    "            #pickle.dump(y_val_true_parts_net, f)   \n",
    "            y_val_true_parts_net2 = pickle.load(f)            \n",
    "\n",
    "with open(os.path.join(depo_path,  \"cut_list_net2_Fold_\"+str(i)+\".h5\"), \"rb\") as f:\n",
    "            #pickle.dump(cut_list_net, f)    \n",
    "            cut_list_net2 = pickle.load(f)    \n",
    "    \n",
    "    \n",
    "    \n",
    "    \n",
    "    \n",
    "    \n",
    "with open(os.path.join(depo_path,  \"y_val_pred_parts_net_Fold_\"+str(i)+\".h5\"), \"rb\") as f:\n",
    "            #pickle.dump(y_val_pred_parts_net, f)    \n",
    "            y_val_pred_parts_net = pickle.load(f)        \n",
    "\n",
    "with open(os.path.join(depo_path,  \"y_test_preds_net_Fold_\"+str(i)+\".h5\"), \"rb\") as f:\n",
    "            #pickle.dump(y_test_preds_net, f)    \n",
    "            y_test_preds_net = pickle.load(f)            \n",
    "\n",
    "with open(os.path.join(depo_path,  \"y_val_true_parts_net_Fold_\"+str(i)+\".h5\"), \"rb\") as f:\n",
    "            #pickle.dump(y_val_true_parts_net, f)   \n",
    "            y_val_true_parts_net = pickle.load(f)            \n",
    "\n",
    "with open(os.path.join(depo_path,  \"cut_list_net_Fold_\"+str(i)+\".h5\"), \"rb\") as f:\n",
    "            #pickle.dump(cut_list_net, f)    \n",
    "            cut_list_net = pickle.load(f)    \n",
    "     \n",
    "    \n",
    "    \n",
    "    \n",
    "    \n",
    "    \n",
    "    \n",
    "\n",
    "with open(os.path.join(depo_path,  \"y_val_pred_parts_lgbm_Fold_\"+str(i)+\".h5\"), \"rb\") as f:\n",
    "            #pickle.dump(y_val_pred_parts_net, f)    \n",
    "            y_val_pred_parts_lgbm = pickle.load(f)        \n",
    "\n",
    "with open(os.path.join(depo_path,  \"y_test_preds_lgbm_Fold_\"+str(i)+\".h5\"), \"rb\") as f:\n",
    "            #pickle.dump(y_test_preds_net, f)    \n",
    "            y_test_preds_lgbm = pickle.load(f)            \n",
    "\n",
    "with open(os.path.join(depo_path,  \"y_val_true_parts_lgbm_Fold_\"+str(i)+\".h5\"), \"rb\") as f:\n",
    "            #pickle.dump(y_val_true_parts_net, f)   \n",
    "            y_val_true_parts_lgbm = pickle.load(f)            \n",
    "\n",
    "with open(os.path.join(depo_path,  \"cut_list_lgbm_Fold_\"+str(i)+\".h5\"), \"rb\") as f:\n",
    "            #pickle.dump(cut_list_net, f)    \n",
    "            cut_list_lgbm = pickle.load(f)    \n",
    "\n",
    "\n",
    "\n",
    "\n",
    "\n",
    "            \n",
    "with open(os.path.join(depo_path,  \"y_val_pred_parts_lgbm2_Fold_\"+str(i)+\".h5\"), \"rb\") as f:\n",
    "            #pickle.dump(y_val_pred_parts_net, f)    \n",
    "            y_val_pred_parts_lgbm2 = pickle.load(f)        \n",
    "\n",
    "with open(os.path.join(depo_path,  \"y_test_preds_lgbm2_Fold_\"+str(i)+\".h5\"), \"rb\") as f:\n",
    "            #pickle.dump(y_test_preds_net, f)    \n",
    "            y_test_preds_lgbm2 = pickle.load(f)            \n",
    "\n",
    "with open(os.path.join(depo_path,  \"y_val_true_parts_lgbm2_Fold_\"+str(i)+\".h5\"), \"rb\") as f:\n",
    "            #pickle.dump(y_val_true_parts_net, f)   \n",
    "            y_val_true_parts_lgbm2 = pickle.load(f)            \n",
    "\n",
    "with open(os.path.join(depo_path,  \"cut_list_lgbm2_Fold_\"+str(i)+\".h5\"), \"rb\") as f:\n",
    "            #pickle.dump(cut_list_net, f)    \n",
    "            cut_list_lgbm2 = pickle.load(f)    \n",
    "            "
   ]
  },
  {
   "cell_type": "code",
   "execution_count": 4,
   "id": "83807d0c",
   "metadata": {},
   "outputs": [
    {
     "name": "stdout",
     "output_type": "stream",
     "text": [
      "\n"
     ]
    }
   ],
   "source": [
    "print()"
   ]
  },
  {
   "cell_type": "code",
   "execution_count": 5,
   "id": "c0c9c8bc",
   "metadata": {},
   "outputs": [],
   "source": [
    "def get_lgbm_result_level2(x, y, test_enc):\n",
    "    global cls_model\n",
    "    \n",
    "    \n",
    "    \n",
    "    train_enc, train_y, val_enc, val_y = x[:400000], y[:400000], x[400000:], y[400000:]\n",
    "    \n",
    "    \n",
    "    params = {\n",
    "        \"boosting_type\": \"gbdt\", # gbdt goss\n",
    "        \"objective\": \"binary\",\n",
    "        \"metric\": \"auc\",\n",
    "        \"learning_rate\": 0.001,  # 0.003,\n",
    "        \"n_jobs\": 8,\n",
    "        \"seed\": 15,\n",
    "        \"max_depth\": 5,\n",
    "        \"verbose\": -1,\n",
    "    }\n",
    "\n",
    "   \n",
    "    \n",
    "    \n",
    "    dtrain = lgb.Dataset(\n",
    "        data=train_enc, label=train_y, free_raw_data=False\n",
    "    )\n",
    "    dvalid = lgb.Dataset(\n",
    "        data=val_enc,  label=val_y, free_raw_data=False\n",
    "    )\n",
    "\n",
    "  \n",
    "    \n",
    "    \n",
    "    def lgboost_optimize_params(num_leaves, \n",
    "                                feature_fraction, \n",
    "                                bagging_fraction,\n",
    "                                max_depth,\n",
    "                               ):\n",
    "\n",
    "        params[\"num_leaves\"] = int(num_leaves)\n",
    "        params[\"feature_fraction\"] = feature_fraction\n",
    "        params[\"bagging_fraction\"] = bagging_fraction\n",
    "        params[\"max_depth\"] = int(max_depth)       \n",
    "        \n",
    "        \n",
    "        \n",
    "\n",
    "        model = lgb.train(\n",
    "            params=params,\n",
    "            train_set=dtrain,\n",
    "            num_boost_round=50, #1500,\n",
    "            valid_sets=[dtrain, dvalid],\n",
    "            categorical_feature=\"auto\",\n",
    "            early_stopping_rounds=250,\n",
    "            #verbose_eval=10,\n",
    "            verbose_eval=False,\n",
    "        )\n",
    "       \n",
    "        \n",
    "        \n",
    "        return roc_auc_score(val_y, model.predict(val_enc))\n",
    "\n",
    "    \n",
    "\n",
    "\n",
    "    \n",
    "    params_search={\n",
    "                    'num_leaves': (24, 45),\n",
    "                    'feature_fraction': (0.1, 0.8),\n",
    "                    'bagging_fraction': (0.8, 1),\n",
    "                    'max_depth': (4, 13),\n",
    "                   }\n",
    "    \n",
    "  \n",
    "    \n",
    "    \n",
    "    \n",
    "    lgb_params_search = BayesianOptimization(\n",
    "        lgboost_optimize_params,\n",
    "        pbounds=params_search,\n",
    "        random_state=42\n",
    "    )\n",
    "    lgb_params_search.maximize(\n",
    "        init_points=5, n_iter=5 #, acq='ei'\n",
    "    )                                                    \n",
    "                                                    \n",
    "    optimal_lgb_params = lgb_params_search.max                                                \n",
    "\n",
    "    print(optimal_lgb_params['params'])\n",
    "    \n",
    "    \n",
    "    \n",
    "    for key in optimal_lgb_params['params']:\n",
    "        print(key, optimal_lgb_params['params'][key])\n",
    "        params[key] = optimal_lgb_params['params'][key]\n",
    "    print()\n",
    "    \n",
    "    params['max_depth'] = int((params['max_depth']).round())\n",
    "    params['num_leaves'] = int((params['num_leaves']).round())\n",
    "    print('================new params==================')\n",
    "    print(params)    \n",
    "    \n",
    "   \n",
    "    \n",
    "    \n",
    "    \n",
    "    \n",
    "    \n",
    "    \n",
    "    \n",
    "    \n",
    "    cls_model = lgb.train(\n",
    "        params=params,\n",
    "        train_set=dtrain,\n",
    "        num_boost_round=7500,  #00,\n",
    "        valid_sets=[dtrain, dvalid],\n",
    "        categorical_feature=\"auto\",\n",
    "        early_stopping_rounds=300,\n",
    "        verbose_eval=100,\n",
    "        #verbose_eval=False,\n",
    "    )\n",
    "\n",
    "    #ypred_train = cls_model.predict(train_enc)\n",
    "    ypred_valid = cls_model.predict(val_enc)\n",
    "    ypred_test = cls_model.predict(test_enc)\n",
    "\n",
    "\n",
    "    print('roc_auc_score:', roc_auc_score(val_y, ypred_valid))\n",
    "    print('lgb pass ==========================================')\n",
    "    print()\n",
    "    \n",
    "    return ypred_valid, ypred_test    "
   ]
  },
  {
   "cell_type": "code",
   "execution_count": 6,
   "id": "7880c386",
   "metadata": {},
   "outputs": [],
   "source": [
    "def get_summary(cut_list, y_val_pred_list, y_test_preds_list, y_val_true_list, dataset_test): #   \n",
    "    \n",
    "    #dataset_test = None\n",
    "    y_val_pred_parts, y_test_preds, y_val_true_parts = y_val_pred_list.copy(), y_test_preds_list.copy(), y_val_true_list.copy()\n",
    "    \n",
    "    \n",
    "    \n",
    "\n",
    "    k_list=[]\n",
    "    for i in range(len(cut_list)):\n",
    "        k = 0.5/cut_list[i]\n",
    "        k_list.append(k)\n",
    "\n",
    "    print(k_list)\n",
    "\n",
    "\n",
    "\n",
    "    for i in range(len(y_val_pred_parts)):\n",
    "        y_val_pred_parts[i] = y_val_pred_parts[i]*k_list[i]\n",
    "\n",
    "    for i in range(len(y_test_preds)):\n",
    "        y_test_preds[i] = y_test_preds[i]*k_list[i]\n",
    "\n",
    "\n",
    "\n",
    "    y_end  =y_test_preds[0]\n",
    "    y      =y_val_true_parts[0].reshape(-1,1)\n",
    "    y_vpred=y_val_pred_parts[0].reshape(-1,1)\n",
    "\n",
    "\n",
    "    for i in range(1,len(y_val_true_parts)):\n",
    "        y_val_true_parts[i]=y_val_true_parts[i].reshape(-1,1)\n",
    "        y_val_pred_parts[i]=y_val_pred_parts[i].reshape(-1,1)  \n",
    "        y=np.vstack((y,y_val_true_parts[i]))\n",
    "        y_vpred=np.vstack((y_vpred,y_val_pred_parts[i]))  \n",
    "\n",
    "\n",
    "        \n",
    "    for i in range(1,len(y_test_preds)):\n",
    "        y_end         = y_end*y_test_preds[i]\n",
    "    y_end      = y_end**(1/len(y_test_preds))\n",
    "\n",
    "\n",
    "    if dataset_test is None:\n",
    "        test_preds = None\n",
    "        pass\n",
    "    else:\n",
    "\n",
    "        test_generator = batches_generator(dataset_test, batch_size=128, shuffle=False,\n",
    "                                           is_train=False, output_format=\"tf\")\n",
    "\n",
    "\n",
    "        ids=[]\n",
    "        for _, batch_ids in test_generator:\n",
    "            ids.extend(batch_ids)\n",
    "\n",
    "        test_preds = pd.DataFrame({\"id\": ids, \"score\": y_end})\n",
    "    \n",
    "    print('Final ROC AUC:    ', roc_auc_score(y, y_vpred))\n",
    "    \n",
    "    return y, y_vpred, test_preds"
   ]
  },
  {
   "cell_type": "code",
   "execution_count": 7,
   "id": "5462e8a2",
   "metadata": {},
   "outputs": [],
   "source": [
    "def get_dics_results(models_dic):\n",
    "    models_list = list(models_dic.keys())\n",
    "    result_dic ={}\n",
    "    for n in [4,3,2]:\n",
    "        for i in combinations(models_list, n):\n",
    "            result_1 = 1\n",
    "            result_2 = 0\n",
    "            name1 = 'mul_'\n",
    "            name2 = 'sum_'        \n",
    "            for j in i:\n",
    "                result_1 = result_1 * models_dic[j]\n",
    "                result_2 = result_2 + models_dic[j]            \n",
    "                name1 = name1 + j +'_'\n",
    "                name2 = name2 + j +'_'    \n",
    "                \n",
    "            result_1 = (result_1)**(1/len(i))   \n",
    "            result_2 = result_2 / len(i)  \n",
    "            #print(i) # ab ac ad bc bd cd       \n",
    "            #print(name1, ':', result_1)\n",
    "            #print(name2, ':', result_2)\n",
    "            result_dic[name1] = result_1\n",
    "            result_dic[name2] = result_2\n",
    "\n",
    "\n",
    "            #print('=====================================')\n",
    "    z = result_dic.update(models_dic)\n",
    "    return result_dic\n",
    "\n",
    "\n",
    "def get_scores(y_valid, result_dic):\n",
    "    scores_dic ={}\n",
    "    best = 0.\n",
    "    for i in result_dic:        \n",
    "        scor  = roc_auc_score(y_valid, result_dic[i])\n",
    "        scores_dic[i] = scor\n",
    "        if scor > best:\n",
    "            best = scor\n",
    "            name = i   \n",
    "        #print(i, result_dic[i])\n",
    "    #print()    \n",
    "    #print(name, best)\n",
    "    return name, scores_dic"
   ]
  },
  {
   "cell_type": "code",
   "execution_count": 8,
   "id": "69d9924e",
   "metadata": {
    "scrolled": false
   },
   "outputs": [
    {
     "name": "stdout",
     "output_type": "stream",
     "text": [
      "mul_lstm_st1_lstm_st2_ 0.7877827284819685\n",
      "{'mul_lstm_st1_lstm_st2_net_st1_net_st2_': 0.7874302453893292, 'sum_lstm_st1_lstm_st2_net_st1_net_st2_': 0.7875082834300686, 'mul_lstm_st1_lstm_st2_net_st1_': 0.7874371927700773, 'sum_lstm_st1_lstm_st2_net_st1_': 0.7874769743875492, 'mul_lstm_st1_lstm_st2_net_st2_': 0.7873013550018668, 'sum_lstm_st1_lstm_st2_net_st2_': 0.7873748206481088, 'mul_lstm_st1_net_st1_net_st2_': 0.7867662941438007, 'sum_lstm_st1_net_st1_net_st2_': 0.7868088785925528, 'mul_lstm_st2_net_st1_net_st2_': 0.7867094219983816, 'sum_lstm_st2_net_st1_net_st2_': 0.7868156756536798, 'mul_lstm_st1_lstm_st2_': 0.7877827284819685, 'sum_lstm_st1_lstm_st2_': 0.7877819156720556, 'mul_lstm_st1_net_st1_': 0.7855003380019571, 'sum_lstm_st1_net_st1_': 0.785461193529263, 'mul_lstm_st1_net_st2_': 0.7867670624795098, 'sum_lstm_st1_net_st2_': 0.7868370718903069, 'mul_lstm_st2_net_st1_': 0.7867505185538747, 'sum_lstm_st2_net_st1_': 0.7868033685734412, 'mul_lstm_st2_net_st2_': 0.7854435226049844, 'sum_lstm_st2_net_st2_': 0.7855216774901377, 'mul_net_st1_net_st2_': 0.7855546874716992, 'sum_net_st1_net_st2_': 0.7855810055999279, 'lstm_st1': 0.7857269951232482, 'lstm_st2': 0.7856896031573559, 'net_st1': 0.7818612151462768, 'net_st2': 0.7828422524017952}\n",
      "\n",
      "Fold: 0 pass. Time 2.8932645320892334 sec.\n",
      "=======================================================================================================\n",
      "\n",
      "\n",
      "mul_lstm_st1_lstm_st2_ 0.7910344630133903\n",
      "{'mul_lstm_st1_lstm_st2_net_st1_net_st2_': 0.7904495589894901, 'sum_lstm_st1_lstm_st2_net_st1_net_st2_': 0.7905425168106475, 'mul_lstm_st1_lstm_st2_net_st1_': 0.7906999107926638, 'sum_lstm_st1_lstm_st2_net_st1_': 0.7907266010736755, 'mul_lstm_st1_lstm_st2_net_st2_': 0.7901169616796165, 'sum_lstm_st1_lstm_st2_net_st2_': 0.790318608225353, 'mul_lstm_st1_net_st1_net_st2_': 0.7900299235292207, 'sum_lstm_st1_net_st1_net_st2_': 0.7900702303867442, 'mul_lstm_st2_net_st1_net_st2_': 0.7892147015688658, 'sum_lstm_st2_net_st1_net_st2_': 0.789334143573383, 'mul_lstm_st1_lstm_st2_': 0.7910344630133903, 'sum_lstm_st1_lstm_st2_': 0.7910262570559677, 'mul_lstm_st1_net_st1_': 0.7889117196023603, 'sum_lstm_st1_net_st1_': 0.7889710336490864, 'mul_lstm_st1_net_st2_': 0.7897878088045329, 'sum_lstm_st1_net_st2_': 0.7900066719668853, 'mul_lstm_st2_net_st1_': 0.7896687626408825, 'sum_lstm_st2_net_st1_': 0.7896553197707121, 'mul_lstm_st2_net_st2_': 0.787241975336464, 'sum_lstm_st2_net_st2_': 0.7874246578814114, 'mul_net_st1_net_st2_': 0.7882716164984057, 'sum_net_st1_net_st2_': 0.788342970585755, 'lstm_st1': 0.7891890970318771, 'lstm_st2': 0.7878936453138599, 'net_st1': 0.7852172048423748, 'net_st2': 0.7841020168005646}\n",
      "\n",
      "Fold: 1 pass. Time 2.8852834701538086 sec.\n",
      "=======================================================================================================\n",
      "\n",
      "\n",
      "mul_lstm_st1_lstm_st2_ 0.7862696927703807\n",
      "{'mul_lstm_st1_lstm_st2_net_st1_net_st2_': 0.786207969219749, 'sum_lstm_st1_lstm_st2_net_st1_net_st2_': 0.7860095980650441, 'mul_lstm_st1_lstm_st2_net_st1_': 0.7861097981182724, 'sum_lstm_st1_lstm_st2_net_st1_': 0.7858452893661818, 'mul_lstm_st1_lstm_st2_net_st2_': 0.7858862413901568, 'sum_lstm_st1_lstm_st2_net_st2_': 0.7855916627689601, 'mul_lstm_st1_net_st1_net_st2_': 0.7854372300924733, 'sum_lstm_st1_net_st1_net_st2_': 0.7852863561468225, 'mul_lstm_st2_net_st1_net_st2_': 0.7855446381926712, 'sum_lstm_st2_net_st1_net_st2_': 0.7854078891966332, 'mul_lstm_st1_lstm_st2_': 0.7862696927703807, 'sum_lstm_st1_lstm_st2_': 0.786185835258427, 'mul_lstm_st1_net_st1_': 0.7837443110190123, 'sum_lstm_st1_net_st1_': 0.7835746679585536, 'mul_lstm_st1_net_st2_': 0.785270882111957, 'sum_lstm_st1_net_st2_': 0.7848964407904447, 'mul_lstm_st2_net_st1_': 0.7858221303606991, 'sum_lstm_st2_net_st1_': 0.7854952951095202, 'mul_lstm_st2_net_st2_': 0.7834677576007296, 'sum_lstm_st2_net_st2_': 0.7832211219636054, 'mul_net_st1_net_st2_': 0.7843719830641023, 'sum_net_st1_net_st2_': 0.784275193785723, 'lstm_st1': 0.7835246502533153, 'lstm_st2': 0.7838760466750359, 'net_st1': 0.781169414072427, 'net_st2': 0.7796228692391338}\n",
      "\n",
      "Fold: 2 pass. Time 2.8703267574310303 sec.\n",
      "=======================================================================================================\n",
      "\n",
      "\n",
      "sum_lstm_st1_lstm_st2_ 0.7869022596627303\n",
      "{'mul_lstm_st1_lstm_st2_net_st1_net_st2_': 0.7866247307743454, 'sum_lstm_st1_lstm_st2_net_st1_net_st2_': 0.7867604006419974, 'mul_lstm_st1_lstm_st2_net_st1_': 0.7861055025809227, 'sum_lstm_st1_lstm_st2_net_st1_': 0.7862363329011874, 'mul_lstm_st1_lstm_st2_net_st2_': 0.7865848552822032, 'sum_lstm_st1_lstm_st2_net_st2_': 0.7867750965279581, 'mul_lstm_st1_net_st1_net_st2_': 0.7861027086887107, 'sum_lstm_st1_net_st1_net_st2_': 0.7862115236165967, 'mul_lstm_st2_net_st1_net_st2_': 0.7856957181511763, 'sum_lstm_st2_net_st1_net_st2_': 0.7858708086875509, 'mul_lstm_st1_lstm_st2_': 0.7869003141818072, 'sum_lstm_st1_lstm_st2_': 0.7869022596627303, 'mul_lstm_st1_net_st1_': 0.7837191473409093, 'sum_lstm_st1_net_st1_': 0.7839470776949633, 'mul_lstm_st1_net_st2_': 0.7862197875077003, 'sum_lstm_st1_net_st2_': 0.7864380831991076, 'mul_lstm_st2_net_st1_': 0.7848645190609878, 'sum_lstm_st2_net_st1_': 0.7850372336902967, 'mul_lstm_st2_net_st2_': 0.7843001189041878, 'sum_lstm_st2_net_st2_': 0.7844714939452286, 'mul_net_st1_net_st2_': 0.7847020285067008, 'sum_net_st1_net_st2_': 0.7848351553217003, 'lstm_st1': 0.7850869724685807, 'lstm_st2': 0.7841306437809422, 'net_st1': 0.7779516482887016, 'net_st2': 0.7812373472850551}\n",
      "\n",
      "Fold: 3 pass. Time 2.8853108882904053 sec.\n",
      "=======================================================================================================\n",
      "\n",
      "\n",
      "mul_lstm_st1_lstm_st2_ 0.7881991565550972\n",
      "{'mul_lstm_st1_lstm_st2_net_st1_net_st2_': 0.7874208661433719, 'sum_lstm_st1_lstm_st2_net_st1_net_st2_': 0.7874286066639777, 'mul_lstm_st1_lstm_st2_net_st1_': 0.7876110817411011, 'sum_lstm_st1_lstm_st2_net_st1_': 0.7877088651208208, 'mul_lstm_st1_lstm_st2_net_st2_': 0.7875194061321302, 'sum_lstm_st1_lstm_st2_net_st2_': 0.7874298374104245, 'mul_lstm_st1_net_st1_net_st2_': 0.7865622652171017, 'sum_lstm_st1_net_st1_net_st2_': 0.7866266076263595, 'mul_lstm_st2_net_st1_net_st2_': 0.7864496361179555, 'sum_lstm_st2_net_st1_net_st2_': 0.7864164816088359, 'mul_lstm_st1_lstm_st2_': 0.7881991565550972, 'sum_lstm_st1_lstm_st2_': 0.7881592192159095, 'mul_lstm_st1_net_st1_': 0.7855438597164636, 'sum_lstm_st1_net_st1_': 0.7856580353876813, 'mul_lstm_st1_net_st2_': 0.7869400994290371, 'sum_lstm_st1_net_st2_': 0.7868186679074625, 'mul_lstm_st2_net_st1_': 0.786869171760264, 'sum_lstm_st2_net_st1_': 0.7869824846960964, 'mul_lstm_st2_net_st2_': 0.7852666899352857, 'sum_lstm_st2_net_st2_': 0.7851926898688735, 'mul_net_st1_net_st2_': 0.7848131442299546, 'sum_net_st1_net_st2_': 0.784822017110702, 'lstm_st1': 0.786201273495799, 'lstm_st2': 0.7858170608510333, 'net_st1': 0.7821523533979111, 'net_st2': 0.7818646706450582}\n",
      "\n",
      "Fold: 4 pass. Time 2.874314785003662 sec.\n",
      "=======================================================================================================\n",
      "\n",
      "\n",
      "sum_lstm_st1_lstm_st2_net_st1_net_st2_ 0.7888249825783511\n",
      "{'mul_lstm_st1_lstm_st2_net_st1_net_st2_': 0.7887970102494497, 'sum_lstm_st1_lstm_st2_net_st1_net_st2_': 0.7888249825783511, 'mul_lstm_st1_lstm_st2_net_st1_': 0.7884685811838039, 'sum_lstm_st1_lstm_st2_net_st1_': 0.7884666385386494, 'mul_lstm_st1_lstm_st2_net_st2_': 0.788512964956325, 'sum_lstm_st1_lstm_st2_net_st2_': 0.788556011224026, 'mul_lstm_st1_net_st1_net_st2_': 0.7883510590936379, 'sum_lstm_st1_net_st1_net_st2_': 0.7883755312644237, 'mul_lstm_st2_net_st1_net_st2_': 0.7879878336724423, 'sum_lstm_st2_net_st1_net_st2_': 0.78801845852266, 'mul_lstm_st1_lstm_st2_': 0.7886768611142496, 'sum_lstm_st1_lstm_st2_': 0.7887215896028864, 'mul_lstm_st1_net_st1_': 0.7860729565648148, 'sum_lstm_st1_net_st1_': 0.7860618890072955, 'mul_lstm_st1_net_st2_': 0.7884474179417558, 'sum_lstm_st1_net_st2_': 0.7884519267719367, 'mul_lstm_st2_net_st1_': 0.7876571057654731, 'sum_lstm_st2_net_st1_': 0.7876377051047325, 'mul_lstm_st2_net_st2_': 0.7861034244685529, 'sum_lstm_st2_net_st2_': 0.7860927613863299, 'mul_net_st1_net_st2_': 0.7874081019191694, 'sum_net_st1_net_st2_': 0.7873825002212388, 'lstm_st1': 0.7864916097269006, 'lstm_st2': 0.785377108241579, 'net_st1': 0.7818442318958214, 'net_st2': 0.7843490729437999}\n",
      "\n"
     ]
    },
    {
     "name": "stdout",
     "output_type": "stream",
     "text": [
      "Fold: 5 pass. Time 2.875286817550659 sec.\n",
      "=======================================================================================================\n",
      "\n",
      "\n",
      "sum_lstm_st1_lstm_st2_ 0.7876858983590864\n",
      "{'mul_lstm_st1_lstm_st2_net_st1_net_st2_': 0.787194725315111, 'sum_lstm_st1_lstm_st2_net_st1_net_st2_': 0.7869634805876318, 'mul_lstm_st1_lstm_st2_net_st1_': 0.7874938106015603, 'sum_lstm_st1_lstm_st2_net_st1_': 0.787351159410404, 'mul_lstm_st1_lstm_st2_net_st2_': 0.7868930866605635, 'sum_lstm_st1_lstm_st2_net_st2_': 0.7865726509076771, 'mul_lstm_st1_net_st1_net_st2_': 0.7865650229162453, 'sum_lstm_st1_net_st1_net_st2_': 0.7863366692955975, 'mul_lstm_st2_net_st1_net_st2_': 0.7859829957802116, 'sum_lstm_st2_net_st1_net_st2_': 0.7857870234735854, 'mul_lstm_st1_lstm_st2_': 0.787673351721085, 'sum_lstm_st1_lstm_st2_': 0.7876858983590864, 'mul_lstm_st1_net_st1_': 0.7856019141734218, 'sum_lstm_st1_net_st1_': 0.7854738830355242, 'mul_lstm_st1_net_st2_': 0.7865208495374103, 'sum_lstm_st1_net_st2_': 0.7860620532199046, 'mul_lstm_st2_net_st1_': 0.7867518022434837, 'sum_lstm_st2_net_st1_': 0.7866087437093591, 'mul_lstm_st2_net_st2_': 0.7837825486805694, 'sum_lstm_st2_net_st2_': 0.7834880401889793, 'mul_net_st1_net_st2_': 0.7846070791873465, 'sum_net_st1_net_st2_': 0.7844309849011961, 'lstm_st1': 0.7858264661372864, 'lstm_st2': 0.7844436304088502, 'net_st1': 0.7826120792708716, 'net_st2': 0.7795668066513302}\n",
      "\n",
      "Fold: 6 pass. Time 2.882288932800293 sec.\n",
      "=======================================================================================================\n",
      "\n",
      "\n"
     ]
    }
   ],
   "source": [
    "\n",
    "\n",
    "y_val_true_parts_final  =[] \n",
    "y_val_pred_parts_final  =[] \n",
    "y_test_preds_final      =[] \n",
    "scors_list_final        =[]\n",
    "cut_list_final          =[]\n",
    "\n",
    "\n",
    "\n",
    "\n",
    "\n",
    "m=7\n",
    "for i in range(m):\n",
    "    \n",
    "    start = time.time()\n",
    " \n",
    "    \n",
    "    y_val_lstm_st1 = y_val_pred_parts_lgbm[i]\n",
    "    y_val_lstm_st2 = y_val_pred_parts_lgbm2[i]\n",
    "    y_val_net_st1 = y_val_pred_parts_net[i]\n",
    "    y_val_net_st2 = y_val_pred_parts_net2[i]\n",
    "    \n",
    "    val_y = y_val_true_parts_net2[i]\n",
    "    \n",
    " \n",
    "\n",
    "    y_test_lstm_st1 = y_test_preds_lgbm[i]\n",
    "    y_test_lstm_st2 = y_test_preds_lgbm2[i]\n",
    "    y_test_net_st1 = y_test_preds_net[i]\n",
    "    y_test_net_st2 = y_test_preds_net2[i]\n",
    "\n",
    "\n",
    "\n",
    "    \"\"\"\n",
    "    a = y_val_lstm_st1.reshape(-1,1)\n",
    "    b = y_val_lstm_st2.reshape(-1,1)\n",
    "    c = y_val_net_st1.reshape(-1,1)\n",
    "    d = y_val_net_st2.reshape(-1,1)\n",
    "    \n",
    "    y_val_level2 = np.hstack((a,b,c,d))\n",
    "\n",
    "    \n",
    "    a = y_test_lstm_st1.reshape(-1,1)\n",
    "    b = y_test_lstm_st2.reshape(-1,1)\n",
    "    c = y_test_net_st1.reshape(-1,1)\n",
    "    d = y_test_net_st1.reshape(-1,1)\n",
    "    \n",
    "    y_test_level2 = np.hstack((a,b,c,d))\n",
    "    \n",
    "    \"\"\"\n",
    "\n",
    "\n",
    "\n",
    "    \n",
    "\n",
    "    models_dic = {'lstm_st1':y_val_lstm_st1, 'lstm_st2':y_val_lstm_st2, 'net_st1':y_val_net_st1, 'net_st2':y_val_net_st2,}\n",
    "    valid_data_dic = get_dics_results(models_dic)\n",
    "    \n",
    "    name, scores_dic = get_scores(val_y, valid_data_dic)\n",
    "    \n",
    "    \n",
    "    print(name,  scores_dic[name])    \n",
    "    print(scores_dic)    \n",
    "    print()\n",
    "    \n",
    "    models_dic = {'lstm_st1':y_test_lstm_st1, 'lstm_st2':y_test_lstm_st2, 'net_st1':y_test_net_st1, 'net_st2':y_test_net_st2,}\n",
    "    test_data_dic = get_dics_results(models_dic)\n",
    "\n",
    "\n",
    "      \n",
    "\n",
    "    \n",
    "    fpr, tpr, thresholds = metrics.roc_curve(val_y, valid_data_dic[name], pos_label=1)\n",
    "    optimal_idx = np.argmax(tpr - fpr)\n",
    "    optimal_threshold = thresholds[optimal_idx]\n",
    "    optimal_threshold\n",
    "\n",
    "    \n",
    "    \n",
    "    \n",
    "    \n",
    "    cut_list_final.append(optimal_threshold)     \n",
    "    y_val_true_parts_final.append(val_y)\n",
    "    y_val_pred_parts_final.append(valid_data_dic[name])\n",
    "    y_test_preds_final.append(test_data_dic[name])         \n",
    "            \n",
    "    scors_list_final.append(scores_dic[name])        \n",
    "            \n",
    "            \n",
    "            \n",
    "\n",
    "            \n",
    "    #ypred_valid_lgbm_level2, ypred_test_lgbm_level2 = get_lgbm_result_level2(y_val_level2,  val_y, y_test_level2)            \n",
    "            \n",
    "            \n",
    "            \n",
    "            \n",
    "            \n",
    "\n",
    "\n",
    "\n",
    "    end = time.time()\n",
    "    duration = end - start    \n",
    "\n",
    "    print('Fold:', i , 'pass. Time', duration,  'sec.')    \n",
    "    print('=======================================================================================================')\n",
    "    print()\n",
    "    print()    \n"
   ]
  },
  {
   "cell_type": "code",
   "execution_count": 9,
   "id": "3d75dac4",
   "metadata": {},
   "outputs": [
    {
     "data": {
      "text/plain": [
       "[0.7877827284819685,\n",
       " 0.7910344630133903,\n",
       " 0.7862696927703807,\n",
       " 0.7869022596627303,\n",
       " 0.7881991565550972,\n",
       " 0.7888249825783511,\n",
       " 0.7876858983590864]"
      ]
     },
     "execution_count": 9,
     "metadata": {},
     "output_type": "execute_result"
    }
   ],
   "source": [
    "scors_list_final"
   ]
  },
  {
   "cell_type": "code",
   "execution_count": null,
   "id": "34f1095e",
   "metadata": {},
   "outputs": [],
   "source": []
  },
  {
   "cell_type": "code",
   "execution_count": null,
   "id": "0fa06892",
   "metadata": {},
   "outputs": [],
   "source": []
  },
  {
   "cell_type": "code",
   "execution_count": 10,
   "id": "136e3980",
   "metadata": {},
   "outputs": [],
   "source": [
    "del scors_list_final[2]\n",
    "del y_val_pred_parts_final[2]\n",
    "del y_test_preds_final[2]\n",
    "del y_val_true_parts_final[2]"
   ]
  },
  {
   "cell_type": "code",
   "execution_count": null,
   "id": "62f35d8d",
   "metadata": {},
   "outputs": [],
   "source": []
  },
  {
   "cell_type": "code",
   "execution_count": null,
   "id": "48cc63cc",
   "metadata": {},
   "outputs": [],
   "source": []
  },
  {
   "cell_type": "code",
   "execution_count": 11,
   "id": "6b3d0915",
   "metadata": {},
   "outputs": [
    {
     "name": "stdout",
     "output_type": "stream",
     "text": [
      "[0.6346927673363487, 0.6320837123774419, 0.6354029282039451, 0.6343574410626113, 0.633854164159078, 0.6347707900339513]\n",
      "Final ROC AUC:     0.7883729582904153\n"
     ]
    }
   ],
   "source": [
    "y, y_vpred, test_preds = get_summary(scors_list_final, y_val_pred_parts_final, y_test_preds_final, y_val_true_parts_final, dataset_test)\n"
   ]
  },
  {
   "cell_type": "code",
   "execution_count": null,
   "id": "9d787f3f",
   "metadata": {},
   "outputs": [],
   "source": []
  },
  {
   "cell_type": "code",
   "execution_count": 12,
   "id": "b94abf7c",
   "metadata": {},
   "outputs": [
    {
     "data": {
      "text/plain": [
       "[0.7877827284819685,\n",
       " 0.7910344630133903,\n",
       " 0.7869022596627303,\n",
       " 0.7881991565550972,\n",
       " 0.7888249825783511,\n",
       " 0.7876858983590864]"
      ]
     },
     "execution_count": 12,
     "metadata": {},
     "output_type": "execute_result"
    }
   ],
   "source": [
    "scors_list_final"
   ]
  },
  {
   "cell_type": "code",
   "execution_count": 13,
   "id": "8f5af1c6",
   "metadata": {},
   "outputs": [
    {
     "data": {
      "text/html": [
       "<div>\n",
       "<style scoped>\n",
       "    .dataframe tbody tr th:only-of-type {\n",
       "        vertical-align: middle;\n",
       "    }\n",
       "\n",
       "    .dataframe tbody tr th {\n",
       "        vertical-align: top;\n",
       "    }\n",
       "\n",
       "    .dataframe thead th {\n",
       "        text-align: right;\n",
       "    }\n",
       "</style>\n",
       "<table border=\"1\" class=\"dataframe\">\n",
       "  <thead>\n",
       "    <tr style=\"text-align: right;\">\n",
       "      <th></th>\n",
       "      <th>id</th>\n",
       "      <th>score</th>\n",
       "    </tr>\n",
       "  </thead>\n",
       "  <tbody>\n",
       "    <tr>\n",
       "      <th>0</th>\n",
       "      <td>3000014</td>\n",
       "      <td>0.013921</td>\n",
       "    </tr>\n",
       "    <tr>\n",
       "      <th>1</th>\n",
       "      <td>3000020</td>\n",
       "      <td>0.103242</td>\n",
       "    </tr>\n",
       "    <tr>\n",
       "      <th>2</th>\n",
       "      <td>3000027</td>\n",
       "      <td>0.022918</td>\n",
       "    </tr>\n",
       "    <tr>\n",
       "      <th>3</th>\n",
       "      <td>3000043</td>\n",
       "      <td>0.054062</td>\n",
       "    </tr>\n",
       "    <tr>\n",
       "      <th>4</th>\n",
       "      <td>3000049</td>\n",
       "      <td>0.015000</td>\n",
       "    </tr>\n",
       "    <tr>\n",
       "      <th>...</th>\n",
       "      <td>...</td>\n",
       "      <td>...</td>\n",
       "    </tr>\n",
       "    <tr>\n",
       "      <th>499995</th>\n",
       "      <td>3286660</td>\n",
       "      <td>0.012019</td>\n",
       "    </tr>\n",
       "    <tr>\n",
       "      <th>499996</th>\n",
       "      <td>3345810</td>\n",
       "      <td>0.016873</td>\n",
       "    </tr>\n",
       "    <tr>\n",
       "      <th>499997</th>\n",
       "      <td>3434512</td>\n",
       "      <td>0.020850</td>\n",
       "    </tr>\n",
       "    <tr>\n",
       "      <th>499998</th>\n",
       "      <td>3000786</td>\n",
       "      <td>0.013165</td>\n",
       "    </tr>\n",
       "    <tr>\n",
       "      <th>499999</th>\n",
       "      <td>3047012</td>\n",
       "      <td>0.011500</td>\n",
       "    </tr>\n",
       "  </tbody>\n",
       "</table>\n",
       "<p>500000 rows × 2 columns</p>\n",
       "</div>"
      ],
      "text/plain": [
       "             id     score\n",
       "0       3000014  0.013921\n",
       "1       3000020  0.103242\n",
       "2       3000027  0.022918\n",
       "3       3000043  0.054062\n",
       "4       3000049  0.015000\n",
       "...         ...       ...\n",
       "499995  3286660  0.012019\n",
       "499996  3345810  0.016873\n",
       "499997  3434512  0.020850\n",
       "499998  3000786  0.013165\n",
       "499999  3047012  0.011500\n",
       "\n",
       "[500000 rows x 2 columns]"
      ]
     },
     "execution_count": 13,
     "metadata": {},
     "output_type": "execute_result"
    }
   ],
   "source": [
    "#test_preds.to_csv('./test_preds_5cut.csv', index=False)\n",
    "test_preds"
   ]
  },
  {
   "cell_type": "code",
   "execution_count": 14,
   "id": "3d3ffdb0",
   "metadata": {},
   "outputs": [
    {
     "data": {
      "text/plain": [
       "6"
      ]
     },
     "execution_count": 14,
     "metadata": {},
     "output_type": "execute_result"
    }
   ],
   "source": [
    "len(y_val_true_parts_final)"
   ]
  },
  {
   "cell_type": "code",
   "execution_count": null,
   "id": "1575ca3f",
   "metadata": {},
   "outputs": [],
   "source": []
  },
  {
   "cell_type": "code",
   "execution_count": null,
   "id": "59e50e67",
   "metadata": {},
   "outputs": [],
   "source": []
  },
  {
   "cell_type": "code",
   "execution_count": 23,
   "id": "6390e8e6",
   "metadata": {},
   "outputs": [],
   "source": [
    "del scors_list_final[-1]\n",
    "del y_val_pred_parts_final[-1]\n",
    "del y_test_preds_final[-1]\n",
    "del y_val_true_parts_final[-1]"
   ]
  },
  {
   "cell_type": "code",
   "execution_count": 24,
   "id": "cf9a54db",
   "metadata": {},
   "outputs": [
    {
     "data": {
      "text/plain": [
       "[0.7877827284819685,\n",
       " 0.7910344630133903,\n",
       " 0.7869022596627303,\n",
       " 0.7881991565550972,\n",
       " 0.7888249825783511]"
      ]
     },
     "execution_count": 24,
     "metadata": {},
     "output_type": "execute_result"
    }
   ],
   "source": [
    "scors_list_final"
   ]
  },
  {
   "cell_type": "code",
   "execution_count": 25,
   "id": "f3e2b325",
   "metadata": {},
   "outputs": [
    {
     "name": "stdout",
     "output_type": "stream",
     "text": [
      "[0.6346927673363487, 0.6320837123774419, 0.6354029282039451, 0.6343574410626113, 0.633854164159078]\n",
      "Final ROC AUC:     0.7885150386667665\n"
     ]
    }
   ],
   "source": [
    "y, y_vpred, test_preds = get_summary(scors_list_final, y_val_pred_parts_final, y_test_preds_final, y_val_true_parts_final, dataset_test)\n"
   ]
  },
  {
   "cell_type": "code",
   "execution_count": null,
   "id": "e7d6ac7b",
   "metadata": {},
   "outputs": [],
   "source": []
  },
  {
   "cell_type": "code",
   "execution_count": null,
   "id": "ddb375ab",
   "metadata": {},
   "outputs": [],
   "source": []
  },
  {
   "cell_type": "code",
   "execution_count": null,
   "id": "4410dcb6",
   "metadata": {},
   "outputs": [],
   "source": []
  },
  {
   "cell_type": "code",
   "execution_count": null,
   "id": "7a92a6bd",
   "metadata": {},
   "outputs": [],
   "source": []
  },
  {
   "cell_type": "code",
   "execution_count": 15,
   "id": "ac96ad5a",
   "metadata": {},
   "outputs": [
    {
     "data": {
      "image/png": "[encoded data removed]",
      "text/plain": [
       "<Figure size 432x288 with 1 Axes>"
      ]
     },
     "metadata": {
      "needs_background": "light"
     },
     "output_type": "display_data"
    }
   ],
   "source": [
    "import matplotlib.pyplot as plt\n",
    "\n",
    "\n",
    "_ = plt.hist(y_vpred, bins='auto')  # arguments are passed to np.histogram\n",
    "plt.title(\"Histogram with 'auto' bins\")\n",
    "\n",
    "plt.show()"
   ]
  },
  {
   "cell_type": "code",
   "execution_count": 16,
   "id": "994588ba",
   "metadata": {},
   "outputs": [
    {
     "data": {
      "image/png": "[encoded data removed]",
      "text/plain": [
       "<Figure size 432x288 with 1 Axes>"
      ]
     },
     "metadata": {
      "needs_background": "light"
     },
     "output_type": "display_data"
    }
   ],
   "source": [
    "_ = plt.hist(y, bins='auto')  # arguments are passed to np.histogram\n",
    "plt.title(\"Histogram with 'auto' bins\")\n",
    "\n",
    "plt.show()"
   ]
  },
  {
   "cell_type": "code",
   "execution_count": 17,
   "id": "073aff4c",
   "metadata": {},
   "outputs": [
    {
     "data": {
      "text/plain": [
       "(0.00019038223224329828, 0.5284241306739998)"
      ]
     },
     "execution_count": 17,
     "metadata": {},
     "output_type": "execute_result"
    }
   ],
   "source": [
    "y_vpred.min(), y_vpred.max()"
   ]
  },
  {
   "cell_type": "code",
   "execution_count": null,
   "id": "5f27d70d",
   "metadata": {},
   "outputs": [],
   "source": []
  }
 ],
 "metadata": {
  "kernelspec": {
   "display_name": "Python 3 (ipykernel)",
   "language": "python",
   "name": "python3"
  },
  "language_info": {
   "codemirror_mode": {
    "name": "ipython",
    "version": 3
   },
   "file_extension": ".py",
   "mimetype": "text/x-python",
   "name": "python",
   "nbconvert_exporter": "python",
   "pygments_lexer": "ipython3",
   "version": "3.9.7"
  }
 },
 "nbformat": 4,
 "nbformat_minor": 5
}
